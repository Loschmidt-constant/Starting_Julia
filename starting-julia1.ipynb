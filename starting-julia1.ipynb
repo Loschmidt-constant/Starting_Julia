{
 "cells": [
  {
   "cell_type": "markdown",
   "metadata": {
    "colab_type": "text",
    "id": "F9h-4DB45k-i"
   },
   "source": [
    "# 数値解析ゼミ 〜Julia入門〜\n",
    "\n",
    "プログラミング言語の一つであるJuliaの基本的な使い方について述べていく．"
   ]
  },
  {
   "cell_type": "markdown",
   "metadata": {
    "colab_type": "text",
    "id": "TOQy-3_n5k-l"
   },
   "source": [
    "このページではたくさんのコードを例示する．\n",
    "\n",
    "コードは基本的には「セル」の中に表示されており，出力がそのすぐ下に表示される．\n",
    "\n",
    "セル内の「\\#」から始まる文章は理解を助けるための“コメント文”であり，Julia本体には読み込まれない．\n",
    "\n",
    "例えば，"
   ]
  },
  {
   "cell_type": "code",
   "execution_count": 117,
   "metadata": {
    "colab": {},
    "colab_type": "code",
    "id": "4iHi9fdx5k-m"
   },
   "outputs": [
    {
     "ename": "LoadError",
     "evalue": "syntax: character literal contains multiple characters",
     "output_type": "error",
     "traceback": [
      "syntax: character literal contains multiple characters",
      "",
      "Stacktrace:",
      " [1] top-level scope",
      "   @ In[117]:4",
      " [2] eval",
      "   @ .\\boot.jl:360 [inlined]",
      " [3] include_string(mapexpr::typeof(REPL.softscope), mod::Module, code::String, filename::String)",
      "   @ Base .\\loading.jl:1116"
     ]
    }
   ],
   "source": [
    "# これは一行目のコメントである\n",
    "spam = 1 # これは二行目のコメントで\n",
    "         # これは3行目のコメントである。\n",
    "text = '# この文章は、クォーテーションの内側にあるためコメントではない。'"
   ]
  },
  {
   "cell_type": "markdown",
   "metadata": {
    "colab_type": "text",
    "id": "Ymp_Wwlr5k-s"
   },
   "source": [
    "このようにして，適宜コメントを残すことができる．\n",
    "実際のITの開発現場ではこのコメント文が大事だったりする（プロジェクトの引き継ぎ時など）．"
   ]
  },
  {
   "cell_type": "markdown",
   "metadata": {},
   "source": [
    "しかし，\n",
    "`text = '# この文章は、クォーテーションの内側にあるためコメントではない。'`\n",
    "の部分はコメント分として機能していないため，エラーが表示されている．\n",
    "\n",
    "こういうときは，文頭に`#`を置いて**コメントアウト**すれば良い．"
   ]
  },
  {
   "cell_type": "code",
   "execution_count": 118,
   "metadata": {
    "scrolled": true
   },
   "outputs": [
    {
     "data": {
      "text/plain": [
       "1"
      ]
     },
     "execution_count": 118,
     "metadata": {},
     "output_type": "execute_result"
    }
   ],
   "source": [
    "# これは一行目のコメントである\n",
    "spam = 1 # これは二行目のコメントで\n",
    "         # これは3行目のコメントである。\n",
    "#text = '# この文章は、クォーテーションの内側にあるためコメントではない。'"
   ]
  },
  {
   "cell_type": "markdown",
   "metadata": {
    "colab_type": "text",
    "id": "Ke4gzqna5k-t"
   },
   "source": [
    "ほらね．コメントアウトしたことで，\n",
    "`text = '# この文章は、クォーテーションの内側にあるためコメントではない。'`\n",
    "の部分はプログラム内で読み込まれなくなった．\n",
    "\n",
    "なお，上の例の二行目は `spam` という変数に数字の1を割り当てるという意味である．\n",
    "（そのため，出力結果に`1`と表示されている．）\n",
    "\n",
    "殆どのプログラミング言語では，このような **変数** を用いることができる．変数は，数字や文字などを保持しておく入れ物のようなものであると考えてもらえればよい．\n",
    "\n",
    "Juliaの変数は\n",
    "\n",
    "+ 英字から始まる好きな文字列を用いることができる\n",
    "+ 大文字と小文字は区別する\n",
    "+ **function** などいくつかの文字列は予約されているため使うことができない\n",
    "+ (UTF-8エンコードを使った)ユニコードの名前を使用可能\n",
    "\n",
    "などが特徴である．"
   ]
  },
  {
   "cell_type": "markdown",
   "metadata": {},
   "source": [
    "ここで，\n",
    "\n",
    "+ (UTF-8エンコードを使った)ユニコードの名前を使用可能\n",
    "\n",
    "の例については，以下を参照．\n",
    "\n",
    "バックスラッシュ`\\`の後にLaTeXのシンボル名とタブキーを入力すれば，ユニコードの数学記号を入力できる．例えば，εという変数名は，`\\varepsilon`と入力後に「tabキー」を打てばよい．"
   ]
  },
  {
   "cell_type": "code",
   "execution_count": 119,
   "metadata": {},
   "outputs": [
    {
     "data": {
      "text/plain": [
       "1.0e-5"
      ]
     },
     "execution_count": 119,
     "metadata": {},
     "output_type": "execute_result"
    }
   ],
   "source": [
    "ε = 0.00001"
   ]
  },
  {
   "cell_type": "markdown",
   "metadata": {},
   "source": [
    "（詳しくは，https://mnru.github.io/julia-doc-ja-v1.0/manual/variables.html\n",
    "など参照．）"
   ]
  },
  {
   "cell_type": "markdown",
   "metadata": {},
   "source": [
    " "
   ]
  },
  {
   "cell_type": "markdown",
   "metadata": {
    "colab_type": "text",
    "id": "vPSrboGT5k-4"
   },
   "source": [
    "## 1. Julia を電卓として使う\n",
    "\n",
    "Juliaは簡単な電卓のように使うことができる．\n",
    "例えば，四則演算は`+`,`-`,`*`, `/`を用いることで計算ができる．"
   ]
  },
  {
   "cell_type": "markdown",
   "metadata": {
    "colab_type": "text",
    "id": "y78-d0Rh5k-6"
   },
   "source": [
    "### 1.1 簡単な四則計算"
   ]
  },
  {
   "cell_type": "code",
   "execution_count": 120,
   "metadata": {
    "colab": {
     "base_uri": "https://localhost:8080/",
     "height": 34
    },
    "colab_type": "code",
    "id": "23XxxNdb5k-7",
    "outputId": "b881a084-6c16-4ad4-8db4-455b21344251"
   },
   "outputs": [
    {
     "data": {
      "text/plain": [
       "4"
      ]
     },
     "execution_count": 120,
     "metadata": {},
     "output_type": "execute_result"
    }
   ],
   "source": [
    "2+2"
   ]
  },
  {
   "cell_type": "code",
   "execution_count": 121,
   "metadata": {
    "colab": {
     "base_uri": "https://localhost:8080/",
     "height": 35
    },
    "colab_type": "code",
    "id": "nbC_c1HB5k--",
    "outputId": "b6845a2e-4ad8-43ce-9c1e-0cd12914d5bf"
   },
   "outputs": [
    {
     "data": {
      "text/plain": [
       "20"
      ]
     },
     "execution_count": 121,
     "metadata": {},
     "output_type": "execute_result"
    }
   ],
   "source": [
    "50-5*6"
   ]
  },
  {
   "cell_type": "code",
   "execution_count": 122,
   "metadata": {
    "colab": {
     "base_uri": "https://localhost:8080/",
     "height": 35
    },
    "colab_type": "code",
    "id": "6VCjOUGe5k_B",
    "outputId": "6763b2f1-a3e4-4eeb-8de0-756db3d6dfc9"
   },
   "outputs": [
    {
     "data": {
      "text/plain": [
       "5.0"
      ]
     },
     "execution_count": 122,
     "metadata": {},
     "output_type": "execute_result"
    }
   ],
   "source": [
    "(50-5*6)/4 "
   ]
  },
  {
   "cell_type": "markdown",
   "metadata": {
    "colab_type": "text",
    "id": "tXTjq_hK5k_E"
   },
   "source": [
    "またJuliaでは指数も簡単に計算できる．"
   ]
  },
  {
   "cell_type": "code",
   "execution_count": 123,
   "metadata": {
    "colab": {
     "base_uri": "https://localhost:8080/",
     "height": 35
    },
    "colab_type": "code",
    "id": "janjqBnX5k_F",
    "outputId": "6ceaa094-8f3c-45ed-c23b-fd25bbd99427"
   },
   "outputs": [
    {
     "data": {
      "text/plain": [
       "25"
      ]
     },
     "execution_count": 123,
     "metadata": {},
     "output_type": "execute_result"
    }
   ],
   "source": [
    "5^2 # 5の２乗"
   ]
  },
  {
   "cell_type": "code",
   "execution_count": 124,
   "metadata": {
    "colab": {
     "base_uri": "https://localhost:8080/",
     "height": 35
    },
    "colab_type": "code",
    "id": "NcDJNfCu5k_I",
    "outputId": "d17ea0fd-a058-4913-a1e3-8070b9e96b03"
   },
   "outputs": [
    {
     "data": {
      "text/plain": [
       "128"
      ]
     },
     "execution_count": 124,
     "metadata": {},
     "output_type": "execute_result"
    }
   ],
   "source": [
    "2^7 # ２の７乗"
   ]
  },
  {
   "cell_type": "markdown",
   "metadata": {
    "colab_type": "text",
    "id": "2DVe91_75k_N"
   },
   "source": [
    "### 1.2 代入演算\n",
    "\n",
    "以下は変数に計算結果を代入する例である．\n",
    "\n",
    "イコール記号`=`は，変数に値を割り当てることを意味する．"
   ]
  },
  {
   "cell_type": "code",
   "execution_count": 125,
   "metadata": {
    "colab": {
     "base_uri": "https://localhost:8080/",
     "height": 34
    },
    "colab_type": "code",
    "id": "AAjusfb35k_O",
    "outputId": "b15599ca-b320-41d2-d109-31f9da89b42b"
   },
   "outputs": [
    {
     "name": "stdout",
     "output_type": "stream",
     "text": [
      "900"
     ]
    }
   ],
   "source": [
    "width = 20\n",
    "height = 5*9\n",
    "square = width * height\n",
    "print(square)"
   ]
  },
  {
   "cell_type": "markdown",
   "metadata": {},
   "source": [
    "なお，上のソースコードの`print()`はプリント関数と呼ばれ，引数に対して画面出力を行う関数である．"
   ]
  },
  {
   "cell_type": "markdown",
   "metadata": {
    "colab_type": "text",
    "id": "j3gbm-Wb7Km9"
   },
   "source": [
    "それでは，実際にJuliaを用いて，次の例題を解いてみよう．\n",
    "\n",
    "例）ある物質に電圧 $V= 50\\  \\rm{V}$ をかけたところ，電流 $I = 1.58\\  \\rm{A}$ が流れた．                    \n",
    "　　このとき電気抵抗 $R$ はいくらになるか？                              \n",
    "　（ヒント：定常電源に対するOhm則: $V = RI$ を式変形すると....？）"
   ]
  },
  {
   "cell_type": "code",
   "execution_count": 126,
   "metadata": {
    "colab": {},
    "colab_type": "code",
    "id": "XhdwDZzV8qtq"
   },
   "outputs": [],
   "source": [
    "# 解答をこのセルに記入しよう\n",
    "\n",
    "\n"
   ]
  },
  {
   "cell_type": "markdown",
   "metadata": {},
   "source": [
    "### 1.3 シンボリック計算\n",
    "\n",
    "実は，Juliaは文字変数を文字変数のまま演算可能である．\n",
    "そのためにまずは，**SymPy**というパッケージが必要なので，以下のセルを実行しよう．"
   ]
  },
  {
   "cell_type": "code",
   "execution_count": 128,
   "metadata": {},
   "outputs": [
    {
     "name": "stderr",
     "output_type": "stream",
     "text": [
      "\u001b[32m\u001b[1m   Resolving\u001b[22m\u001b[39m package versions...\n",
      "\u001b[32m\u001b[1m  No Changes\u001b[22m\u001b[39m to `C:\\Users\\ackeyworks\\.julia\\environments\\v1.6\\Project.toml`\n",
      "\u001b[32m\u001b[1m  No Changes\u001b[22m\u001b[39m to `C:\\Users\\ackeyworks\\.julia\\environments\\v1.6\\Manifest.toml`\n"
     ]
    }
   ],
   "source": [
    "using Pkg\n",
    "Pkg.add(\"SymPy\")"
   ]
  },
  {
   "cell_type": "markdown",
   "metadata": {},
   "source": [
    "実行が終了したら，**SymPy**の利用を宣言をしよう．"
   ]
  },
  {
   "cell_type": "code",
   "execution_count": 129,
   "metadata": {},
   "outputs": [],
   "source": [
    "using SymPy"
   ]
  },
  {
   "cell_type": "markdown",
   "metadata": {},
   "source": [
    "このSymPyというパッケージを用いると，微分積分の計算をシンボリックのまま行ってくれる．"
   ]
  },
  {
   "cell_type": "markdown",
   "metadata": {},
   "source": [
    "例）\n",
    "$$\n",
    "\\int x^2 dx\n",
    "$$"
   ]
  },
  {
   "cell_type": "code",
   "execution_count": 130,
   "metadata": {},
   "outputs": [
    {
     "data": {
      "text/latex": [
       "$\\begin{equation*}\\frac{x^{3}}{3}\\end{equation*}$\n"
      ],
      "text/plain": [
       " 3\n",
       "x \n",
       "--\n",
       "3 "
      ]
     },
     "execution_count": 130,
     "metadata": {},
     "output_type": "execute_result"
    }
   ],
   "source": [
    "@vars x  # x をシンボルとして宣言！\n",
    "integrate(x^2) "
   ]
  },
  {
   "cell_type": "markdown",
   "metadata": {},
   "source": [
    "ここで，`integrate()`は引数に対し，積分結果を返す関数である．\n",
    "\n",
    "この関数は引数を2つとることが可能で，第1引数は被積分関数，第2引数は積分区間を入力可能である．\n",
    "\n",
    "次の例で確認してみよう．"
   ]
  },
  {
   "cell_type": "markdown",
   "metadata": {},
   "source": [
    "例）\n",
    "$$\n",
    "\\int_0^1 x^2 dx\n",
    "$$"
   ]
  },
  {
   "cell_type": "code",
   "execution_count": 131,
   "metadata": {},
   "outputs": [
    {
     "data": {
      "text/latex": [
       "$\\begin{equation*}\\frac{1}{3}\\end{equation*}$\n"
      ],
      "text/plain": [
       "1/3"
      ]
     },
     "execution_count": 131,
     "metadata": {},
     "output_type": "execute_result"
    }
   ],
   "source": [
    "@vars x  # x をシンボルとして宣言！\n",
    "integrate(x^2, (x,0,1)) "
   ]
  },
  {
   "cell_type": "markdown",
   "metadata": {},
   "source": [
    "ちなみに第2引数のとり方だが，`(x,0,1)`のように入れ子でさらに指定することになる．\n",
    "\n",
    "この場合は，「積分変数 $x$ に対して，下端$0$, 上端$1$を代入せよ」という命令を行っている．"
   ]
  },
  {
   "cell_type": "markdown",
   "metadata": {},
   "source": [
    "いま上の例では積分を扱ったが，もちろん微分も可能である．\n",
    "\n",
    "ここで準備として，関数 $f(t) = t^2 + 3t + 2$ を用意しよう．"
   ]
  },
  {
   "cell_type": "code",
   "execution_count": 132,
   "metadata": {},
   "outputs": [
    {
     "data": {
      "text/latex": [
       "$\\begin{equation*}t^{2} + 3 t + 2\\end{equation*}$\n"
      ],
      "text/plain": [
       " 2          \n",
       "t  + 3*t + 2"
      ]
     },
     "execution_count": 132,
     "metadata": {},
     "output_type": "execute_result"
    }
   ],
   "source": [
    "@vars t # t をシンボルとして宣言！\n",
    "f(t) = t^2 + 3t + 2 # Juliaでは直観的な関数の定義も可能！\n",
    "y = f(t)"
   ]
  },
  {
   "cell_type": "markdown",
   "metadata": {},
   "source": [
    "もちろん，ここでシンボリックに定義したこの関数 $y = f(t)$ は引数に値を返してくれる．"
   ]
  },
  {
   "cell_type": "code",
   "execution_count": 133,
   "metadata": {},
   "outputs": [
    {
     "data": {
      "text/plain": [
       "20"
      ]
     },
     "execution_count": 133,
     "metadata": {},
     "output_type": "execute_result"
    }
   ],
   "source": [
    "f(3)"
   ]
  },
  {
   "cell_type": "markdown",
   "metadata": {},
   "source": [
    "さて，そうしたら次の例で微分演算の確認してみよう．"
   ]
  },
  {
   "cell_type": "markdown",
   "metadata": {},
   "source": [
    "例）\n",
    "$$\n",
    "\\frac{df}{dt}(t)\n",
    "$$"
   ]
  },
  {
   "cell_type": "code",
   "execution_count": 134,
   "metadata": {},
   "outputs": [
    {
     "data": {
      "text/latex": [
       "$\\begin{equation*}2 x + 3\\end{equation*}$\n"
      ],
      "text/plain": [
       "2*x + 3"
      ]
     },
     "execution_count": 134,
     "metadata": {},
     "output_type": "execute_result"
    }
   ],
   "source": [
    "diff(f)"
   ]
  },
  {
   "cell_type": "markdown",
   "metadata": {},
   "source": [
    "ここで，`diff()`は引数に対し，微分結果を返す関数である．\n",
    "\n",
    "この関数は引数を2つとることが可能で，第1引数は微分したい関数，第2引数は微分階数を入力可能である．\n",
    "\n",
    "次の例で確認してみよう．"
   ]
  },
  {
   "cell_type": "markdown",
   "metadata": {},
   "source": [
    "例）\n",
    "$$\n",
    "\\frac{d^2 f}{dt^2}(t)\n",
    "$$"
   ]
  },
  {
   "cell_type": "code",
   "execution_count": 135,
   "metadata": {},
   "outputs": [
    {
     "data": {
      "text/latex": [
       "$\\begin{equation*}2\\end{equation*}$\n"
      ],
      "text/plain": [
       "2"
      ]
     },
     "execution_count": 135,
     "metadata": {},
     "output_type": "execute_result"
    }
   ],
   "source": [
    "diff(f, 2) # 二階微分"
   ]
  },
  {
   "cell_type": "markdown",
   "metadata": {},
   "source": [
    "SymPyパッケージでは，微分積分の他にも，因数分解なども可能である．\n",
    "\n",
    "先ほど定義した関数 $f(t) = t^2 + 3t + 2$ を因数分解してみよう．\n",
    "`factor()`という関数で $f(t)$ を引数に指定すればすぐに実行結果が出る．"
   ]
  },
  {
   "cell_type": "code",
   "execution_count": 136,
   "metadata": {},
   "outputs": [
    {
     "data": {
      "text/latex": [
       "$\\begin{equation*}\\left(t + 1\\right) \\left(t + 2\\right)\\end{equation*}$\n"
      ],
      "text/plain": [
       "(t + 1)*(t + 2)"
      ]
     },
     "execution_count": 136,
     "metadata": {},
     "output_type": "execute_result"
    }
   ],
   "source": [
    "factor(f(t)) # 因数分解"
   ]
  },
  {
   "cell_type": "markdown",
   "metadata": {},
   "source": [
    " "
   ]
  },
  {
   "cell_type": "markdown",
   "metadata": {},
   "source": [
    "### *1.4 応用例（方程式の求解）\n",
    "\n",
    "このセクションでは，SymPyパッケージの応用例として，いくつかの方程式の求解を紹介する．"
   ]
  },
  {
   "cell_type": "markdown",
   "metadata": {},
   "source": [
    "#### i) 代数方程式の解\n",
    "\n",
    "\n",
    "先ほどから何度も使っている関数 $f(t) = t^2 + 3t + 2$ をここでも使おう．\n",
    "\n",
    "ここで，$f(t) = 0$ を解いてみよう．"
   ]
  },
  {
   "cell_type": "code",
   "execution_count": 137,
   "metadata": {},
   "outputs": [
    {
     "data": {
      "text/latex": [
       "$\\left[ \\begin{array}{r}-2\\\\-1\\end{array} \\right]$\n"
      ],
      "text/plain": [
       "2-element Vector{Sym}:\n",
       " -2\n",
       " -1"
      ]
     },
     "execution_count": 137,
     "metadata": {},
     "output_type": "execute_result"
    }
   ],
   "source": [
    "solve(f(t)) # solve(f(t)) で f(t) = 0 の解を求めてくれる！"
   ]
  },
  {
   "cell_type": "markdown",
   "metadata": {},
   "source": [
    "#### ii) 一階線形常微分方程式の一般解\n",
    "\n",
    "実は，常微分方程式も解くことが可能だったりする（！！）\n",
    "\n",
    "そこで，まず簡単な例として，関数 $z(s)$ に対して以下のODEを考える：\n",
    "\n",
    "$$\n",
    "\\frac{dz}{ds} = az.\n",
    "$$\n",
    "\n",
    "ここで，$a = const.$"
   ]
  },
  {
   "cell_type": "markdown",
   "metadata": {},
   "source": [
    "この方程式を手で解く場合は変数分離によって，\n",
    "\n",
    "$$\n",
    "z = C \\exp (as)\n",
    "$$\n",
    "\n",
    "と解けるわけである(ただし，$C$ は任意定数)．"
   ]
  },
  {
   "cell_type": "markdown",
   "metadata": {},
   "source": [
    "手で解いた結果と同じ結果を返してくれるか検証しよう！"
   ]
  },
  {
   "cell_type": "code",
   "execution_count": 138,
   "metadata": {},
   "outputs": [
    {
     "data": {
      "text/latex": [
       "$\\begin{equation*}\\frac{d}{d s} z{\\left(s \\right)} = a z{\\left(s \\right)}\\end{equation*}$\n"
      ],
      "text/plain": [
       "d                \n",
       "--(z(s)) = a*z(s)\n",
       "ds               "
      ]
     },
     "execution_count": 138,
     "metadata": {},
     "output_type": "execute_result"
    }
   ],
   "source": [
    "@vars a # a を変数シンボルとして宣言\n",
    "@vars s # s を変数シンボルとして宣言\n",
    "z = symbols(\"z\", cls=sympy.Function) # z を関数シンボルとして宣言\n",
    "ODE = Eq(z(s).diff(s), a*z(s)) # 微分方程式の表現"
   ]
  },
  {
   "cell_type": "code",
   "execution_count": 139,
   "metadata": {},
   "outputs": [
    {
     "data": {
      "text/latex": [
       "$\\begin{equation*}z{\\left(s \\right)} = C_{1} e^{a s}\\end{equation*}$\n"
      ],
      "text/plain": [
       "           a*s\n",
       "z(s) = C1*e   "
      ]
     },
     "execution_count": 139,
     "metadata": {},
     "output_type": "execute_result"
    }
   ],
   "source": [
    "dsolve(ODE, z(s)) # 微分方程式の求解"
   ]
  },
  {
   "cell_type": "markdown",
   "metadata": {},
   "source": [
    "#### iii) 二階線形常微分方程式の一般解\n",
    "\n",
    "今度は，物理現象における数理モデルの基礎である一次元自由落下問題を考える．\n",
    "\n",
    "（例として下図参照）\n",
    "\n",
    "<img src=\"http://livedoor.blogimg.jp/yng2513/imgs/1/5/1549ce35.png\" width=\"300\">\n",
    "\n",
    "質点 $m$ ，重力加速度 $g$ の系において，時刻 $t$ における鉛直方向座標 $y$ は次のように記述される：\n",
    "\n",
    "$$\n",
    "m \\frac{d^2 y}{dt^2} = -mg\n",
    "$$\n",
    "\n",
    "これを手で解く場合は両辺 $t$ で逐次積分していけばよいから，\n",
    "\n",
    "$$\n",
    "y = -\\frac{1}{2}gt^2 + C_1 t + C_2\n",
    "$$\n",
    "\n",
    "と解けるわけである(ただし，$C_1,C_2$ は任意定数)．"
   ]
  },
  {
   "cell_type": "markdown",
   "metadata": {},
   "source": [
    "手で解いた結果と同じ結果を返してくれるか検証しよう！"
   ]
  },
  {
   "cell_type": "code",
   "execution_count": 140,
   "metadata": {},
   "outputs": [
    {
     "data": {
      "text/latex": [
       "$\\begin{equation*}m \\frac{d^{2}}{d t^{2}} y{\\left(t \\right)} = - g m\\end{equation*}$\n"
      ],
      "text/plain": [
       "    2             \n",
       "   d              \n",
       "m*---(y(t)) = -g*m\n",
       "    2             \n",
       "  dt              "
      ]
     },
     "execution_count": 140,
     "metadata": {},
     "output_type": "execute_result"
    }
   ],
   "source": [
    "@vars t # t を変数シンボルとして宣言\n",
    "@vars m # m を変数シンボルとして宣言\n",
    "@vars g # g を変数シンボルとして宣言\n",
    "y = symbols(\"y\", cls=sympy.Function) # z を関数シンボルとして宣言\n",
    "ODE2 = Eq(m*(y(t).diff(t,2)), -m*g) # 微分方程式の表現"
   ]
  },
  {
   "cell_type": "code",
   "execution_count": 141,
   "metadata": {},
   "outputs": [
    {
     "data": {
      "text/latex": [
       "$\\begin{equation*}y{\\left(t \\right)} = C_{1} + C_{2} t - \\frac{g t^{2}}{2}\\end{equation*}$\n"
      ],
      "text/plain": [
       "                      2\n",
       "                   g*t \n",
       "y(t) = C1 + C2*t - ----\n",
       "                    2  "
      ]
     },
     "execution_count": 141,
     "metadata": {},
     "output_type": "execute_result"
    }
   ],
   "source": [
    "dsolve(ODE2, y(t)) # 微分方程式の求解"
   ]
  }
 ],
 "metadata": {
  "anaconda-cloud": {},
  "colab": {
   "collapsed_sections": [],
   "name": "物理シミュレーションから始めるPython入門",
   "provenance": [],
   "version": "0.3.2"
  },
  "kernelspec": {
   "display_name": "Julia 1.6.2",
   "language": "julia",
   "name": "julia-1.6"
  },
  "language_info": {
   "file_extension": ".jl",
   "mimetype": "application/julia",
   "name": "julia",
   "version": "1.6.2"
  },
  "latex_envs": {
   "bibliofile": "biblio.bib",
   "cite_by": "apalike",
   "current_citInitial": 1,
   "eqLabelWithNumbers": true,
   "eqNumInitial": 0
  },
  "toc": {
   "toc_cell": false,
   "toc_number_sections": true,
   "toc_threshold": 6,
   "toc_window_display": false
  }
 },
 "nbformat": 4,
 "nbformat_minor": 1
}
