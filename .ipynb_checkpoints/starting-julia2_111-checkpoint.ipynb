{
 "cells": [
  {
   "cell_type": "markdown",
   "id": "1d2bbc71",
   "metadata": {},
   "source": [
    "# 数値解析ゼミ 〜Julia入門〜\n",
    "\n",
    "プログラミング言語の一つであるJuliaの基本的な使い方について述べていく．"
   ]
  },
  {
   "cell_type": "markdown",
   "id": "69f75fa5",
   "metadata": {},
   "source": [
    "## 2. 配列・文字列・描画の基本操作"
   ]
  },
  {
   "cell_type": "markdown",
   "id": "d343c4bf",
   "metadata": {},
   "source": [
    "### 2.1 配列の考え方\n",
    "\n",
    "Juliaには複数の数値を同時に扱うことのできる**配列**（リスト）という仕組みが用意されている．"
   ]
  },
  {
   "cell_type": "code",
   "execution_count": null,
   "id": "ad742ce5",
   "metadata": {},
   "outputs": [],
   "source": [
    "a = [1, 4, 9, 16, 25] "
   ]
  },
  {
   "cell_type": "markdown",
   "id": "45d23228",
   "metadata": {},
   "source": [
    "この場合の $a$ は $(1,4,9,16,25)$ というベクトルを表現している．\n",
    "これを特に**一次元配列**という．"
   ]
  },
  {
   "cell_type": "markdown",
   "id": "18542ef3",
   "metadata": {},
   "source": [
    "Juliaでは一次元配列をベクトルとして扱う．事実，Juliaで一次元配列の**型**(*type*)を調べると`vector`と表示される．"
   ]
  },
  {
   "cell_type": "code",
   "execution_count": null,
   "id": "6f51b816",
   "metadata": {},
   "outputs": [],
   "source": [
    "typeof(a) # 変数の型(type)を調べるには typeof 関数を用いる．"
   ]
  },
  {
   "cell_type": "markdown",
   "id": "8abeaad6",
   "metadata": {},
   "source": [
    "ここで，一次元配列の要素を参照したい場合は`a[i]` $(i = 1,2,3,4,5)$を入力すれば良い．"
   ]
  },
  {
   "cell_type": "code",
   "execution_count": null,
   "id": "eee84044",
   "metadata": {
    "scrolled": true
   },
   "outputs": [],
   "source": [
    "# 例: aの3番目の要素を知りたい場合\n",
    "a[3]"
   ]
  },
  {
   "cell_type": "markdown",
   "id": "e3f70983",
   "metadata": {},
   "source": [
    "また，次のように $b=(2,3,4,5,6)$ を用意してみよう．"
   ]
  },
  {
   "cell_type": "code",
   "execution_count": null,
   "id": "09a06780",
   "metadata": {},
   "outputs": [],
   "source": [
    "b = [2,3,4,5,6]"
   ]
  },
  {
   "cell_type": "markdown",
   "id": "82e97beb",
   "metadata": {},
   "source": [
    "一次元配列の和は各要素の和として計算される．"
   ]
  },
  {
   "cell_type": "code",
   "execution_count": null,
   "id": "cd56d34b",
   "metadata": {},
   "outputs": [],
   "source": [
    "a + b"
   ]
  },
  {
   "cell_type": "markdown",
   "id": "92bbef2c",
   "metadata": {},
   "source": [
    "配列の要素を取り替えることも可能である．例として，$b$の第4成分 \"**5**\" を \"**8**\"に取り替えてみよう．"
   ]
  },
  {
   "cell_type": "code",
   "execution_count": null,
   "id": "34416876",
   "metadata": {},
   "outputs": [],
   "source": [
    "b[5] = 8"
   ]
  },
  {
   "cell_type": "code",
   "execution_count": null,
   "id": "eed460a0",
   "metadata": {},
   "outputs": [],
   "source": [
    "b"
   ]
  },
  {
   "cell_type": "markdown",
   "id": "cfe6ffdf",
   "metadata": {},
   "source": [
    "Juliaでは，連番や等差数列を一次元配列として出力することも可能である．"
   ]
  },
  {
   "cell_type": "code",
   "execution_count": null,
   "id": "84d485a6",
   "metadata": {},
   "outputs": [],
   "source": [
    "Vector(1:5) # 連番の表示"
   ]
  },
  {
   "cell_type": "code",
   "execution_count": null,
   "id": "0b7a3cd0",
   "metadata": {},
   "outputs": [],
   "source": [
    "Vector(1:2:9) # 等差数列の表示"
   ]
  },
  {
   "cell_type": "markdown",
   "id": "b12ea8a3",
   "metadata": {},
   "source": [
    "このように，`vector(初項:等差:末項)` という風に vector 関数で指定してあげれば，等差数列を表現することも可能である．"
   ]
  },
  {
   "cell_type": "markdown",
   "id": "0fce16ed",
   "metadata": {},
   "source": [
    "他にも**二次元配列**というものもあり，以下のように表現する．"
   ]
  },
  {
   "cell_type": "code",
   "execution_count": null,
   "id": "d104b475",
   "metadata": {},
   "outputs": [],
   "source": [
    "A = [1 2 ; 3 4]"
   ]
  },
  {
   "cell_type": "markdown",
   "id": "b4df98e1",
   "metadata": {},
   "source": [
    "各要素は空白で区切り，行を追加する際は`;`を使う。"
   ]
  },
  {
   "cell_type": "markdown",
   "id": "0da882b6",
   "metadata": {},
   "source": [
    "また，Juliaでは二次元配列を行列として扱う．事実，Juliaで二次元配列の**型**(*type*)を調べると`Matrix`と表示される．"
   ]
  },
  {
   "cell_type": "code",
   "execution_count": null,
   "id": "aa6358f3",
   "metadata": {},
   "outputs": [],
   "source": [
    "typeof(A)"
   ]
  },
  {
   "cell_type": "markdown",
   "id": "9865ec2d",
   "metadata": {},
   "source": [
    "二次元配列の要素を参照したい場合は`a[i,j]` $(i = 1,2, \\quad j = 1,2)$を入力すれば良い．"
   ]
  },
  {
   "cell_type": "code",
   "execution_count": null,
   "id": "908b1bf6",
   "metadata": {
    "scrolled": true
   },
   "outputs": [],
   "source": [
    "# 例: Aの1行2列目の要素を知りたい場合\n",
    "A[1,2]"
   ]
  },
  {
   "cell_type": "markdown",
   "id": "3e9cd8f9",
   "metadata": {},
   "source": [
    "　"
   ]
  },
  {
   "cell_type": "markdown",
   "id": "f9d8dae2",
   "metadata": {},
   "source": [
    "### 2.2 文字列\n",
    "\n",
    "数値と同じように，Juliaは文字列も扱うことが可能である．\n",
    "文字列はダブルクォーテーション`\"...\"`で囲むことで表現できる．\n",
    "\n",
    "クォーテーションで囲わない場合，Juliaへの命令として扱われる（すなわち，変数名として認識される）ため区別が必要である．\n",
    "\n",
    "（詳しくは，https://mnru.github.io/julia-doc-ja-v1.0/manual/strings.html\n",
    "など参照．）"
   ]
  },
  {
   "cell_type": "code",
   "execution_count": null,
   "id": "e199e16a",
   "metadata": {},
   "outputs": [],
   "source": [
    "\"julia\" # ダブルクォーテーションで囲む"
   ]
  },
  {
   "cell_type": "markdown",
   "id": "bc1ee0de",
   "metadata": {},
   "source": [
    "ここで，上の`\"julia\"`の**型**(*type*)を調べると`String`と表示される．\n",
    "\n",
    "これがJuliaでの**文字列型**である．"
   ]
  },
  {
   "cell_type": "code",
   "execution_count": null,
   "id": "4fdbf8f9",
   "metadata": {},
   "outputs": [],
   "source": [
    "typeof(\"julia\")"
   ]
  },
  {
   "cell_type": "markdown",
   "id": "af778298",
   "metadata": {},
   "source": [
    "他にも例として，文も文字列として認識可能である．"
   ]
  },
  {
   "cell_type": "code",
   "execution_count": null,
   "id": "94a6a5a9",
   "metadata": {},
   "outputs": [],
   "source": [
    "\"Hello World!\" #2単語もひとつの文字列として認識する．"
   ]
  },
  {
   "cell_type": "markdown",
   "id": "6b12c88d",
   "metadata": {},
   "source": [
    "ちなみに，上の`Hello World!`は`Hello`と`World!`を特に2単語として認識しているわけではなく，`Hello_World!`(_はスペースの意)はスペース込みでひとつの文字列として認識しているだけである．"
   ]
  },
  {
   "cell_type": "markdown",
   "id": "e740db9d",
   "metadata": {},
   "source": [
    "その確認として，まず，文字列`Hello World!`を変数`moji`へ代入してみる．"
   ]
  },
  {
   "cell_type": "code",
   "execution_count": null,
   "id": "8f90fc8a",
   "metadata": {},
   "outputs": [],
   "source": [
    "moji = \"Hello World!\""
   ]
  },
  {
   "cell_type": "markdown",
   "id": "8912bf57",
   "metadata": {},
   "source": [
    "補足しておくと，今まで *変数* (という箱)へは数値を代入してきたが，上の例のように文字列を代入することも可能である．\n",
    "\n",
    "文字列中の各文字には`[]`記号を用いてアクセスすることができる．\n",
    "\n",
    "さて，先ほど2.1節で学んだ配列の概念をここで用いよう．実は，Juliaにおいて文字列は<u>文字を並べた配列</u>とみなされる．\n",
    "\n",
    "|  H   |   e  |  l   |   l  |   o  |      | w    | o    | r    | l    | d    | !    |\n",
    "| ---- | ---- | ---- | ---- | ---- | ---- | ---- | ---- | ---- | ---- | ---- | ---- |\n",
    "|  1   |  2   |  3   |  4   |   5  | 6    |  7   |   8  |  9   |  10  |  11  |  12  |\n",
    "\n",
    "上表より，(スペース込みで文字数を数えると)スペースは6文字目になると考えられる．\n",
    "すなわち，`moji`(という一次元配列)の6番目要素と考えればよい．"
   ]
  },
  {
   "cell_type": "code",
   "execution_count": null,
   "id": "35553cf7",
   "metadata": {},
   "outputs": [],
   "source": [
    "moji[6] # 最初から6番目の文字"
   ]
  },
  {
   "cell_type": "markdown",
   "id": "13b8e317",
   "metadata": {},
   "source": [
    "このように特定の一つの文字にアクセスすることを**indexing**(インデクシング)と言う．\n",
    "\n",
    "他にも，Juliaは特定の一部分にアクセスする**slicing**(スライシング)にも対応している.\n"
   ]
  },
  {
   "cell_type": "code",
   "execution_count": null,
   "id": "a5ae2698",
   "metadata": {},
   "outputs": [],
   "source": [
    "moji[1:5] # 1番目から5番目までの文字"
   ]
  },
  {
   "cell_type": "markdown",
   "id": "899b4908",
   "metadata": {},
   "source": [
    "　\n",
    " \n",
    "また，改行込みの文章も文字列として認識可能である．"
   ]
  },
  {
   "cell_type": "code",
   "execution_count": null,
   "id": "3cc1a68f",
   "metadata": {},
   "outputs": [],
   "source": [
    "a = \"\"\"\n",
    "Contains \n",
    "quote \n",
    "characters\n",
    "\"\"\""
   ]
  },
  {
   "cell_type": "markdown",
   "id": "d1eade20",
   "metadata": {},
   "source": [
    "ここで，`\\n`は改行を表す．"
   ]
  },
  {
   "cell_type": "code",
   "execution_count": null,
   "id": "acbaa173",
   "metadata": {},
   "outputs": [],
   "source": [
    "print(a)"
   ]
  },
  {
   "cell_type": "markdown",
   "id": "13df840b",
   "metadata": {},
   "source": [
    "シングルクォーテーション自体を文字として認識させたい場合は `\\'` というように*\\*（バックスラッシュ）が必要である．\n",
    "なお，Windowsではバックスラッシュは半角の円マーク（￥）と表示されることがある．"
   ]
  },
  {
   "cell_type": "code",
   "execution_count": null,
   "id": "1036f2d4",
   "metadata": {},
   "outputs": [],
   "source": [
    "\"isn\\'t\""
   ]
  },
  {
   "cell_type": "markdown",
   "id": "18af57bb",
   "metadata": {},
   "source": [
    "文字列は結合も可能で，結合する場合は`*`で結合する．"
   ]
  },
  {
   "cell_type": "code",
   "execution_count": null,
   "id": "014da7bc",
   "metadata": {},
   "outputs": [],
   "source": [
    "\"Ju\" * \"lia\""
   ]
  },
  {
   "cell_type": "markdown",
   "id": "a8ca8605",
   "metadata": {},
   "source": [
    "　"
   ]
  },
  {
   "cell_type": "markdown",
   "id": "cc084ca5",
   "metadata": {},
   "source": [
    "### グラフ描画\n",
    "\n",
    "グラフ描画にはいくつか「ライブラリ」と呼ばれるプロブラム機能をまとめたものが必要である．\n",
    "Juliaのグラフ描画ライブラリで用いられるものとして`Plots`および，`GR`というものがある．\n",
    "\n",
    "まずは，**Plots**というパッケージが必要なので，以下のセルを実行しよう．"
   ]
  },
  {
   "cell_type": "code",
   "execution_count": null,
   "id": "01135cae",
   "metadata": {
    "scrolled": true
   },
   "outputs": [],
   "source": [
    "using Pkg\n",
    "Pkg.add(\"Plots\")"
   ]
  },
  {
   "cell_type": "markdown",
   "id": "4a7d917c",
   "metadata": {},
   "source": [
    "続けて，**GR**というパッケージも必要なので，以下のセルを実行しよう．"
   ]
  },
  {
   "cell_type": "code",
   "execution_count": null,
   "id": "06959074",
   "metadata": {},
   "outputs": [],
   "source": [
    "Pkg.add(\"GR\")"
   ]
  },
  {
   "cell_type": "markdown",
   "id": "176ba6bc",
   "metadata": {},
   "source": [
    "これでダウンロードが完了したので，次回からは以下の**Plots**の利用宣言で利用が可能となる．"
   ]
  },
  {
   "cell_type": "code",
   "execution_count": null,
   "id": "feab4725",
   "metadata": {},
   "outputs": [],
   "source": [
    "using Plots; gr() # Plotsパッケージの中のGRという描画ライブラリの利用を宣言している．"
   ]
  },
  {
   "cell_type": "markdown",
   "id": "62894758",
   "metadata": {},
   "source": [
    "さて，ここで$y = 2x$という関数のグラフを出力してみよう．"
   ]
  },
  {
   "cell_type": "code",
   "execution_count": null,
   "id": "42077a7e",
   "metadata": {},
   "outputs": [],
   "source": [
    "x = [0:10] # xの区間を与える\n",
    "plot(x,2x) # plot 関数は引数に(x座標，y座標)をとる．"
   ]
  },
  {
   "cell_type": "markdown",
   "id": "92b5567c",
   "metadata": {},
   "source": [
    "さて，前章で用いたSymPyパッケージによる関数でもグラフ表示が可能である．"
   ]
  },
  {
   "cell_type": "code",
   "execution_count": null,
   "id": "7b639dee",
   "metadata": {},
   "outputs": [],
   "source": [
    "using SymPy\n",
    "@vars t # t をシンボルとして宣言！\n",
    "f(t) = t^2 + 3t + 2 # Juliaでは直観的な関数の定義も可能！\n",
    "y = f(t)"
   ]
  },
  {
   "cell_type": "code",
   "execution_count": null,
   "id": "fcc835ba",
   "metadata": {},
   "outputs": [],
   "source": [
    "t = [-5:5]\n",
    "plot(t,y)"
   ]
  },
  {
   "cell_type": "markdown",
   "id": "1170bb46",
   "metadata": {},
   "source": [
    "また，いくつか描画オプションもあり，例えば`marker=:circle`を付け加えると，グラフに描画点を与えられる．\n",
    "(例えば，https://docs.juliaplots.org/latest/generated/gr/ などを参照．)"
   ]
  },
  {
   "cell_type": "code",
   "execution_count": null,
   "id": "c89e963f",
   "metadata": {},
   "outputs": [],
   "source": [
    "t = [-5:5]\n",
    "plot(t,y,marker=:circle)"
   ]
  },
  {
   "cell_type": "markdown",
   "id": "572a7df6",
   "metadata": {},
   "source": [
    "　\n",
    " \n",
    "最後に幾つかのグラフ描画例を示しておく．\n",
    "\n",
    "（三次元のグラフ描画も可能であることを紹介しておく．）"
   ]
  },
  {
   "cell_type": "code",
   "execution_count": null,
   "id": "956e2202",
   "metadata": {},
   "outputs": [],
   "source": [
    "N = 200\n",
    "d = 8π/N\n",
    "x = [d*n*cos(d*n) for n in 0:N]\n",
    "y = [d*n*sin(d*n) for n in 0:N]\n",
    "z = 0.0:N\n",
    "plot(x,y,z,marker=:circle)"
   ]
  },
  {
   "cell_type": "code",
   "execution_count": null,
   "id": "5d454538",
   "metadata": {},
   "outputs": [],
   "source": [
    "f(x,y) = (3x + y^2) * abs(sin(x) + cos(y))\n",
    "\n",
    "x = 0:0.1:20\n",
    "y = 0:0.1:10\n",
    "z = [f(i,j) for i in x, j in y]' \n",
    "\n",
    "plot(x,y,z, st=:surface)"
   ]
  },
  {
   "cell_type": "code",
   "execution_count": null,
   "id": "f97cf0b6",
   "metadata": {},
   "outputs": [],
   "source": [
    "plot(x,y,z, st=:wireframe)"
   ]
  },
  {
   "cell_type": "code",
   "execution_count": null,
   "id": "8e17ee03",
   "metadata": {},
   "outputs": [],
   "source": [
    "plot(x,y,z)"
   ]
  }
 ],
 "metadata": {
  "kernelspec": {
   "display_name": "Julia 1.6.2",
   "language": "julia",
   "name": "julia-1.6"
  },
  "language_info": {
   "file_extension": ".jl",
   "mimetype": "application/julia",
   "name": "julia",
   "version": "1.6.2"
  }
 },
 "nbformat": 4,
 "nbformat_minor": 5
}
