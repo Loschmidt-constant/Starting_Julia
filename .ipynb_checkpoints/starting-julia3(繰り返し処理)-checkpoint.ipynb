{
 "cells": [
  {
   "cell_type": "markdown",
   "metadata": {},
   "source": [
    "# 数値解析ゼミ 〜Julia入門〜\n",
    "\n",
    "プログラミング言語の一つであるJuliaの基本的な使い方について述べていく．"
   ]
  },
  {
   "cell_type": "markdown",
   "metadata": {},
   "source": [
    "## 3. プログラミングの基礎事項\n",
    "\n",
    "Juliaに限らず，プログラミング言語には”制御構造”というものがある．\n",
    "それはアルゴリズムを考えていく上で非常に重要である．\n",
    "\n",
    "プログラミングにおける制御事項には，**繰り返し処理**と**条件分岐処理**の2つに大別される．"
   ]
  },
  {
   "cell_type": "markdown",
   "metadata": {},
   "source": [
    "### 3.1 繰り返し処理\n",
    "\n",
    "**繰り返し処理**とは，同じ動作をある条件が成立するまで何度も行う処理である．繰り返し処理の継続条件(ないしはループ脱出条件)の判定には，\n",
    "\n",
    "- カウンタ方式\n",
    "- 見張り方式\n",
    "\n",
    "の2つがある．"
   ]
  },
  {
   "cell_type": "markdown",
   "metadata": {},
   "source": [
    "#### 3.1.1 forループ（カウンタ方式）"
   ]
  },
  {
   "cell_type": "markdown",
   "metadata": {},
   "source": [
    "#### Question1:\n",
    "\n",
    "**1~10の和を計算するといくらになるか？**\n",
    "\n",
    "（下のセルにコードを書いてみて実行してみよう）"
   ]
  },
  {
   "cell_type": "code",
   "execution_count": null,
   "metadata": {},
   "outputs": [],
   "source": [
    "## 解答欄\n",
    "\n"
   ]
  },
  {
   "cell_type": "markdown",
   "metadata": {},
   "source": [
    "#### Question2:\n",
    "\n",
    "**1~100の和を計算するといくらになるか？**\n",
    "\n",
    "（下のセルにコードを書いてみて実行してみよう）"
   ]
  },
  {
   "cell_type": "code",
   "execution_count": null,
   "metadata": {},
   "outputs": [],
   "source": [
    "## 解答欄\n",
    "\n"
   ]
  },
  {
   "cell_type": "markdown",
   "metadata": {},
   "source": [
    "　"
   ]
  },
  {
   "cell_type": "markdown",
   "metadata": {},
   "source": [
    "同じような内容を何度も手打ちするのは非常に効率が悪いことは想像に難くはないだろう．そこで，まずは繰り返し処理構文のひとつである**for～end文**を紹介する．"
   ]
  },
  {
   "cell_type": "markdown",
   "metadata": {},
   "source": [
    "[構文] **for～end文**\n",
    "\n",
    "```\n",
    "for i in (初項):(末項)\n",
    "    （実行内容）\n",
    "end\n",
    "```"
   ]
  },
  {
   "cell_type": "markdown",
   "metadata": {},
   "source": [
    "※ for~end文に出てくる，繰り返し処理の条件を表す変数`i`のことを**カウンタ変数**と呼ぶ．"
   ]
  },
  {
   "cell_type": "markdown",
   "metadata": {},
   "source": [
    "例） *1~10までの自然数の表示*"
   ]
  },
  {
   "cell_type": "code",
   "execution_count": null,
   "metadata": {},
   "outputs": [],
   "source": [
    "for i in 1:10\n",
    "    println(i)\n",
    "end"
   ]
  },
  {
   "cell_type": "markdown",
   "metadata": {},
   "source": [
    "例） *0~20までの偶数の表示*"
   ]
  },
  {
   "cell_type": "code",
   "execution_count": 1,
   "metadata": {},
   "outputs": [
    {
     "name": "stdout",
     "output_type": "stream",
     "text": [
      "0\n",
      "2\n",
      "4\n",
      "6\n",
      "8\n",
      "10\n",
      "12\n",
      "14\n",
      "16\n",
      "18\n",
      "20\n"
     ]
    }
   ],
   "source": [
    "for i in 0:2:20\n",
    "    println(i)\n",
    "end"
   ]
  },
  {
   "cell_type": "markdown",
   "metadata": {},
   "source": [
    "　"
   ]
  },
  {
   "cell_type": "markdown",
   "metadata": {},
   "source": [
    "for~end文を用いて，計算を実行したい場合は注意が必要であり，”変数”という概念が非常に重要となる．\n",
    "\n",
    "特に，最初に**変数の初期化**という操作が必要になる．"
   ]
  },
  {
   "cell_type": "markdown",
   "metadata": {},
   "source": [
    "<font color=\"Red\">間違い例）</font> 1:10の和を計算しようとする場合"
   ]
  },
  {
   "cell_type": "code",
   "execution_count": 2,
   "metadata": {},
   "outputs": [
    {
     "ename": "LoadError",
     "evalue": "UndefVarError: sam not defined",
     "output_type": "error",
     "traceback": [
      "UndefVarError: sam not defined",
      "",
      "Stacktrace:",
      " [1] top-level scope",
      "   @ ./In[2]:3",
      " [2] eval",
      "   @ ./boot.jl:360 [inlined]",
      " [3] include_string(mapexpr::typeof(REPL.softscope), mod::Module, code::String, filename::String)",
      "   @ Base ./loading.jl:1116"
     ]
    }
   ],
   "source": [
    "for i in 1:10\n",
    "    \n",
    "    sam = sam + i\n",
    "    \n",
    "    println(sam)\n",
    "end"
   ]
  },
  {
   "cell_type": "markdown",
   "metadata": {},
   "source": [
    "上の場合，変数`sam`の初期値が指定されていないため，`sam`の型(type)が決定できていないわけである．\n",
    "\n",
    "そもそも，エラー文は変数`sam`が(グローバル変数として)定義されていないと叫んでいる．\n",
    "（グローバル変数については後述）\n",
    "\n",
    "正しくは，次のコーディングとなる．"
   ]
  },
  {
   "cell_type": "markdown",
   "metadata": {},
   "source": [
    "正解例） 1:10の和を計算しようとする場合"
   ]
  },
  {
   "cell_type": "code",
   "execution_count": 3,
   "metadata": {},
   "outputs": [
    {
     "name": "stdout",
     "output_type": "stream",
     "text": [
      "1\n",
      "3\n",
      "6\n",
      "10\n",
      "15\n",
      "21\n",
      "28\n",
      "36\n",
      "45\n",
      "55\n"
     ]
    }
   ],
   "source": [
    "sam = 0 # ← samを定義し，また初期値を与えている．\n",
    "\n",
    "for i in 1:10\n",
    "    \n",
    "    sam += i\n",
    "    \n",
    "    println(sam)\n",
    "end"
   ]
  },
  {
   "cell_type": "markdown",
   "metadata": {},
   "source": [
    "上記コーディングで，`sam += i`という表記を用いているが，これは`sam = sam + i`と等価である．\n",
    "\n",
    "なお，`+=`を代入演算子という．\n",
    "\n",
    "ちなみに，出力結果を最後のものだけにしたいときは，print文をfor~end文の外へ出せばよい．"
   ]
  },
  {
   "cell_type": "code",
   "execution_count": 4,
   "metadata": {},
   "outputs": [
    {
     "name": "stdout",
     "output_type": "stream",
     "text": [
      "55\n"
     ]
    }
   ],
   "source": [
    "sam = 0 # 初期値\n",
    "\n",
    "for i in 1:10\n",
    "    sam += i\n",
    "end\n",
    "\n",
    "println(sam)"
   ]
  },
  {
   "cell_type": "markdown",
   "metadata": {},
   "source": [
    "実は，繰り返し処理を用いたQuestion1の解答が上記となる．\n",
    "\n",
    "これを応用して，\n",
    "\n",
    "Question2:1~100の和を計算するといくらになるか？\n",
    "\n",
    "も繰り返し処理を用いてコーディングしてみよう．"
   ]
  },
  {
   "cell_type": "code",
   "execution_count": null,
   "metadata": {},
   "outputs": [],
   "source": [
    "## 解答欄\n",
    "\n"
   ]
  },
  {
   "cell_type": "markdown",
   "metadata": {},
   "source": [
    "　"
   ]
  },
  {
   "cell_type": "markdown",
   "metadata": {},
   "source": [
    "#### 3.1.2 whileループ（見張り方式）"
   ]
  },
  {
   "cell_type": "markdown",
   "metadata": {},
   "source": [
    "次に，繰り返し処理構文のひとつである**while～end文**を紹介する．"
   ]
  },
  {
   "cell_type": "markdown",
   "metadata": {},
   "source": [
    "[構文] **while～end文**\n",
    "\n",
    "```\n",
    "i = (初期値)\n",
    "while (iに関する条件式)\n",
    "    （実行内容）\n",
    "end\n",
    "```"
   ]
  },
  {
   "cell_type": "markdown",
   "metadata": {},
   "source": [
    "whileループはforループと違い，条件を満たし続けるかぎりループが回る処理である．\n",
    "すなわち，ループ脱出条件としては，条件式が偽となったときである．\n",
    "\n",
    "iの変化は実行内容により定まるので，それに合わせたiの初期値が必要となる．\n",
    "\n",
    "また，`(iに関する条件式)`の部分はiに関する等式もしくは不等式が入る．(論理式で記述することも可能)"
   ]
  },
  {
   "cell_type": "markdown",
   "metadata": {},
   "source": [
    "例） *1~10までの自然数の表示*"
   ]
  },
  {
   "cell_type": "code",
   "execution_count": 5,
   "metadata": {},
   "outputs": [
    {
     "name": "stdout",
     "output_type": "stream",
     "text": [
      "1\n",
      "2\n",
      "3\n",
      "4\n",
      "5\n",
      "6\n",
      "7\n",
      "8\n",
      "9\n",
      "10\n"
     ]
    }
   ],
   "source": [
    "i = 1\n",
    "while i <= 10\n",
    "    println(i)\n",
    "    i += 1\n",
    "end"
   ]
  },
  {
   "cell_type": "markdown",
   "metadata": {},
   "source": [
    "#### <font color=\"Blue\">参考：ループの境界条件</font>"
   ]
  },
  {
   "cell_type": "markdown",
   "metadata": {},
   "source": [
    "「ループを何回繰り返したか？」という事実は，プログラムの動作上非常に重要なことである．ループの繰り返し回数はループのカウンタ変数および，その条件式によって決定される．**境界条件**とは，ループの繰り返し回数を制御する条件を指す．"
   ]
  },
  {
   "cell_type": "markdown",
   "metadata": {},
   "source": [
    "ここで，上記の1~10までの自然数の表示するプログラム例との比較対象として，次の例を挙げる．"
   ]
  },
  {
   "cell_type": "code",
   "execution_count": 6,
   "metadata": {},
   "outputs": [
    {
     "name": "stdout",
     "output_type": "stream",
     "text": [
      "1\n",
      "2\n",
      "3\n",
      "4\n",
      "5\n",
      "6\n",
      "7\n",
      "8\n",
      "9\n"
     ]
    }
   ],
   "source": [
    "i = 1\n",
    "while i < 10\n",
    "    println(i)\n",
    "    i += 1\n",
    "end"
   ]
  },
  {
   "cell_type": "markdown",
   "metadata": {},
   "source": [
    "条件式の関係演算子`<`と`<=`だけの違いで結果が異なっていることが分かる．\n",
    "\n",
    "これは，条件式の評価順序が`i < 10`を評価したのち，`i += 1`を実行しているかどうかの差が現れているわけである．\n",
    "\n",
    "例えば，初期値を0にし，`i += 1`と`print(i)`を交換すれば，`i < 10`であっても実は1~10まで自然数を表示することは可能になる．"
   ]
  },
  {
   "cell_type": "code",
   "execution_count": 7,
   "metadata": {},
   "outputs": [
    {
     "name": "stdout",
     "output_type": "stream",
     "text": [
      "1\n",
      "2\n",
      "3\n",
      "4\n",
      "5\n",
      "6\n",
      "7\n",
      "8\n",
      "9\n",
      "10\n"
     ]
    }
   ],
   "source": [
    "i = 0\n",
    "while i < 10\n",
    "    i += 1\n",
    "    println(i)\n",
    "end"
   ]
  },
  {
   "cell_type": "markdown",
   "metadata": {},
   "source": [
    "このように，意図した回数だけループが実行されたかどうかは，コーディングミスの出やすい部分である．境界条件がどのように働いているかのチェックは必ず行うことを是非習慣化したい次第である．"
   ]
  },
  {
   "cell_type": "markdown",
   "metadata": {},
   "source": [
    "さて，それでは\n",
    "\n",
    "Question2:1~100の和を計算するといくらになるか？\n",
    "\n",
    "を，今度はwhile~end文を用いてコーディングしてみよう．"
   ]
  },
  {
   "cell_type": "code",
   "execution_count": 20,
   "metadata": {},
   "outputs": [
    {
     "name": "stdout",
     "output_type": "stream",
     "text": [
      "5050"
     ]
    }
   ],
   "source": [
    "## 解答欄\n",
    "\n",
    "sum = 0\n",
    "i = 0\n",
    "\n",
    "while i < 100\n",
    "    i = i + 1\n",
    "    sum += i\n",
    "end\n",
    "\n",
    "print(sum)\n"
   ]
  },
  {
   "cell_type": "markdown",
   "metadata": {},
   "source": [
    "　"
   ]
  },
  {
   "cell_type": "markdown",
   "metadata": {},
   "source": [
    "[応用例]　Fibonacci数列の表示プログラム\n",
    "\n",
    "Fibonacci数列は以下のように定義される漸化式である．\n",
    "\n",
    "\\begin{align}\n",
    "F_0 &= 0, \\\\\n",
    "F_1 &= 1, \\\\\n",
    "F_{n + 2} &= F_n + F_{n + 1} \\quad (n ≧ 0).\n",
    "\\end{align}"
   ]
  },
  {
   "cell_type": "code",
   "execution_count": 21,
   "metadata": {},
   "outputs": [
    {
     "name": "stdout",
     "output_type": "stream",
     "text": [
      "1\n",
      "1\n",
      "2\n",
      "3\n",
      "5\n",
      "8\n",
      "13\n",
      "21\n"
     ]
    }
   ],
   "source": [
    "F₀, F₁ = 0, 1\n",
    "while F₁ < 30\n",
    "    println(F₁)\n",
    "    F₀, F₁ = F₁, F₀+F₁\n",
    "end"
   ]
  },
  {
   "cell_type": "markdown",
   "metadata": {},
   "source": [
    "上記プログラムでは，とりあえず$F_n$が30までのFibonacci数を表示している．\n",
    "\n",
    "なお，上記プログラムの`F₀, F₁ = 0, 1`や，`F₀, F₁ = F₁, F₀+F₁`の部分は，**多重代入**と呼ばれる操作であり，代入操作をタプルで取り扱っているわけである．"
   ]
  },
  {
   "cell_type": "markdown",
   "metadata": {},
   "source": [
    "さて，上記のプログラムで毎度Fibonacci数を表示しても良いが，配列(リスト)に格納できるとさらに便利になるだろう．\n",
    "\n",
    "ということで，次のように改良する．"
   ]
  },
  {
   "cell_type": "code",
   "execution_count": 22,
   "metadata": {},
   "outputs": [
    {
     "name": "stdout",
     "output_type": "stream",
     "text": [
      "[0, 1, 1, 2, 3, 5, 8, 13, 21, 34, 55, 89, 144, 233, 377, 610, 987]"
     ]
    }
   ],
   "source": [
    "F₀, F₁ = 0, 1\n",
    "fibonacci = [F₀] # 最初の要素のみが入る，'fibonacci'という配列を用意\n",
    "while F₁ < 1000\n",
    "    append!(fibonacci, F₁) # 'fibonacci'という配列にF₁の値を追加\n",
    "    F₀, F₁ = F₁, F₀+F₁\n",
    "end\n",
    "print(fibonacci)"
   ]
  },
  {
   "cell_type": "markdown",
   "metadata": {},
   "source": [
    "さらに，この計算結果をグラフに表してみよう．\n",
    "\n",
    "まず，前回**Plots**パッケージをインストールしていない場合，以下のセルを実行しよう．"
   ]
  },
  {
   "cell_type": "code",
   "execution_count": null,
   "metadata": {},
   "outputs": [],
   "source": [
    "using Pkg\n",
    "Pkg.add(\"Plots\")\n",
    "Pkg.add(\"GR\")"
   ]
  },
  {
   "cell_type": "markdown",
   "metadata": {},
   "source": [
    "ダウンロードが完了している場合，以下のように**Plots**の利用を宣言しよう．"
   ]
  },
  {
   "cell_type": "code",
   "execution_count": 23,
   "metadata": {},
   "outputs": [
    {
     "data": {
      "text/plain": [
       "Plots.GRBackend()"
      ]
     },
     "execution_count": 23,
     "metadata": {},
     "output_type": "execute_result"
    }
   ],
   "source": [
    "using Plots; gr()"
   ]
  },
  {
   "cell_type": "markdown",
   "metadata": {},
   "source": [
    "それでは，以下のplot文を実行してみよう．"
   ]
  },
  {
   "cell_type": "code",
   "execution_count": 24,
   "metadata": {},
   "outputs": [
    {
     "data": {
      "image/svg+xml": [
       "<?xml version=\"1.0\" encoding=\"utf-8\"?>\n",
       "<svg xmlns=\"http://www.w3.org/2000/svg\" xmlns:xlink=\"http://www.w3.org/1999/xlink\" width=\"600\" height=\"400\" viewBox=\"0 0 2400 1600\">\n",
       "<defs>\n",
       "  <clipPath id=\"clip760\">\n",
       "    <rect x=\"0\" y=\"0\" width=\"2400\" height=\"1600\"/>\n",
       "  </clipPath>\n",
       "</defs>\n",
       "<path clip-path=\"url(#clip760)\" d=\"\n",
       "M0 1600 L2400 1600 L2400 0 L0 0  Z\n",
       "  \" fill=\"#ffffff\" fill-rule=\"evenodd\" fill-opacity=\"1\"/>\n",
       "<defs>\n",
       "  <clipPath id=\"clip761\">\n",
       "    <rect x=\"480\" y=\"0\" width=\"1681\" height=\"1600\"/>\n",
       "  </clipPath>\n",
       "</defs>\n",
       "<path clip-path=\"url(#clip760)\" d=\"\n",
       "M199.283 1486.45 L2352.76 1486.45 L2352.76 47.2441 L199.283 47.2441  Z\n",
       "  \" fill=\"#ffffff\" fill-rule=\"evenodd\" fill-opacity=\"1\"/>\n",
       "<defs>\n",
       "  <clipPath id=\"clip762\">\n",
       "    <rect x=\"199\" y=\"47\" width=\"2154\" height=\"1440\"/>\n",
       "  </clipPath>\n",
       "</defs>\n",
       "<polyline clip-path=\"url(#clip762)\" style=\"stroke:#000000; stroke-linecap:butt; stroke-linejoin:round; stroke-width:2; stroke-opacity:0.1; fill:none\" points=\"\n",
       "  514.178,1486.45 514.178,47.2441 \n",
       "  \"/>\n",
       "<polyline clip-path=\"url(#clip762)\" style=\"stroke:#000000; stroke-linecap:butt; stroke-linejoin:round; stroke-width:2; stroke-opacity:0.1; fill:none\" points=\"\n",
       "  895.099,1486.45 895.099,47.2441 \n",
       "  \"/>\n",
       "<polyline clip-path=\"url(#clip762)\" style=\"stroke:#000000; stroke-linecap:butt; stroke-linejoin:round; stroke-width:2; stroke-opacity:0.1; fill:none\" points=\"\n",
       "  1276.02,1486.45 1276.02,47.2441 \n",
       "  \"/>\n",
       "<polyline clip-path=\"url(#clip762)\" style=\"stroke:#000000; stroke-linecap:butt; stroke-linejoin:round; stroke-width:2; stroke-opacity:0.1; fill:none\" points=\"\n",
       "  1656.94,1486.45 1656.94,47.2441 \n",
       "  \"/>\n",
       "<polyline clip-path=\"url(#clip762)\" style=\"stroke:#000000; stroke-linecap:butt; stroke-linejoin:round; stroke-width:2; stroke-opacity:0.1; fill:none\" points=\"\n",
       "  2037.86,1486.45 2037.86,47.2441 \n",
       "  \"/>\n",
       "<polyline clip-path=\"url(#clip760)\" style=\"stroke:#000000; stroke-linecap:butt; stroke-linejoin:round; stroke-width:4; stroke-opacity:1; fill:none\" points=\"\n",
       "  199.283,1486.45 2352.76,1486.45 \n",
       "  \"/>\n",
       "<polyline clip-path=\"url(#clip760)\" style=\"stroke:#000000; stroke-linecap:butt; stroke-linejoin:round; stroke-width:4; stroke-opacity:1; fill:none\" points=\"\n",
       "  514.178,1486.45 514.178,1467.55 \n",
       "  \"/>\n",
       "<polyline clip-path=\"url(#clip760)\" style=\"stroke:#000000; stroke-linecap:butt; stroke-linejoin:round; stroke-width:4; stroke-opacity:1; fill:none\" points=\"\n",
       "  895.099,1486.45 895.099,1467.55 \n",
       "  \"/>\n",
       "<polyline clip-path=\"url(#clip760)\" style=\"stroke:#000000; stroke-linecap:butt; stroke-linejoin:round; stroke-width:4; stroke-opacity:1; fill:none\" points=\"\n",
       "  1276.02,1486.45 1276.02,1467.55 \n",
       "  \"/>\n",
       "<polyline clip-path=\"url(#clip760)\" style=\"stroke:#000000; stroke-linecap:butt; stroke-linejoin:round; stroke-width:4; stroke-opacity:1; fill:none\" points=\"\n",
       "  1656.94,1486.45 1656.94,1467.55 \n",
       "  \"/>\n",
       "<polyline clip-path=\"url(#clip760)\" style=\"stroke:#000000; stroke-linecap:butt; stroke-linejoin:round; stroke-width:4; stroke-opacity:1; fill:none\" points=\"\n",
       "  2037.86,1486.45 2037.86,1467.55 \n",
       "  \"/>\n",
       "<path clip-path=\"url(#clip760)\" d=\"M518.425 1528.49 Q521.782 1529.2 523.657 1531.47 Q525.555 1533.74 525.555 1537.07 Q525.555 1542.19 522.037 1544.99 Q518.518 1547.79 512.037 1547.79 Q509.861 1547.79 507.546 1547.35 Q505.254 1546.93 502.801 1546.08 L502.801 1541.56 Q504.745 1542.7 507.06 1543.28 Q509.375 1543.86 511.898 1543.86 Q516.296 1543.86 518.587 1542.12 Q520.902 1540.38 520.902 1537.07 Q520.902 1534.02 518.75 1532.31 Q516.62 1530.57 512.8 1530.57 L508.773 1530.57 L508.773 1526.73 L512.986 1526.73 Q516.435 1526.73 518.263 1525.36 Q520.092 1523.97 520.092 1521.38 Q520.092 1518.72 518.194 1517.31 Q516.319 1515.87 512.8 1515.87 Q510.879 1515.87 508.68 1516.29 Q506.481 1516.7 503.842 1517.58 L503.842 1513.42 Q506.504 1512.68 508.819 1512.31 Q511.157 1511.93 513.217 1511.93 Q518.541 1511.93 521.643 1514.37 Q524.745 1516.77 524.745 1520.89 Q524.745 1523.76 523.101 1525.75 Q521.458 1527.72 518.425 1528.49 Z\" fill=\"#000000\" fill-rule=\"evenodd\" fill-opacity=\"1\" /><path clip-path=\"url(#clip760)\" d=\"M895.504 1527.98 Q892.356 1527.98 890.504 1530.13 Q888.675 1532.28 888.675 1536.03 Q888.675 1539.76 890.504 1541.93 Q892.356 1544.09 895.504 1544.09 Q898.652 1544.09 900.481 1541.93 Q902.332 1539.76 902.332 1536.03 Q902.332 1532.28 900.481 1530.13 Q898.652 1527.98 895.504 1527.98 M904.786 1513.32 L904.786 1517.58 Q903.027 1516.75 901.221 1516.31 Q899.439 1515.87 897.68 1515.87 Q893.05 1515.87 890.596 1519 Q888.166 1522.12 887.819 1528.44 Q889.184 1526.43 891.245 1525.36 Q893.305 1524.27 895.782 1524.27 Q900.99 1524.27 903.999 1527.44 Q907.031 1530.59 907.031 1536.03 Q907.031 1541.36 903.883 1544.57 Q900.735 1547.79 895.504 1547.79 Q889.508 1547.79 886.337 1543.21 Q883.166 1538.6 883.166 1529.87 Q883.166 1521.68 887.055 1516.82 Q890.944 1511.93 897.494 1511.93 Q899.254 1511.93 901.036 1512.28 Q902.842 1512.63 904.786 1513.32 Z\" fill=\"#000000\" fill-rule=\"evenodd\" fill-opacity=\"1\" /><path clip-path=\"url(#clip760)\" d=\"M1266.32 1546.4 L1266.32 1542.14 Q1268.08 1542.98 1269.89 1543.42 Q1271.69 1543.86 1273.43 1543.86 Q1278.06 1543.86 1280.49 1540.75 Q1282.94 1537.63 1283.29 1531.29 Q1281.95 1533.28 1279.89 1534.34 Q1277.83 1535.41 1275.33 1535.41 Q1270.14 1535.41 1267.11 1532.28 Q1264.1 1529.13 1264.1 1523.69 Q1264.1 1518.37 1267.25 1515.15 Q1270.39 1511.93 1275.63 1511.93 Q1281.62 1511.93 1284.77 1516.54 Q1287.94 1521.12 1287.94 1529.87 Q1287.94 1538.05 1284.05 1542.93 Q1280.19 1547.79 1273.64 1547.79 Q1271.88 1547.79 1270.07 1547.44 Q1268.26 1547.1 1266.32 1546.4 M1275.63 1531.75 Q1278.77 1531.75 1280.6 1529.6 Q1282.45 1527.44 1282.45 1523.69 Q1282.45 1519.97 1280.6 1517.81 Q1278.77 1515.64 1275.63 1515.64 Q1272.48 1515.64 1270.63 1517.81 Q1268.8 1519.97 1268.8 1523.69 Q1268.8 1527.44 1270.63 1529.6 Q1272.48 1531.75 1275.63 1531.75 Z\" fill=\"#000000\" fill-rule=\"evenodd\" fill-opacity=\"1\" /><path clip-path=\"url(#clip760)\" d=\"M1632.43 1543.18 L1640.07 1543.18 L1640.07 1516.82 L1631.76 1518.49 L1631.76 1514.23 L1640.02 1512.56 L1644.7 1512.56 L1644.7 1543.18 L1652.33 1543.18 L1652.33 1547.12 L1632.43 1547.12 L1632.43 1543.18 Z\" fill=\"#000000\" fill-rule=\"evenodd\" fill-opacity=\"1\" /><path clip-path=\"url(#clip760)\" d=\"M1665.81 1543.18 L1682.13 1543.18 L1682.13 1547.12 L1660.18 1547.12 L1660.18 1543.18 Q1662.84 1540.43 1667.43 1535.8 Q1672.03 1531.15 1673.21 1529.81 Q1675.46 1527.28 1676.34 1525.55 Q1677.24 1523.79 1677.24 1522.1 Q1677.24 1519.34 1675.3 1517.61 Q1673.38 1515.87 1670.27 1515.87 Q1668.07 1515.87 1665.62 1516.63 Q1663.19 1517.4 1660.41 1518.95 L1660.41 1514.23 Q1663.24 1513.09 1665.69 1512.51 Q1668.14 1511.93 1670.18 1511.93 Q1675.55 1511.93 1678.75 1514.62 Q1681.94 1517.31 1681.94 1521.8 Q1681.94 1523.93 1681.13 1525.85 Q1680.34 1527.74 1678.24 1530.34 Q1677.66 1531.01 1674.56 1534.23 Q1671.45 1537.42 1665.81 1543.18 Z\" fill=\"#000000\" fill-rule=\"evenodd\" fill-opacity=\"1\" /><path clip-path=\"url(#clip760)\" d=\"M2013.05 1543.18 L2020.69 1543.18 L2020.69 1516.82 L2012.38 1518.49 L2012.38 1514.23 L2020.64 1512.56 L2025.32 1512.56 L2025.32 1543.18 L2032.95 1543.18 L2032.95 1547.12 L2013.05 1547.12 L2013.05 1543.18 Z\" fill=\"#000000\" fill-rule=\"evenodd\" fill-opacity=\"1\" /><path clip-path=\"url(#clip760)\" d=\"M2042.44 1512.56 L2060.8 1512.56 L2060.8 1516.5 L2046.73 1516.5 L2046.73 1524.97 Q2047.75 1524.62 2048.76 1524.46 Q2049.78 1524.27 2050.8 1524.27 Q2056.59 1524.27 2059.97 1527.44 Q2063.35 1530.62 2063.35 1536.03 Q2063.35 1541.61 2059.88 1544.71 Q2056.4 1547.79 2050.08 1547.79 Q2047.91 1547.79 2045.64 1547.42 Q2043.39 1547.05 2040.99 1546.31 L2040.99 1541.61 Q2043.07 1542.74 2045.29 1543.3 Q2047.51 1543.86 2049.99 1543.86 Q2054 1543.86 2056.33 1541.75 Q2058.67 1539.64 2058.67 1536.03 Q2058.67 1532.42 2056.33 1530.31 Q2054 1528.21 2049.99 1528.21 Q2048.12 1528.21 2046.24 1528.62 Q2044.39 1529.04 2042.44 1529.92 L2042.44 1512.56 Z\" fill=\"#000000\" fill-rule=\"evenodd\" fill-opacity=\"1\" /><polyline clip-path=\"url(#clip762)\" style=\"stroke:#000000; stroke-linecap:butt; stroke-linejoin:round; stroke-width:2; stroke-opacity:0.1; fill:none\" points=\"\n",
       "  199.283,1445.72 2352.76,1445.72 \n",
       "  \"/>\n",
       "<polyline clip-path=\"url(#clip762)\" style=\"stroke:#000000; stroke-linecap:butt; stroke-linejoin:round; stroke-width:2; stroke-opacity:0.1; fill:none\" points=\"\n",
       "  199.283,1101.81 2352.76,1101.81 \n",
       "  \"/>\n",
       "<polyline clip-path=\"url(#clip762)\" style=\"stroke:#000000; stroke-linecap:butt; stroke-linejoin:round; stroke-width:2; stroke-opacity:0.1; fill:none\" points=\"\n",
       "  199.283,757.904 2352.76,757.904 \n",
       "  \"/>\n",
       "<polyline clip-path=\"url(#clip762)\" style=\"stroke:#000000; stroke-linecap:butt; stroke-linejoin:round; stroke-width:2; stroke-opacity:0.1; fill:none\" points=\"\n",
       "  199.283,413.999 2352.76,413.999 \n",
       "  \"/>\n",
       "<polyline clip-path=\"url(#clip762)\" style=\"stroke:#000000; stroke-linecap:butt; stroke-linejoin:round; stroke-width:2; stroke-opacity:0.1; fill:none\" points=\"\n",
       "  199.283,70.0932 2352.76,70.0932 \n",
       "  \"/>\n",
       "<polyline clip-path=\"url(#clip760)\" style=\"stroke:#000000; stroke-linecap:butt; stroke-linejoin:round; stroke-width:4; stroke-opacity:1; fill:none\" points=\"\n",
       "  199.283,1486.45 199.283,47.2441 \n",
       "  \"/>\n",
       "<polyline clip-path=\"url(#clip760)\" style=\"stroke:#000000; stroke-linecap:butt; stroke-linejoin:round; stroke-width:4; stroke-opacity:1; fill:none\" points=\"\n",
       "  199.283,1445.72 218.181,1445.72 \n",
       "  \"/>\n",
       "<polyline clip-path=\"url(#clip760)\" style=\"stroke:#000000; stroke-linecap:butt; stroke-linejoin:round; stroke-width:4; stroke-opacity:1; fill:none\" points=\"\n",
       "  199.283,1101.81 218.181,1101.81 \n",
       "  \"/>\n",
       "<polyline clip-path=\"url(#clip760)\" style=\"stroke:#000000; stroke-linecap:butt; stroke-linejoin:round; stroke-width:4; stroke-opacity:1; fill:none\" points=\"\n",
       "  199.283,757.904 218.181,757.904 \n",
       "  \"/>\n",
       "<polyline clip-path=\"url(#clip760)\" style=\"stroke:#000000; stroke-linecap:butt; stroke-linejoin:round; stroke-width:4; stroke-opacity:1; fill:none\" points=\"\n",
       "  199.283,413.999 218.181,413.999 \n",
       "  \"/>\n",
       "<polyline clip-path=\"url(#clip760)\" style=\"stroke:#000000; stroke-linecap:butt; stroke-linejoin:round; stroke-width:4; stroke-opacity:1; fill:none\" points=\"\n",
       "  199.283,70.0932 218.181,70.0932 \n",
       "  \"/>\n",
       "<path clip-path=\"url(#clip760)\" d=\"M151.339 1431.51 Q147.728 1431.51 145.899 1435.08 Q144.093 1438.62 144.093 1445.75 Q144.093 1452.86 145.899 1456.42 Q147.728 1459.96 151.339 1459.96 Q154.973 1459.96 156.779 1456.42 Q158.607 1452.86 158.607 1445.75 Q158.607 1438.62 156.779 1435.08 Q154.973 1431.51 151.339 1431.51 M151.339 1427.81 Q157.149 1427.81 160.205 1432.42 Q163.283 1437 163.283 1445.75 Q163.283 1454.48 160.205 1459.08 Q157.149 1463.67 151.339 1463.67 Q145.529 1463.67 142.45 1459.08 Q139.394 1454.48 139.394 1445.75 Q139.394 1437 142.45 1432.42 Q145.529 1427.81 151.339 1427.81 Z\" fill=\"#000000\" fill-rule=\"evenodd\" fill-opacity=\"1\" /><path clip-path=\"url(#clip760)\" d=\"M85.0429 1115.15 L101.362 1115.15 L101.362 1119.09 L79.4179 1119.09 L79.4179 1115.15 Q82.0799 1112.4 86.6632 1107.77 Q91.2697 1103.12 92.4502 1101.78 Q94.6956 1099.25 95.5752 1097.52 Q96.478 1095.76 96.478 1094.07 Q96.478 1091.31 94.5336 1089.58 Q92.6123 1087.84 89.5104 1087.84 Q87.3114 1087.84 84.8577 1088.6 Q82.4271 1089.37 79.6494 1090.92 L79.6494 1086.2 Q82.4734 1085.06 84.9271 1084.48 Q87.3808 1083.91 89.4178 1083.91 Q94.7882 1083.91 97.9826 1086.59 Q101.177 1089.28 101.177 1093.77 Q101.177 1095.9 100.367 1097.82 Q99.5798 1099.72 97.4734 1102.31 Q96.8947 1102.98 93.7928 1106.2 Q90.691 1109.39 85.0429 1115.15 Z\" fill=\"#000000\" fill-rule=\"evenodd\" fill-opacity=\"1\" /><path clip-path=\"url(#clip760)\" d=\"M111.223 1084.53 L129.58 1084.53 L129.58 1088.47 L115.506 1088.47 L115.506 1096.94 Q116.524 1096.59 117.543 1096.43 Q118.561 1096.24 119.58 1096.24 Q125.367 1096.24 128.746 1099.41 Q132.126 1102.59 132.126 1108 Q132.126 1113.58 128.654 1116.68 Q125.182 1119.76 118.862 1119.76 Q116.686 1119.76 114.418 1119.39 Q112.172 1119.02 109.765 1118.28 L109.765 1113.58 Q111.848 1114.72 114.07 1115.27 Q116.293 1115.83 118.77 1115.83 Q122.774 1115.83 125.112 1113.72 Q127.45 1111.61 127.45 1108 Q127.45 1104.39 125.112 1102.28 Q122.774 1100.18 118.77 1100.18 Q116.895 1100.18 115.02 1100.59 Q113.168 1101.01 111.223 1101.89 L111.223 1084.53 Z\" fill=\"#000000\" fill-rule=\"evenodd\" fill-opacity=\"1\" /><path clip-path=\"url(#clip760)\" d=\"M151.339 1087.61 Q147.728 1087.61 145.899 1091.17 Q144.093 1094.72 144.093 1101.84 Q144.093 1108.95 145.899 1112.52 Q147.728 1116.06 151.339 1116.06 Q154.973 1116.06 156.779 1112.52 Q158.607 1108.95 158.607 1101.84 Q158.607 1094.72 156.779 1091.17 Q154.973 1087.61 151.339 1087.61 M151.339 1083.91 Q157.149 1083.91 160.205 1088.51 Q163.283 1093.09 163.283 1101.84 Q163.283 1110.57 160.205 1115.18 Q157.149 1119.76 151.339 1119.76 Q145.529 1119.76 142.45 1115.18 Q139.394 1110.57 139.394 1101.84 Q139.394 1093.09 142.45 1088.51 Q145.529 1083.91 151.339 1083.91 Z\" fill=\"#000000\" fill-rule=\"evenodd\" fill-opacity=\"1\" /><path clip-path=\"url(#clip760)\" d=\"M81.0614 740.624 L99.4178 740.624 L99.4178 744.56 L85.3438 744.56 L85.3438 753.032 Q86.3623 752.685 87.3808 752.523 Q88.3993 752.337 89.4178 752.337 Q95.2049 752.337 98.5845 755.509 Q101.964 758.68 101.964 764.097 Q101.964 769.675 98.4919 772.777 Q95.0197 775.856 88.7003 775.856 Q86.5243 775.856 84.2558 775.485 Q82.0105 775.115 79.6031 774.374 L79.6031 769.675 Q81.6864 770.809 83.9086 771.365 Q86.1308 771.921 88.6077 771.921 Q92.6123 771.921 94.9502 769.814 Q97.2882 767.708 97.2882 764.097 Q97.2882 760.485 94.9502 758.379 Q92.6123 756.273 88.6077 756.273 Q86.7327 756.273 84.8577 756.689 Q83.0058 757.106 81.0614 757.985 L81.0614 740.624 Z\" fill=\"#000000\" fill-rule=\"evenodd\" fill-opacity=\"1\" /><path clip-path=\"url(#clip760)\" d=\"M121.177 743.703 Q117.566 743.703 115.737 747.268 Q113.932 750.81 113.932 757.939 Q113.932 765.046 115.737 768.61 Q117.566 772.152 121.177 772.152 Q124.811 772.152 126.617 768.61 Q128.445 765.046 128.445 757.939 Q128.445 750.81 126.617 747.268 Q124.811 743.703 121.177 743.703 M121.177 739.999 Q126.987 739.999 130.043 744.606 Q133.121 749.189 133.121 757.939 Q133.121 766.666 130.043 771.272 Q126.987 775.856 121.177 775.856 Q115.367 775.856 112.288 771.272 Q109.233 766.666 109.233 757.939 Q109.233 749.189 112.288 744.606 Q115.367 739.999 121.177 739.999 Z\" fill=\"#000000\" fill-rule=\"evenodd\" fill-opacity=\"1\" /><path clip-path=\"url(#clip760)\" d=\"M151.339 743.703 Q147.728 743.703 145.899 747.268 Q144.093 750.81 144.093 757.939 Q144.093 765.046 145.899 768.61 Q147.728 772.152 151.339 772.152 Q154.973 772.152 156.779 768.61 Q158.607 765.046 158.607 757.939 Q158.607 750.81 156.779 747.268 Q154.973 743.703 151.339 743.703 M151.339 739.999 Q157.149 739.999 160.205 744.606 Q163.283 749.189 163.283 757.939 Q163.283 766.666 160.205 771.272 Q157.149 775.856 151.339 775.856 Q145.529 775.856 142.45 771.272 Q139.394 766.666 139.394 757.939 Q139.394 749.189 142.45 744.606 Q145.529 739.999 151.339 739.999 Z\" fill=\"#000000\" fill-rule=\"evenodd\" fill-opacity=\"1\" /><path clip-path=\"url(#clip760)\" d=\"M79.8346 396.719 L102.057 396.719 L102.057 398.71 L89.5104 431.279 L84.6262 431.279 L96.4317 400.654 L79.8346 400.654 L79.8346 396.719 Z\" fill=\"#000000\" fill-rule=\"evenodd\" fill-opacity=\"1\" /><path clip-path=\"url(#clip760)\" d=\"M111.223 396.719 L129.58 396.719 L129.58 400.654 L115.506 400.654 L115.506 409.126 Q116.524 408.779 117.543 408.617 Q118.561 408.432 119.58 408.432 Q125.367 408.432 128.746 411.603 Q132.126 414.774 132.126 420.191 Q132.126 425.77 128.654 428.871 Q125.182 431.95 118.862 431.95 Q116.686 431.95 114.418 431.58 Q112.172 431.209 109.765 430.469 L109.765 425.77 Q111.848 426.904 114.07 427.459 Q116.293 428.015 118.77 428.015 Q122.774 428.015 125.112 425.908 Q127.45 423.802 127.45 420.191 Q127.45 416.58 125.112 414.473 Q122.774 412.367 118.77 412.367 Q116.895 412.367 115.02 412.784 Q113.168 413.2 111.223 414.08 L111.223 396.719 Z\" fill=\"#000000\" fill-rule=\"evenodd\" fill-opacity=\"1\" /><path clip-path=\"url(#clip760)\" d=\"M151.339 399.797 Q147.728 399.797 145.899 403.362 Q144.093 406.904 144.093 414.034 Q144.093 421.14 145.899 424.705 Q147.728 428.246 151.339 428.246 Q154.973 428.246 156.779 424.705 Q158.607 421.14 158.607 414.034 Q158.607 406.904 156.779 403.362 Q154.973 399.797 151.339 399.797 M151.339 396.094 Q157.149 396.094 160.205 400.7 Q163.283 405.284 163.283 414.034 Q163.283 422.76 160.205 427.367 Q157.149 431.95 151.339 431.95 Q145.529 431.95 142.45 427.367 Q139.394 422.76 139.394 414.034 Q139.394 405.284 142.45 400.7 Q145.529 396.094 151.339 396.094 Z\" fill=\"#000000\" fill-rule=\"evenodd\" fill-opacity=\"1\" /><path clip-path=\"url(#clip760)\" d=\"M51.6634 83.438 L59.3023 83.438 L59.3023 57.0724 L50.9921 58.7391 L50.9921 54.4798 L59.256 52.8132 L63.9319 52.8132 L63.9319 83.438 L71.5707 83.438 L71.5707 87.3732 L51.6634 87.3732 L51.6634 83.438 Z\" fill=\"#000000\" fill-rule=\"evenodd\" fill-opacity=\"1\" /><path clip-path=\"url(#clip760)\" d=\"M91.0151 55.8919 Q87.404 55.8919 85.5753 59.4567 Q83.7697 62.9983 83.7697 70.1279 Q83.7697 77.2343 85.5753 80.7991 Q87.404 84.3408 91.0151 84.3408 Q94.6493 84.3408 96.4548 80.7991 Q98.2835 77.2343 98.2835 70.1279 Q98.2835 62.9983 96.4548 59.4567 Q94.6493 55.8919 91.0151 55.8919 M91.0151 52.1882 Q96.8252 52.1882 99.8808 56.7946 Q102.959 61.378 102.959 70.1279 Q102.959 78.8547 99.8808 83.4612 Q96.8252 88.0445 91.0151 88.0445 Q85.2049 88.0445 82.1262 83.4612 Q79.0707 78.8547 79.0707 70.1279 Q79.0707 61.378 82.1262 56.7946 Q85.2049 52.1882 91.0151 52.1882 Z\" fill=\"#000000\" fill-rule=\"evenodd\" fill-opacity=\"1\" /><path clip-path=\"url(#clip760)\" d=\"M121.177 55.8919 Q117.566 55.8919 115.737 59.4567 Q113.932 62.9983 113.932 70.1279 Q113.932 77.2343 115.737 80.7991 Q117.566 84.3408 121.177 84.3408 Q124.811 84.3408 126.617 80.7991 Q128.445 77.2343 128.445 70.1279 Q128.445 62.9983 126.617 59.4567 Q124.811 55.8919 121.177 55.8919 M121.177 52.1882 Q126.987 52.1882 130.043 56.7946 Q133.121 61.378 133.121 70.1279 Q133.121 78.8547 130.043 83.4612 Q126.987 88.0445 121.177 88.0445 Q115.367 88.0445 112.288 83.4612 Q109.233 78.8547 109.233 70.1279 Q109.233 61.378 112.288 56.7946 Q115.367 52.1882 121.177 52.1882 Z\" fill=\"#000000\" fill-rule=\"evenodd\" fill-opacity=\"1\" /><path clip-path=\"url(#clip760)\" d=\"M151.339 55.8919 Q147.728 55.8919 145.899 59.4567 Q144.093 62.9983 144.093 70.1279 Q144.093 77.2343 145.899 80.7991 Q147.728 84.3408 151.339 84.3408 Q154.973 84.3408 156.779 80.7991 Q158.607 77.2343 158.607 70.1279 Q158.607 62.9983 156.779 59.4567 Q154.973 55.8919 151.339 55.8919 M151.339 52.1882 Q157.149 52.1882 160.205 56.7946 Q163.283 61.378 163.283 70.1279 Q163.283 78.8547 160.205 83.4612 Q157.149 88.0445 151.339 88.0445 Q145.529 88.0445 142.45 83.4612 Q139.394 78.8547 139.394 70.1279 Q139.394 61.378 142.45 56.7946 Q145.529 52.1882 151.339 52.1882 Z\" fill=\"#000000\" fill-rule=\"evenodd\" fill-opacity=\"1\" /><polyline clip-path=\"url(#clip762)\" style=\"stroke:#009af9; stroke-linecap:butt; stroke-linejoin:round; stroke-width:4; stroke-opacity:1; fill:none\" points=\"\n",
       "  260.231,1445.72 387.204,1444.34 514.178,1444.34 641.151,1442.96 768.125,1441.59 895.099,1438.84 1022.07,1434.71 1149.05,1427.83 1276.02,1416.83 1402.99,1398.94 \n",
       "  1529.97,1370.06 1656.94,1323.29 1783.91,1247.63 1910.89,1125.2 2037.86,927.106 2164.83,606.586 2291.81,87.9763 \n",
       "  \"/>\n",
       "<circle clip-path=\"url(#clip762)\" cx=\"260.231\" cy=\"1445.72\" r=\"14\" fill=\"#009af9\" fill-rule=\"evenodd\" fill-opacity=\"1\" stroke=\"#000000\" stroke-opacity=\"1\" stroke-width=\"3.2\"/>\n",
       "<circle clip-path=\"url(#clip762)\" cx=\"387.204\" cy=\"1444.34\" r=\"14\" fill=\"#009af9\" fill-rule=\"evenodd\" fill-opacity=\"1\" stroke=\"#000000\" stroke-opacity=\"1\" stroke-width=\"3.2\"/>\n",
       "<circle clip-path=\"url(#clip762)\" cx=\"514.178\" cy=\"1444.34\" r=\"14\" fill=\"#009af9\" fill-rule=\"evenodd\" fill-opacity=\"1\" stroke=\"#000000\" stroke-opacity=\"1\" stroke-width=\"3.2\"/>\n",
       "<circle clip-path=\"url(#clip762)\" cx=\"641.151\" cy=\"1442.96\" r=\"14\" fill=\"#009af9\" fill-rule=\"evenodd\" fill-opacity=\"1\" stroke=\"#000000\" stroke-opacity=\"1\" stroke-width=\"3.2\"/>\n",
       "<circle clip-path=\"url(#clip762)\" cx=\"768.125\" cy=\"1441.59\" r=\"14\" fill=\"#009af9\" fill-rule=\"evenodd\" fill-opacity=\"1\" stroke=\"#000000\" stroke-opacity=\"1\" stroke-width=\"3.2\"/>\n",
       "<circle clip-path=\"url(#clip762)\" cx=\"895.099\" cy=\"1438.84\" r=\"14\" fill=\"#009af9\" fill-rule=\"evenodd\" fill-opacity=\"1\" stroke=\"#000000\" stroke-opacity=\"1\" stroke-width=\"3.2\"/>\n",
       "<circle clip-path=\"url(#clip762)\" cx=\"1022.07\" cy=\"1434.71\" r=\"14\" fill=\"#009af9\" fill-rule=\"evenodd\" fill-opacity=\"1\" stroke=\"#000000\" stroke-opacity=\"1\" stroke-width=\"3.2\"/>\n",
       "<circle clip-path=\"url(#clip762)\" cx=\"1149.05\" cy=\"1427.83\" r=\"14\" fill=\"#009af9\" fill-rule=\"evenodd\" fill-opacity=\"1\" stroke=\"#000000\" stroke-opacity=\"1\" stroke-width=\"3.2\"/>\n",
       "<circle clip-path=\"url(#clip762)\" cx=\"1276.02\" cy=\"1416.83\" r=\"14\" fill=\"#009af9\" fill-rule=\"evenodd\" fill-opacity=\"1\" stroke=\"#000000\" stroke-opacity=\"1\" stroke-width=\"3.2\"/>\n",
       "<circle clip-path=\"url(#clip762)\" cx=\"1402.99\" cy=\"1398.94\" r=\"14\" fill=\"#009af9\" fill-rule=\"evenodd\" fill-opacity=\"1\" stroke=\"#000000\" stroke-opacity=\"1\" stroke-width=\"3.2\"/>\n",
       "<circle clip-path=\"url(#clip762)\" cx=\"1529.97\" cy=\"1370.06\" r=\"14\" fill=\"#009af9\" fill-rule=\"evenodd\" fill-opacity=\"1\" stroke=\"#000000\" stroke-opacity=\"1\" stroke-width=\"3.2\"/>\n",
       "<circle clip-path=\"url(#clip762)\" cx=\"1656.94\" cy=\"1323.29\" r=\"14\" fill=\"#009af9\" fill-rule=\"evenodd\" fill-opacity=\"1\" stroke=\"#000000\" stroke-opacity=\"1\" stroke-width=\"3.2\"/>\n",
       "<circle clip-path=\"url(#clip762)\" cx=\"1783.91\" cy=\"1247.63\" r=\"14\" fill=\"#009af9\" fill-rule=\"evenodd\" fill-opacity=\"1\" stroke=\"#000000\" stroke-opacity=\"1\" stroke-width=\"3.2\"/>\n",
       "<circle clip-path=\"url(#clip762)\" cx=\"1910.89\" cy=\"1125.2\" r=\"14\" fill=\"#009af9\" fill-rule=\"evenodd\" fill-opacity=\"1\" stroke=\"#000000\" stroke-opacity=\"1\" stroke-width=\"3.2\"/>\n",
       "<circle clip-path=\"url(#clip762)\" cx=\"2037.86\" cy=\"927.106\" r=\"14\" fill=\"#009af9\" fill-rule=\"evenodd\" fill-opacity=\"1\" stroke=\"#000000\" stroke-opacity=\"1\" stroke-width=\"3.2\"/>\n",
       "<circle clip-path=\"url(#clip762)\" cx=\"2164.83\" cy=\"606.586\" r=\"14\" fill=\"#009af9\" fill-rule=\"evenodd\" fill-opacity=\"1\" stroke=\"#000000\" stroke-opacity=\"1\" stroke-width=\"3.2\"/>\n",
       "<circle clip-path=\"url(#clip762)\" cx=\"2291.81\" cy=\"87.9763\" r=\"14\" fill=\"#009af9\" fill-rule=\"evenodd\" fill-opacity=\"1\" stroke=\"#000000\" stroke-opacity=\"1\" stroke-width=\"3.2\"/>\n",
       "</svg>\n"
      ]
     },
     "execution_count": 24,
     "metadata": {},
     "output_type": "execute_result"
    }
   ],
   "source": [
    "plot(fibonacci, marker=:circle, legend=:none)"
   ]
  },
  {
   "cell_type": "markdown",
   "metadata": {},
   "source": [
    "フィボナッチ数列が急激に値が増加するものであることが実感できる．\n",
    "\n",
    "値の小さいところを詳しく見るためには片対数グラフが適切だろう．"
   ]
  },
  {
   "cell_type": "code",
   "execution_count": 25,
   "metadata": {},
   "outputs": [
    {
     "data": {
      "image/svg+xml": [
       "<?xml version=\"1.0\" encoding=\"utf-8\"?>\n",
       "<svg xmlns=\"http://www.w3.org/2000/svg\" xmlns:xlink=\"http://www.w3.org/1999/xlink\" width=\"600\" height=\"400\" viewBox=\"0 0 2400 1600\">\n",
       "<defs>\n",
       "  <clipPath id=\"clip800\">\n",
       "    <rect x=\"0\" y=\"0\" width=\"2400\" height=\"1600\"/>\n",
       "  </clipPath>\n",
       "</defs>\n",
       "<path clip-path=\"url(#clip800)\" d=\"\n",
       "M0 1600 L2400 1600 L2400 0 L0 0  Z\n",
       "  \" fill=\"#ffffff\" fill-rule=\"evenodd\" fill-opacity=\"1\"/>\n",
       "<defs>\n",
       "  <clipPath id=\"clip801\">\n",
       "    <rect x=\"480\" y=\"0\" width=\"1681\" height=\"1600\"/>\n",
       "  </clipPath>\n",
       "</defs>\n",
       "<path clip-path=\"url(#clip800)\" d=\"\n",
       "M158.369 1486.45 L2352.76 1486.45 L2352.76 47.2441 L158.369 47.2441  Z\n",
       "  \" fill=\"#ffffff\" fill-rule=\"evenodd\" fill-opacity=\"1\"/>\n",
       "<defs>\n",
       "  <clipPath id=\"clip802\">\n",
       "    <rect x=\"158\" y=\"47\" width=\"2195\" height=\"1440\"/>\n",
       "  </clipPath>\n",
       "</defs>\n",
       "<polyline clip-path=\"url(#clip802)\" style=\"stroke:#000000; stroke-linecap:butt; stroke-linejoin:round; stroke-width:2; stroke-opacity:0.1; fill:none\" points=\"\n",
       "  368.344,1486.45 368.344,47.2441 \n",
       "  \"/>\n",
       "<polyline clip-path=\"url(#clip802)\" style=\"stroke:#000000; stroke-linecap:butt; stroke-linejoin:round; stroke-width:2; stroke-opacity:0.1; fill:none\" points=\"\n",
       "  664.084,1486.45 664.084,47.2441 \n",
       "  \"/>\n",
       "<polyline clip-path=\"url(#clip802)\" style=\"stroke:#000000; stroke-linecap:butt; stroke-linejoin:round; stroke-width:2; stroke-opacity:0.1; fill:none\" points=\"\n",
       "  959.823,1486.45 959.823,47.2441 \n",
       "  \"/>\n",
       "<polyline clip-path=\"url(#clip802)\" style=\"stroke:#000000; stroke-linecap:butt; stroke-linejoin:round; stroke-width:2; stroke-opacity:0.1; fill:none\" points=\"\n",
       "  1255.56,1486.45 1255.56,47.2441 \n",
       "  \"/>\n",
       "<polyline clip-path=\"url(#clip802)\" style=\"stroke:#000000; stroke-linecap:butt; stroke-linejoin:round; stroke-width:2; stroke-opacity:0.1; fill:none\" points=\"\n",
       "  1551.3,1486.45 1551.3,47.2441 \n",
       "  \"/>\n",
       "<polyline clip-path=\"url(#clip802)\" style=\"stroke:#000000; stroke-linecap:butt; stroke-linejoin:round; stroke-width:2; stroke-opacity:0.1; fill:none\" points=\"\n",
       "  1847.04,1486.45 1847.04,47.2441 \n",
       "  \"/>\n",
       "<polyline clip-path=\"url(#clip802)\" style=\"stroke:#000000; stroke-linecap:butt; stroke-linejoin:round; stroke-width:2; stroke-opacity:0.1; fill:none\" points=\"\n",
       "  2142.78,1486.45 2142.78,47.2441 \n",
       "  \"/>\n",
       "<polyline clip-path=\"url(#clip800)\" style=\"stroke:#000000; stroke-linecap:butt; stroke-linejoin:round; stroke-width:4; stroke-opacity:1; fill:none\" points=\"\n",
       "  158.369,1486.45 2352.76,1486.45 \n",
       "  \"/>\n",
       "<polyline clip-path=\"url(#clip800)\" style=\"stroke:#000000; stroke-linecap:butt; stroke-linejoin:round; stroke-width:4; stroke-opacity:1; fill:none\" points=\"\n",
       "  368.344,1486.45 368.344,1467.55 \n",
       "  \"/>\n",
       "<polyline clip-path=\"url(#clip800)\" style=\"stroke:#000000; stroke-linecap:butt; stroke-linejoin:round; stroke-width:4; stroke-opacity:1; fill:none\" points=\"\n",
       "  664.084,1486.45 664.084,1467.55 \n",
       "  \"/>\n",
       "<polyline clip-path=\"url(#clip800)\" style=\"stroke:#000000; stroke-linecap:butt; stroke-linejoin:round; stroke-width:4; stroke-opacity:1; fill:none\" points=\"\n",
       "  959.823,1486.45 959.823,1467.55 \n",
       "  \"/>\n",
       "<polyline clip-path=\"url(#clip800)\" style=\"stroke:#000000; stroke-linecap:butt; stroke-linejoin:round; stroke-width:4; stroke-opacity:1; fill:none\" points=\"\n",
       "  1255.56,1486.45 1255.56,1467.55 \n",
       "  \"/>\n",
       "<polyline clip-path=\"url(#clip800)\" style=\"stroke:#000000; stroke-linecap:butt; stroke-linejoin:round; stroke-width:4; stroke-opacity:1; fill:none\" points=\"\n",
       "  1551.3,1486.45 1551.3,1467.55 \n",
       "  \"/>\n",
       "<polyline clip-path=\"url(#clip800)\" style=\"stroke:#000000; stroke-linecap:butt; stroke-linejoin:round; stroke-width:4; stroke-opacity:1; fill:none\" points=\"\n",
       "  1847.04,1486.45 1847.04,1467.55 \n",
       "  \"/>\n",
       "<polyline clip-path=\"url(#clip800)\" style=\"stroke:#000000; stroke-linecap:butt; stroke-linejoin:round; stroke-width:4; stroke-opacity:1; fill:none\" points=\"\n",
       "  2142.78,1486.45 2142.78,1467.55 \n",
       "  \"/>\n",
       "<path clip-path=\"url(#clip800)\" d=\"M362.997 1543.18 L379.316 1543.18 L379.316 1547.12 L357.372 1547.12 L357.372 1543.18 Q360.034 1540.43 364.617 1535.8 Q369.224 1531.15 370.404 1529.81 Q372.65 1527.28 373.529 1525.55 Q374.432 1523.79 374.432 1522.1 Q374.432 1519.34 372.488 1517.61 Q370.566 1515.87 367.464 1515.87 Q365.265 1515.87 362.812 1516.63 Q360.381 1517.4 357.603 1518.95 L357.603 1514.23 Q360.427 1513.09 362.881 1512.51 Q365.335 1511.93 367.372 1511.93 Q372.742 1511.93 375.937 1514.62 Q379.131 1517.31 379.131 1521.8 Q379.131 1523.93 378.321 1525.85 Q377.534 1527.74 375.427 1530.34 Q374.849 1531.01 371.747 1534.23 Q368.645 1537.42 362.997 1543.18 Z\" fill=\"#000000\" fill-rule=\"evenodd\" fill-opacity=\"1\" /><path clip-path=\"url(#clip800)\" d=\"M667.093 1516.63 L655.287 1535.08 L667.093 1535.08 L667.093 1516.63 M665.866 1512.56 L671.746 1512.56 L671.746 1535.08 L676.676 1535.08 L676.676 1538.97 L671.746 1538.97 L671.746 1547.12 L667.093 1547.12 L667.093 1538.97 L651.491 1538.97 L651.491 1534.46 L665.866 1512.56 Z\" fill=\"#000000\" fill-rule=\"evenodd\" fill-opacity=\"1\" /><path clip-path=\"url(#clip800)\" d=\"M960.228 1527.98 Q957.08 1527.98 955.228 1530.13 Q953.399 1532.28 953.399 1536.03 Q953.399 1539.76 955.228 1541.93 Q957.08 1544.09 960.228 1544.09 Q963.376 1544.09 965.205 1541.93 Q967.057 1539.76 967.057 1536.03 Q967.057 1532.28 965.205 1530.13 Q963.376 1527.98 960.228 1527.98 M969.51 1513.32 L969.51 1517.58 Q967.751 1516.75 965.946 1516.31 Q964.163 1515.87 962.404 1515.87 Q957.774 1515.87 955.321 1519 Q952.89 1522.12 952.543 1528.44 Q953.909 1526.43 955.969 1525.36 Q958.029 1524.27 960.506 1524.27 Q965.714 1524.27 968.723 1527.44 Q971.756 1530.59 971.756 1536.03 Q971.756 1541.36 968.608 1544.57 Q965.46 1547.79 960.228 1547.79 Q954.233 1547.79 951.061 1543.21 Q947.89 1538.6 947.89 1529.87 Q947.89 1521.68 951.779 1516.82 Q955.668 1511.93 962.219 1511.93 Q963.978 1511.93 965.76 1512.28 Q967.566 1512.63 969.51 1513.32 Z\" fill=\"#000000\" fill-rule=\"evenodd\" fill-opacity=\"1\" /><path clip-path=\"url(#clip800)\" d=\"M1255.56 1530.71 Q1252.23 1530.71 1250.31 1532.49 Q1248.41 1534.27 1248.41 1537.4 Q1248.41 1540.52 1250.31 1542.31 Q1252.23 1544.09 1255.56 1544.09 Q1258.9 1544.09 1260.82 1542.31 Q1262.74 1540.5 1262.74 1537.4 Q1262.74 1534.27 1260.82 1532.49 Q1258.92 1530.71 1255.56 1530.71 M1250.89 1528.72 Q1247.88 1527.98 1246.19 1525.92 Q1244.52 1523.86 1244.52 1520.89 Q1244.52 1516.75 1247.46 1514.34 Q1250.42 1511.93 1255.56 1511.93 Q1260.72 1511.93 1263.66 1514.34 Q1266.6 1516.75 1266.6 1520.89 Q1266.6 1523.86 1264.91 1525.92 Q1263.25 1527.98 1260.26 1528.72 Q1263.64 1529.5 1265.52 1531.8 Q1267.41 1534.09 1267.41 1537.4 Q1267.41 1542.42 1264.34 1545.11 Q1261.28 1547.79 1255.56 1547.79 Q1249.84 1547.79 1246.77 1545.11 Q1243.71 1542.42 1243.71 1537.4 Q1243.71 1534.09 1245.61 1531.8 Q1247.51 1529.5 1250.89 1528.72 M1249.17 1521.33 Q1249.17 1524.02 1250.84 1525.52 Q1252.53 1527.03 1255.56 1527.03 Q1258.57 1527.03 1260.26 1525.52 Q1261.97 1524.02 1261.97 1521.33 Q1261.97 1518.65 1260.26 1517.14 Q1258.57 1515.64 1255.56 1515.64 Q1252.53 1515.64 1250.84 1517.14 Q1249.17 1518.65 1249.17 1521.33 Z\" fill=\"#000000\" fill-rule=\"evenodd\" fill-opacity=\"1\" /><path clip-path=\"url(#clip800)\" d=\"M1525.99 1543.18 L1533.63 1543.18 L1533.63 1516.82 L1525.32 1518.49 L1525.32 1514.23 L1533.58 1512.56 L1538.26 1512.56 L1538.26 1543.18 L1545.9 1543.18 L1545.9 1547.12 L1525.99 1547.12 L1525.99 1543.18 Z\" fill=\"#000000\" fill-rule=\"evenodd\" fill-opacity=\"1\" /><path clip-path=\"url(#clip800)\" d=\"M1565.34 1515.64 Q1561.73 1515.64 1559.9 1519.2 Q1558.1 1522.75 1558.1 1529.87 Q1558.1 1536.98 1559.9 1540.55 Q1561.73 1544.09 1565.34 1544.09 Q1568.98 1544.09 1570.78 1540.55 Q1572.61 1536.98 1572.61 1529.87 Q1572.61 1522.75 1570.78 1519.2 Q1568.98 1515.64 1565.34 1515.64 M1565.34 1511.93 Q1571.15 1511.93 1574.21 1516.54 Q1577.29 1521.12 1577.29 1529.87 Q1577.29 1538.6 1574.21 1543.21 Q1571.15 1547.79 1565.34 1547.79 Q1559.53 1547.79 1556.45 1543.21 Q1553.4 1538.6 1553.4 1529.87 Q1553.4 1521.12 1556.45 1516.54 Q1559.53 1511.93 1565.34 1511.93 Z\" fill=\"#000000\" fill-rule=\"evenodd\" fill-opacity=\"1\" /><path clip-path=\"url(#clip800)\" d=\"M1822.53 1543.18 L1830.17 1543.18 L1830.17 1516.82 L1821.86 1518.49 L1821.86 1514.23 L1830.12 1512.56 L1834.8 1512.56 L1834.8 1543.18 L1842.43 1543.18 L1842.43 1547.12 L1822.53 1547.12 L1822.53 1543.18 Z\" fill=\"#000000\" fill-rule=\"evenodd\" fill-opacity=\"1\" /><path clip-path=\"url(#clip800)\" d=\"M1855.91 1543.18 L1872.23 1543.18 L1872.23 1547.12 L1850.28 1547.12 L1850.28 1543.18 Q1852.94 1540.43 1857.53 1535.8 Q1862.13 1531.15 1863.31 1529.81 Q1865.56 1527.28 1866.44 1525.55 Q1867.34 1523.79 1867.34 1522.1 Q1867.34 1519.34 1865.4 1517.61 Q1863.48 1515.87 1860.37 1515.87 Q1858.18 1515.87 1855.72 1516.63 Q1853.29 1517.4 1850.51 1518.95 L1850.51 1514.23 Q1853.34 1513.09 1855.79 1512.51 Q1858.25 1511.93 1860.28 1511.93 Q1865.65 1511.93 1868.85 1514.62 Q1872.04 1517.31 1872.04 1521.8 Q1872.04 1523.93 1871.23 1525.85 Q1870.44 1527.74 1868.34 1530.34 Q1867.76 1531.01 1864.66 1534.23 Q1861.56 1537.42 1855.91 1543.18 Z\" fill=\"#000000\" fill-rule=\"evenodd\" fill-opacity=\"1\" /><path clip-path=\"url(#clip800)\" d=\"M2117.23 1543.18 L2124.86 1543.18 L2124.86 1516.82 L2116.55 1518.49 L2116.55 1514.23 L2124.82 1512.56 L2129.49 1512.56 L2129.49 1543.18 L2137.13 1543.18 L2137.13 1547.12 L2117.23 1547.12 L2117.23 1543.18 Z\" fill=\"#000000\" fill-rule=\"evenodd\" fill-opacity=\"1\" /><path clip-path=\"url(#clip800)\" d=\"M2159.42 1516.63 L2147.62 1535.08 L2159.42 1535.08 L2159.42 1516.63 M2158.2 1512.56 L2164.08 1512.56 L2164.08 1535.08 L2169.01 1535.08 L2169.01 1538.97 L2164.08 1538.97 L2164.08 1547.12 L2159.42 1547.12 L2159.42 1538.97 L2143.82 1538.97 L2143.82 1534.46 L2158.2 1512.56 Z\" fill=\"#000000\" fill-rule=\"evenodd\" fill-opacity=\"1\" /><polyline clip-path=\"url(#clip802)\" style=\"stroke:#000000; stroke-linecap:butt; stroke-linejoin:round; stroke-width:2; stroke-opacity:0.1; fill:none\" points=\"\n",
       "  158.369,1445.72 2352.76,1445.72 \n",
       "  \"/>\n",
       "<polyline clip-path=\"url(#clip802)\" style=\"stroke:#000000; stroke-linecap:butt; stroke-linejoin:round; stroke-width:2; stroke-opacity:0.1; fill:none\" points=\"\n",
       "  158.369,958.255 2352.76,958.255 \n",
       "  \"/>\n",
       "<polyline clip-path=\"url(#clip802)\" style=\"stroke:#000000; stroke-linecap:butt; stroke-linejoin:round; stroke-width:2; stroke-opacity:0.1; fill:none\" points=\"\n",
       "  158.369,470.794 2352.76,470.794 \n",
       "  \"/>\n",
       "<polyline clip-path=\"url(#clip800)\" style=\"stroke:#000000; stroke-linecap:butt; stroke-linejoin:round; stroke-width:4; stroke-opacity:1; fill:none\" points=\"\n",
       "  158.369,1486.45 158.369,47.2441 \n",
       "  \"/>\n",
       "<polyline clip-path=\"url(#clip800)\" style=\"stroke:#000000; stroke-linecap:butt; stroke-linejoin:round; stroke-width:4; stroke-opacity:1; fill:none\" points=\"\n",
       "  158.369,1445.72 177.267,1445.72 \n",
       "  \"/>\n",
       "<polyline clip-path=\"url(#clip800)\" style=\"stroke:#000000; stroke-linecap:butt; stroke-linejoin:round; stroke-width:4; stroke-opacity:1; fill:none\" points=\"\n",
       "  158.369,958.255 177.267,958.255 \n",
       "  \"/>\n",
       "<polyline clip-path=\"url(#clip800)\" style=\"stroke:#000000; stroke-linecap:butt; stroke-linejoin:round; stroke-width:4; stroke-opacity:1; fill:none\" points=\"\n",
       "  158.369,470.794 177.267,470.794 \n",
       "  \"/>\n",
       "<path clip-path=\"url(#clip800)\" d=\"M51.6634 1465.51 L59.3023 1465.51 L59.3023 1439.14 L50.9921 1440.81 L50.9921 1436.55 L59.256 1434.88 L63.9319 1434.88 L63.9319 1465.51 L71.5707 1465.51 L71.5707 1469.44 L51.6634 1469.44 L51.6634 1465.51 Z\" fill=\"#000000\" fill-rule=\"evenodd\" fill-opacity=\"1\" /><path clip-path=\"url(#clip800)\" d=\"M91.0151 1437.96 Q87.404 1437.96 85.5753 1441.53 Q83.7697 1445.07 83.7697 1452.2 Q83.7697 1459.3 85.5753 1462.87 Q87.404 1466.41 91.0151 1466.41 Q94.6493 1466.41 96.4548 1462.87 Q98.2835 1459.3 98.2835 1452.2 Q98.2835 1445.07 96.4548 1441.53 Q94.6493 1437.96 91.0151 1437.96 M91.0151 1434.26 Q96.8252 1434.26 99.8808 1438.86 Q102.959 1443.45 102.959 1452.2 Q102.959 1460.92 99.8808 1465.53 Q96.8252 1470.11 91.0151 1470.11 Q85.2049 1470.11 82.1262 1465.53 Q79.0707 1460.92 79.0707 1452.2 Q79.0707 1443.45 82.1262 1438.86 Q85.2049 1434.26 91.0151 1434.26 Z\" fill=\"#000000\" fill-rule=\"evenodd\" fill-opacity=\"1\" /><path clip-path=\"url(#clip800)\" d=\"M112.664 1416.45 Q109.73 1416.45 108.244 1419.35 Q106.777 1422.23 106.777 1428.02 Q106.777 1433.8 108.244 1436.69 Q109.73 1439.57 112.664 1439.57 Q115.617 1439.57 117.084 1436.69 Q118.57 1433.8 118.57 1428.02 Q118.57 1422.23 117.084 1419.35 Q115.617 1416.45 112.664 1416.45 M112.664 1413.45 Q117.385 1413.45 119.868 1417.19 Q122.369 1420.91 122.369 1428.02 Q122.369 1435.11 119.868 1438.85 Q117.385 1442.58 112.664 1442.58 Q107.943 1442.58 105.442 1438.85 Q102.959 1435.11 102.959 1428.02 Q102.959 1420.91 105.442 1417.19 Q107.943 1413.45 112.664 1413.45 Z\" fill=\"#000000\" fill-rule=\"evenodd\" fill-opacity=\"1\" /><path clip-path=\"url(#clip800)\" d=\"M54.3529 978.047 L61.9918 978.047 L61.9918 951.682 L53.6816 953.348 L53.6816 949.089 L61.9455 947.422 L66.6214 947.422 L66.6214 978.047 L74.2602 978.047 L74.2602 981.982 L54.3529 981.982 L54.3529 978.047 Z\" fill=\"#000000\" fill-rule=\"evenodd\" fill-opacity=\"1\" /><path clip-path=\"url(#clip800)\" d=\"M93.7046 950.501 Q90.0935 950.501 88.2648 954.066 Q86.4592 957.608 86.4592 964.737 Q86.4592 971.844 88.2648 975.408 Q90.0935 978.95 93.7046 978.95 Q97.3388 978.95 99.1444 975.408 Q100.973 971.844 100.973 964.737 Q100.973 957.608 99.1444 954.066 Q97.3388 950.501 93.7046 950.501 M93.7046 946.797 Q99.5147 946.797 102.57 951.404 Q105.649 955.987 105.649 964.737 Q105.649 973.464 102.57 978.07 Q99.5147 982.654 93.7046 982.654 Q87.8944 982.654 84.8157 978.07 Q81.7602 973.464 81.7602 964.737 Q81.7602 955.987 84.8157 951.404 Q87.8944 946.797 93.7046 946.797 Z\" fill=\"#000000\" fill-rule=\"evenodd\" fill-opacity=\"1\" /><path clip-path=\"url(#clip800)\" d=\"M106.194 951.375 L112.401 951.375 L112.401 929.953 L105.649 931.307 L105.649 927.846 L112.363 926.492 L116.162 926.492 L116.162 951.375 L122.369 951.375 L122.369 954.572 L106.194 954.572 L106.194 951.375 Z\" fill=\"#000000\" fill-rule=\"evenodd\" fill-opacity=\"1\" /><path clip-path=\"url(#clip800)\" d=\"M53.2433 490.586 L60.8821 490.586 L60.8821 464.221 L52.572 465.887 L52.572 461.628 L60.8358 459.961 L65.5117 459.961 L65.5117 490.586 L73.1506 490.586 L73.1506 494.521 L53.2433 494.521 L53.2433 490.586 Z\" fill=\"#000000\" fill-rule=\"evenodd\" fill-opacity=\"1\" /><path clip-path=\"url(#clip800)\" d=\"M92.5949 463.04 Q88.9838 463.04 87.1551 466.605 Q85.3496 470.147 85.3496 477.276 Q85.3496 484.383 87.1551 487.947 Q88.9838 491.489 92.5949 491.489 Q96.2292 491.489 98.0347 487.947 Q99.8634 484.383 99.8634 477.276 Q99.8634 470.147 98.0347 466.605 Q96.2292 463.04 92.5949 463.04 M92.5949 459.336 Q98.4051 459.336 101.461 463.943 Q104.539 468.526 104.539 477.276 Q104.539 486.003 101.461 490.609 Q98.4051 495.193 92.5949 495.193 Q86.7848 495.193 83.7061 490.609 Q80.6505 486.003 80.6505 477.276 Q80.6505 468.526 83.7061 463.943 Q86.7848 459.336 92.5949 459.336 Z\" fill=\"#000000\" fill-rule=\"evenodd\" fill-opacity=\"1\" /><path clip-path=\"url(#clip800)\" d=\"M109.11 463.914 L122.369 463.914 L122.369 467.111 L104.539 467.111 L104.539 463.914 Q106.702 461.676 110.426 457.914 Q114.169 454.134 115.128 453.043 Q116.952 450.993 117.667 449.582 Q118.401 448.153 118.401 446.78 Q118.401 444.542 116.821 443.131 Q115.26 441.721 112.739 441.721 Q110.953 441.721 108.959 442.341 Q106.984 442.962 104.727 444.222 L104.727 440.385 Q107.022 439.464 109.016 438.993 Q111.009 438.523 112.664 438.523 Q117.028 438.523 119.623 440.705 Q122.219 442.887 122.219 446.535 Q122.219 448.266 121.56 449.827 Q120.921 451.369 119.209 453.475 Q118.739 454.021 116.219 456.635 Q113.699 459.231 109.11 463.914 Z\" fill=\"#000000\" fill-rule=\"evenodd\" fill-opacity=\"1\" /><polyline clip-path=\"url(#clip802)\" style=\"stroke:#009af9; stroke-linecap:butt; stroke-linejoin:round; stroke-width:4; stroke-opacity:1; fill:none\" points=\"\n",
       "  220.474,1445.72 368.344,1445.72 516.214,1298.98 664.084,1213.14 811.953,1105 959.823,1005.49 1107.69,902.712 1255.56,801.185 1403.43,699.18 1551.3,597.357 \n",
       "  1699.17,495.464 1847.04,393.598 1994.91,291.722 2142.78,189.85 2290.65,87.9763 \n",
       "  \"/>\n",
       "<circle clip-path=\"url(#clip802)\" cx=\"220.474\" cy=\"1445.72\" r=\"14\" fill=\"#009af9\" fill-rule=\"evenodd\" fill-opacity=\"1\" stroke=\"#000000\" stroke-opacity=\"1\" stroke-width=\"3.2\"/>\n",
       "<circle clip-path=\"url(#clip802)\" cx=\"368.344\" cy=\"1445.72\" r=\"14\" fill=\"#009af9\" fill-rule=\"evenodd\" fill-opacity=\"1\" stroke=\"#000000\" stroke-opacity=\"1\" stroke-width=\"3.2\"/>\n",
       "<circle clip-path=\"url(#clip802)\" cx=\"516.214\" cy=\"1298.98\" r=\"14\" fill=\"#009af9\" fill-rule=\"evenodd\" fill-opacity=\"1\" stroke=\"#000000\" stroke-opacity=\"1\" stroke-width=\"3.2\"/>\n",
       "<circle clip-path=\"url(#clip802)\" cx=\"664.084\" cy=\"1213.14\" r=\"14\" fill=\"#009af9\" fill-rule=\"evenodd\" fill-opacity=\"1\" stroke=\"#000000\" stroke-opacity=\"1\" stroke-width=\"3.2\"/>\n",
       "<circle clip-path=\"url(#clip802)\" cx=\"811.953\" cy=\"1105\" r=\"14\" fill=\"#009af9\" fill-rule=\"evenodd\" fill-opacity=\"1\" stroke=\"#000000\" stroke-opacity=\"1\" stroke-width=\"3.2\"/>\n",
       "<circle clip-path=\"url(#clip802)\" cx=\"959.823\" cy=\"1005.49\" r=\"14\" fill=\"#009af9\" fill-rule=\"evenodd\" fill-opacity=\"1\" stroke=\"#000000\" stroke-opacity=\"1\" stroke-width=\"3.2\"/>\n",
       "<circle clip-path=\"url(#clip802)\" cx=\"1107.69\" cy=\"902.712\" r=\"14\" fill=\"#009af9\" fill-rule=\"evenodd\" fill-opacity=\"1\" stroke=\"#000000\" stroke-opacity=\"1\" stroke-width=\"3.2\"/>\n",
       "<circle clip-path=\"url(#clip802)\" cx=\"1255.56\" cy=\"801.185\" r=\"14\" fill=\"#009af9\" fill-rule=\"evenodd\" fill-opacity=\"1\" stroke=\"#000000\" stroke-opacity=\"1\" stroke-width=\"3.2\"/>\n",
       "<circle clip-path=\"url(#clip802)\" cx=\"1403.43\" cy=\"699.18\" r=\"14\" fill=\"#009af9\" fill-rule=\"evenodd\" fill-opacity=\"1\" stroke=\"#000000\" stroke-opacity=\"1\" stroke-width=\"3.2\"/>\n",
       "<circle clip-path=\"url(#clip802)\" cx=\"1551.3\" cy=\"597.357\" r=\"14\" fill=\"#009af9\" fill-rule=\"evenodd\" fill-opacity=\"1\" stroke=\"#000000\" stroke-opacity=\"1\" stroke-width=\"3.2\"/>\n",
       "<circle clip-path=\"url(#clip802)\" cx=\"1699.17\" cy=\"495.464\" r=\"14\" fill=\"#009af9\" fill-rule=\"evenodd\" fill-opacity=\"1\" stroke=\"#000000\" stroke-opacity=\"1\" stroke-width=\"3.2\"/>\n",
       "<circle clip-path=\"url(#clip802)\" cx=\"1847.04\" cy=\"393.598\" r=\"14\" fill=\"#009af9\" fill-rule=\"evenodd\" fill-opacity=\"1\" stroke=\"#000000\" stroke-opacity=\"1\" stroke-width=\"3.2\"/>\n",
       "<circle clip-path=\"url(#clip802)\" cx=\"1994.91\" cy=\"291.722\" r=\"14\" fill=\"#009af9\" fill-rule=\"evenodd\" fill-opacity=\"1\" stroke=\"#000000\" stroke-opacity=\"1\" stroke-width=\"3.2\"/>\n",
       "<circle clip-path=\"url(#clip802)\" cx=\"2142.78\" cy=\"189.85\" r=\"14\" fill=\"#009af9\" fill-rule=\"evenodd\" fill-opacity=\"1\" stroke=\"#000000\" stroke-opacity=\"1\" stroke-width=\"3.2\"/>\n",
       "<circle clip-path=\"url(#clip802)\" cx=\"2290.65\" cy=\"87.9763\" r=\"14\" fill=\"#009af9\" fill-rule=\"evenodd\" fill-opacity=\"1\" stroke=\"#000000\" stroke-opacity=\"1\" stroke-width=\"3.2\"/>\n",
       "</svg>\n"
      ]
     },
     "execution_count": 25,
     "metadata": {},
     "output_type": "execute_result"
    }
   ],
   "source": [
    "plot(fibonacci[2:16], marker=:circle, legend=:none, yscale=:log10)"
   ]
  },
  {
   "cell_type": "markdown",
   "metadata": {},
   "source": [
    "これより，フィボナッチ数列の値は指数関数的に増加していることがわかる．"
   ]
  }
 ],
 "metadata": {
  "kernelspec": {
   "display_name": "Julia 1.6.2",
   "language": "julia",
   "name": "julia-1.6"
  },
  "language_info": {
   "file_extension": ".jl",
   "mimetype": "application/julia",
   "name": "julia",
   "version": "1.6.2"
  }
 },
 "nbformat": 4,
 "nbformat_minor": 5
}
