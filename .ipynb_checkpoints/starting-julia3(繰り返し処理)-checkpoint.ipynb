{
 "cells": [
  {
   "cell_type": "markdown",
   "id": "b58da8ee",
   "metadata": {},
   "source": [
    "# 数値解析ゼミ 〜Julia入門〜\n",
    "\n",
    "プログラミング言語の一つであるJuliaの基本的な使い方について述べていく．"
   ]
  },
  {
   "cell_type": "markdown",
   "id": "dd2fd5cf",
   "metadata": {},
   "source": [
    "## 3. プログラミングの基礎事項\n",
    "\n",
    "Juliaに限らず，プログラミング言語には”制御構造”というものがある．\n",
    "それはアルゴリズムを考えていく上で非常に重要である．\n",
    "\n",
    "プログラミングにおける制御事項には，**繰り返し処理**と**条件分岐処理**の2つに大別される．"
   ]
  },
  {
   "cell_type": "markdown",
   "id": "10ab054b",
   "metadata": {},
   "source": [
    "### 3.1 繰り返し処理\n",
    "\n",
    "**繰り返し処理**とは，同じ動作をある条件が成立するまで何度も行う処理である．繰り返し処理の継続条件(ないしはループ脱出条件)の判定には，\n",
    "\n",
    "- カウンタ方式\n",
    "- 見張り方式\n",
    "\n",
    "の2つがある．"
   ]
  },
  {
   "cell_type": "markdown",
   "id": "0c0c52e0",
   "metadata": {},
   "source": [
    "#### 3.1.1 forループ（カウンタ方式）"
   ]
  },
  {
   "cell_type": "markdown",
   "id": "9601c21f",
   "metadata": {},
   "source": [
    "#### Question1:\n",
    "\n",
    "**1~10の和を計算するといくらになるか？**\n",
    "\n",
    "（下のセルにコードを書いてみて実行してみよう）"
   ]
  },
  {
   "cell_type": "code",
   "execution_count": null,
   "id": "8d1b44ed",
   "metadata": {},
   "outputs": [],
   "source": [
    "## 解答欄\n",
    "\n"
   ]
  },
  {
   "cell_type": "markdown",
   "id": "000b4ce1",
   "metadata": {},
   "source": [
    "#### Question2:\n",
    "\n",
    "**1~100の和を計算するといくらになるか？**\n",
    "\n",
    "（下のセルにコードを書いてみて実行してみよう）"
   ]
  },
  {
   "cell_type": "code",
   "execution_count": null,
   "id": "4f1bf761",
   "metadata": {},
   "outputs": [],
   "source": [
    "## 解答欄\n",
    "\n"
   ]
  },
  {
   "cell_type": "markdown",
   "id": "4db2c58a",
   "metadata": {},
   "source": [
    "　"
   ]
  },
  {
   "cell_type": "markdown",
   "id": "73e86cd5",
   "metadata": {},
   "source": [
    "同じような内容を何度も手打ちするのは非常に効率が悪いことは想像に難くはないだろう．そこで，まずは繰り返し処理構文のひとつである**for～end文**を紹介する．"
   ]
  },
  {
   "cell_type": "markdown",
   "id": "855e0332",
   "metadata": {},
   "source": [
    "[構文] **for～end文**\n",
    "\n",
    "```\n",
    "for i in (初項):(末項)\n",
    "    （実行内容）\n",
    "end\n",
    "```"
   ]
  },
  {
   "cell_type": "markdown",
   "id": "bcd4a676",
   "metadata": {},
   "source": [
    "※ for~end文に出てくる，繰り返し処理の条件を表す変数`i`のことを**カウンタ変数**と呼ぶ．"
   ]
  },
  {
   "cell_type": "markdown",
   "id": "844dc873",
   "metadata": {},
   "source": [
    "例） *1~10までの自然数の表示*"
   ]
  },
  {
   "cell_type": "code",
   "execution_count": null,
   "id": "14c57b62",
   "metadata": {},
   "outputs": [],
   "source": [
    "for i in 1:10\n",
    "    println(i)\n",
    "end"
   ]
  },
  {
   "cell_type": "markdown",
   "id": "e2d32e12",
   "metadata": {},
   "source": [
    "例） *0~20までの偶数の表示*"
   ]
  },
  {
   "cell_type": "code",
   "execution_count": null,
   "id": "34adbac4",
   "metadata": {},
   "outputs": [],
   "source": [
    "for i in 0:2:20\n",
    "    println(i)\n",
    "end"
   ]
  },
  {
   "cell_type": "markdown",
   "id": "dfbe52d5",
   "metadata": {},
   "source": [
    "　"
   ]
  },
  {
   "cell_type": "markdown",
   "id": "f2d367eb",
   "metadata": {},
   "source": [
    "for~end文を用いて，計算を実行したい場合は注意が必要であり，”変数”という概念が非常に重要となる．\n",
    "\n",
    "特に，最初に**変数の初期化**という操作が必要になる．"
   ]
  },
  {
   "cell_type": "markdown",
   "id": "a1ff4f9f",
   "metadata": {},
   "source": [
    "<font color=\"Red\">間違い例）</font> 1:10の和を計算しようとする場合"
   ]
  },
  {
   "cell_type": "code",
   "execution_count": null,
   "id": "758a4cb8",
   "metadata": {},
   "outputs": [],
   "source": [
    "for i in 1:10\n",
    "    \n",
    "    sam = sam + i\n",
    "    \n",
    "    println(sam)\n",
    "end"
   ]
  },
  {
   "cell_type": "markdown",
   "id": "61d69317",
   "metadata": {},
   "source": [
    "上の場合，変数`sam`の初期値が指定されていないため，`sam`の型(type)が決定できていないわけである．\n",
    "\n",
    "そもそも，エラー文は変数`sam`が(グローバル変数として)定義されていないと叫んでいる．\n",
    "（グローバル変数については後述）\n",
    "\n",
    "正しくは，次のコーディングとなる．"
   ]
  },
  {
   "cell_type": "markdown",
   "id": "1ee10858",
   "metadata": {},
   "source": [
    "正解例） 1:10の和を計算しようとする場合"
   ]
  },
  {
   "cell_type": "code",
   "execution_count": null,
   "id": "11222df1",
   "metadata": {},
   "outputs": [],
   "source": [
    "sam = 0 # ← samを定義し，また初期値を与えている．\n",
    "\n",
    "for i in 1:10\n",
    "    \n",
    "    sam += i\n",
    "    \n",
    "    println(sam)\n",
    "end"
   ]
  },
  {
   "cell_type": "markdown",
   "id": "c58964f0",
   "metadata": {},
   "source": [
    "上記コーディングで，`sam += i`という表記を用いているが，これは`sam = sam + i`と等価である．\n",
    "\n",
    "なお，`+=`を代入演算子という．\n",
    "\n",
    "ちなみに，出力結果を最後のものだけにしたいときは，print文をfor~end文の外へ出せばよい．"
   ]
  },
  {
   "cell_type": "code",
   "execution_count": null,
   "id": "75957a4d",
   "metadata": {},
   "outputs": [],
   "source": [
    "sam = 0 # 初期値\n",
    "\n",
    "for i in 1:10\n",
    "    sam += i\n",
    "end\n",
    "\n",
    "println(sam)"
   ]
  },
  {
   "cell_type": "markdown",
   "id": "b232c192",
   "metadata": {},
   "source": [
    "実は，繰り返し処理を用いたQuestion1の解答が上記となる．\n",
    "\n",
    "これを応用して，\n",
    "\n",
    "Question2:1~100の和を計算するといくらになるか？\n",
    "\n",
    "も繰り返し処理を用いてコーディングしてみよう．"
   ]
  },
  {
   "cell_type": "code",
   "execution_count": null,
   "id": "e637a124",
   "metadata": {},
   "outputs": [],
   "source": [
    "## 解答欄\n",
    "\n"
   ]
  },
  {
   "cell_type": "markdown",
   "id": "f2a5a21c",
   "metadata": {},
   "source": [
    "　"
   ]
  },
  {
   "cell_type": "markdown",
   "id": "c8836ac6",
   "metadata": {},
   "source": [
    "#### 3.1.2 whileループ（見張り方式）"
   ]
  },
  {
   "cell_type": "markdown",
   "id": "718f01ba",
   "metadata": {},
   "source": [
    "次に，繰り返し処理構文のひとつである**while～end文**を紹介する．"
   ]
  },
  {
   "cell_type": "markdown",
   "id": "b0aff6d3",
   "metadata": {},
   "source": [
    "[構文] **while～end文**\n",
    "\n",
    "```\n",
    "i = (初期値)\n",
    "while (iに関する条件式)\n",
    "    （実行内容）\n",
    "end\n",
    "```"
   ]
  },
  {
   "cell_type": "markdown",
   "id": "da15a2b8",
   "metadata": {},
   "source": [
    "whileループはforループと違い，条件を満たし続けるかぎりループが回る処理である．\n",
    "すなわち，ループ脱出条件としては，条件式が偽となったときである．\n",
    "\n",
    "iの変化は実行内容により定まるので，それに合わせたiの初期値が必要となる．\n",
    "\n",
    "また，`(iに関する条件式)`の部分はiに関する等式もしくは不等式が入る．(論理式で記述することも可能)"
   ]
  },
  {
   "cell_type": "markdown",
   "id": "b9e61c9a",
   "metadata": {},
   "source": [
    "例） *1~10までの自然数の表示*"
   ]
  },
  {
   "cell_type": "code",
   "execution_count": null,
   "id": "508bab7f",
   "metadata": {},
   "outputs": [],
   "source": [
    "i = 1\n",
    "while i <= 10\n",
    "    println(i)\n",
    "    i += 1\n",
    "end"
   ]
  },
  {
   "cell_type": "markdown",
   "id": "a3ef993e",
   "metadata": {},
   "source": [
    "#### <font color=\"Blue\">参考：ループの境界条件</font>"
   ]
  },
  {
   "cell_type": "markdown",
   "id": "c87143a1",
   "metadata": {},
   "source": [
    "「ループを何回繰り返したか？」という事実は，プログラムの動作上非常に重要なことである．ループの繰り返し回数はループのカウンタ変数および，その条件式によって決定される．**境界条件**とは，ループの繰り返し回数を制御する条件を指す．"
   ]
  },
  {
   "cell_type": "markdown",
   "id": "6957dc3a",
   "metadata": {},
   "source": [
    "ここで，上記の1~10までの自然数の表示するプログラム例との比較対象として，次の例を挙げる．"
   ]
  },
  {
   "cell_type": "code",
   "execution_count": null,
   "id": "02dc00bb",
   "metadata": {},
   "outputs": [],
   "source": [
    "i = 1\n",
    "while i < 10\n",
    "    println(i)\n",
    "    i += 1\n",
    "end"
   ]
  },
  {
   "cell_type": "markdown",
   "id": "b2dd72d3",
   "metadata": {},
   "source": [
    "条件式の関係演算子`<`と`<=`だけの違いで結果が異なっていることが分かる．\n",
    "\n",
    "これは，条件式の評価順序が`i < 10`を評価したのち，`i += 1`を実行しているかどうかの差が現れているわけである．\n",
    "\n",
    "例えば，初期値を0にし，`i += 1`と`print(i)`を交換すれば，`i < 10`であっても実は1~10まで自然数を表示することは可能になる．"
   ]
  },
  {
   "cell_type": "code",
   "execution_count": null,
   "id": "e389aa52",
   "metadata": {},
   "outputs": [],
   "source": [
    "i = 0\n",
    "while i < 10\n",
    "    i += 1\n",
    "    println(i)\n",
    "end"
   ]
  },
  {
   "cell_type": "markdown",
   "id": "4978f830",
   "metadata": {},
   "source": [
    "このように，意図した回数だけループが実行されたかどうかは，コーディングミスの出やすい部分である．境界条件がどのように働いているかのチェックは必ず行うことを是非習慣化したい次第である．"
   ]
  },
  {
   "cell_type": "markdown",
   "id": "9b0c56c3",
   "metadata": {},
   "source": [
    "さて，それでは\n",
    "\n",
    "Question2:1~100の和を計算するといくらになるか？\n",
    "\n",
    "を，今度はwhile~end文を用いてコーディングしてみよう．"
   ]
  },
  {
   "cell_type": "code",
   "execution_count": null,
   "id": "afbe8069",
   "metadata": {},
   "outputs": [],
   "source": [
    "## 解答欄\n",
    "\n"
   ]
  },
  {
   "cell_type": "markdown",
   "id": "ce7f64eb",
   "metadata": {},
   "source": [
    "　"
   ]
  },
  {
   "cell_type": "markdown",
   "id": "88ecfa01",
   "metadata": {},
   "source": [
    "[応用例]　Fibonacci数列の表示プログラム\n",
    "\n",
    "Fibonacci数列は以下のように定義される漸化式である．\n",
    "\n",
    "\\begin{align}\n",
    "F_0 &= 0, \\\\\n",
    "F_1 &= 1, \\\\\n",
    "F_{n + 2} &= F_n + F_{n + 1} \\quad (n ≧ 0).\n",
    "\\end{align}"
   ]
  },
  {
   "cell_type": "code",
   "execution_count": null,
   "id": "04158e76",
   "metadata": {},
   "outputs": [],
   "source": [
    "F₀, F₁ = 0, 1\n",
    "while F₁ < 30\n",
    "    println(F₁)\n",
    "    F₀, F₁ = F₁, F₀+F₁\n",
    "end"
   ]
  },
  {
   "cell_type": "markdown",
   "id": "ef404769",
   "metadata": {},
   "source": [
    "上記プログラムでは，とりあえず$F_n$が30までのFibonacci数を表示している．\n",
    "\n",
    "なお，上記プログラムの`F₀, F₁ = 0, 1`や，`F₀, F₁ = F₁, F₀+F₁`の部分は，**多重代入**と呼ばれる操作であり，代入操作をタプルで取り扱っているわけである．"
   ]
  },
  {
   "cell_type": "markdown",
   "id": "efe6bb98",
   "metadata": {},
   "source": [
    "さて，上記のプログラムで毎度Fibonacci数を表示しても良いが，配列(リスト)に格納できるとさらに便利になるだろう．\n",
    "\n",
    "ということで，次のように改良する．"
   ]
  },
  {
   "cell_type": "code",
   "execution_count": null,
   "id": "08a13343",
   "metadata": {},
   "outputs": [],
   "source": [
    "F₀, F₁ = 0, 1\n",
    "fibonacci = [F₀] # 最初の要素のみが入る，'fibonacci'という配列を用意\n",
    "while F₁ < 1000\n",
    "    append!(fibonacci, F₁) # 'fibonacci'という配列にF₁の値を追加\n",
    "    F₀, F₁ = F₁, F₀+F₁\n",
    "end\n",
    "print(fibonacci)"
   ]
  },
  {
   "cell_type": "markdown",
   "id": "85eb284c",
   "metadata": {},
   "source": [
    "さらに，この計算結果をグラフに表してみよう．\n",
    "\n",
    "まず，前回**Plots**パッケージをインストールしていない場合，以下のセルを実行しよう．"
   ]
  },
  {
   "cell_type": "code",
   "execution_count": null,
   "id": "8abc7e0a",
   "metadata": {},
   "outputs": [],
   "source": [
    "using Pkg\n",
    "Pkg.add(\"Plots\")\n",
    "Pkg.add(\"GR\")"
   ]
  },
  {
   "cell_type": "markdown",
   "id": "e28f4d2a",
   "metadata": {},
   "source": [
    "ダウンロードが完了している場合，以下のように**Plots**の利用を宣言しよう．"
   ]
  },
  {
   "cell_type": "code",
   "execution_count": null,
   "id": "e460d1e7",
   "metadata": {},
   "outputs": [],
   "source": [
    "using Plots; gr()"
   ]
  },
  {
   "cell_type": "markdown",
   "id": "be3d0d9d",
   "metadata": {},
   "source": [
    "それでは，以下のplot文を実行してみよう．"
   ]
  },
  {
   "cell_type": "code",
   "execution_count": null,
   "id": "2acca7b0",
   "metadata": {},
   "outputs": [],
   "source": [
    "plot(fibonacci, marker=:circle, legend=:none)"
   ]
  },
  {
   "cell_type": "markdown",
   "id": "c1e25716",
   "metadata": {},
   "source": [
    "フィボナッチ数列が急激に値が増加するものであることが実感できる．\n",
    "\n",
    "値の小さいところを詳しく見るためには片対数グラフが適切だろう．"
   ]
  },
  {
   "cell_type": "code",
   "execution_count": null,
   "id": "0e46a799",
   "metadata": {},
   "outputs": [],
   "source": [
    "plot(fibonacci[2:16], marker=:circle, legend=:none, yscale=:log10)"
   ]
  },
  {
   "cell_type": "markdown",
   "id": "81f3c174",
   "metadata": {},
   "source": [
    "これより，フィボナッチ数列の値は指数関数的に増加していることがわかる．"
   ]
  }
 ],
 "metadata": {
  "kernelspec": {
   "display_name": "Julia 1.6.2",
   "language": "julia",
   "name": "julia-1.6"
  },
  "language_info": {
   "file_extension": ".jl",
   "mimetype": "application/julia",
   "name": "julia",
   "version": "1.6.2"
  }
 },
 "nbformat": 4,
 "nbformat_minor": 5
}
