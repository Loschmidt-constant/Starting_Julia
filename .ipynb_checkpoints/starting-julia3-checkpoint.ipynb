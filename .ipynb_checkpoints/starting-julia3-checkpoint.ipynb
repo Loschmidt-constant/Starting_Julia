{
 "cells": [
  {
   "cell_type": "markdown",
   "id": "842dd0e1",
   "metadata": {},
   "source": [
    "# 数値解析ゼミ 〜Julia入門〜\n",
    "\n",
    "プログラミング言語の一つであるJuliaの基本的な使い方について述べていく．"
   ]
  },
  {
   "cell_type": "markdown",
   "id": "6edae73e",
   "metadata": {},
   "source": [
    "## 3. プログラミングの基礎事項\n",
    "\n",
    "Juliaに限らず，プログラミング言語には”制御構造”というものがある．\n",
    "それはアルゴリズムを考えていく上で非常に重要である．\n",
    "\n",
    "プログラミングにおける制御事項には，**繰り返し処理**と**条件分岐処理**の2つに大別される．"
   ]
  },
  {
   "cell_type": "markdown",
   "id": "dbdcb986",
   "metadata": {},
   "source": [
    "### 3.1 繰り返し処理\n",
    "\n",
    "**繰り返し処理**とは，同じ動作をある条件が成立するまで何度も行う処理である．繰り返し処理の継続条件(ないしはループ脱出条件)の判定には，\n",
    "\n",
    "- カウンタ方式\n",
    "- 見張り方式\n",
    "\n",
    "の2つがある．"
   ]
  },
  {
   "cell_type": "markdown",
   "id": "bab90ff2",
   "metadata": {},
   "source": [
    "#### 3.1.1 forループ（カウンタ方式）"
   ]
  },
  {
   "cell_type": "markdown",
   "id": "103ddf68",
   "metadata": {},
   "source": [
    "#### Question1-1:\n",
    "\n",
    "**1~10の和を計算するといくらになるか？**\n",
    "\n",
    "（下のセルにコードを書いてみて実行してみよう）"
   ]
  },
  {
   "cell_type": "code",
   "execution_count": null,
   "id": "5071f971",
   "metadata": {},
   "outputs": [],
   "source": [
    "## 解答欄\n",
    "\n"
   ]
  },
  {
   "cell_type": "markdown",
   "id": "8e69e0b2",
   "metadata": {},
   "source": [
    "#### Question1-2:\n",
    "\n",
    "**1~100の和を計算するといくらになるか？**\n",
    "\n",
    "（下のセルにコードを書いてみて実行してみよう）"
   ]
  },
  {
   "cell_type": "code",
   "execution_count": null,
   "id": "e5aacd86",
   "metadata": {},
   "outputs": [],
   "source": [
    "## 解答欄\n",
    "\n"
   ]
  },
  {
   "cell_type": "markdown",
   "id": "857b6005",
   "metadata": {},
   "source": [
    "　"
   ]
  },
  {
   "cell_type": "markdown",
   "id": "2c428103",
   "metadata": {},
   "source": [
    "同じような内容を何度も手打ちするのは非常に効率が悪いことは想像に難くはないだろう．そこで，まずは繰り返し処理構文のひとつである**for～end文**を紹介する．"
   ]
  },
  {
   "cell_type": "markdown",
   "id": "30d16b37",
   "metadata": {},
   "source": [
    "[構文] **for～end文**\n",
    "\n",
    "```\n",
    "for i in (初項):(末項)\n",
    "    （実行内容）\n",
    "end\n",
    "```"
   ]
  },
  {
   "cell_type": "markdown",
   "id": "e67d8533",
   "metadata": {},
   "source": [
    "※ for~end文に出てくる，繰り返し処理の条件を表す変数`i`のことを**カウンタ変数**と呼ぶ．"
   ]
  },
  {
   "cell_type": "markdown",
   "id": "315face9",
   "metadata": {},
   "source": [
    "例） *1~10までの自然数の表示*"
   ]
  },
  {
   "cell_type": "code",
   "execution_count": null,
   "id": "349f5762",
   "metadata": {},
   "outputs": [],
   "source": [
    "for i in 1:10\n",
    "    println(i)\n",
    "end"
   ]
  },
  {
   "cell_type": "markdown",
   "id": "a300f502",
   "metadata": {},
   "source": [
    "例） *0~20までの偶数の表示*"
   ]
  },
  {
   "cell_type": "code",
   "execution_count": null,
   "id": "5208c3b0",
   "metadata": {},
   "outputs": [],
   "source": [
    "for i in 0:2:20\n",
    "    println(i)\n",
    "end"
   ]
  },
  {
   "cell_type": "markdown",
   "id": "ce7e0759",
   "metadata": {},
   "source": [
    "　"
   ]
  },
  {
   "cell_type": "markdown",
   "id": "111e61b8",
   "metadata": {},
   "source": [
    "for~end文を用いて，計算を実行したい場合は注意が必要であり，”変数”という概念が非常に重要となる．\n",
    "\n",
    "特に，最初に**変数の初期化**という操作が必要になる．"
   ]
  },
  {
   "cell_type": "markdown",
   "id": "d1d44559",
   "metadata": {},
   "source": [
    "<font color=\"Red\">間違い例）</font> 1:10の和を計算しようとする場合"
   ]
  },
  {
   "cell_type": "code",
   "execution_count": null,
   "id": "c30bd142",
   "metadata": {},
   "outputs": [],
   "source": [
    "for i in 1:10\n",
    "    \n",
    "    sum = sum + i\n",
    "    \n",
    "    println(sum)\n",
    "end"
   ]
  },
  {
   "cell_type": "markdown",
   "id": "4cc69c7d",
   "metadata": {},
   "source": [
    "上の場合，変数`sum`の初期値が指定されていないため，`sum`の型(type)が決定できていないわけである．\n",
    "\n",
    "そもそも，エラー文は変数`sum`が(グローバル変数として)定義されていないと叫んでいる．\n",
    "（グローバル変数については §4.関数 を参照．）\n",
    "\n",
    "正しくは，次のコーディングとなる．"
   ]
  },
  {
   "cell_type": "markdown",
   "id": "de88449e",
   "metadata": {},
   "source": [
    "正解例） 1:10の和を計算しようとする場合"
   ]
  },
  {
   "cell_type": "code",
   "execution_count": null,
   "id": "c15d7a01",
   "metadata": {},
   "outputs": [],
   "source": [
    "sum = 0 # ← sumを定義し，また初期値を与えている．\n",
    "\n",
    "for i in 1:10\n",
    "    \n",
    "    sum += i\n",
    "    \n",
    "    println(sum)\n",
    "end"
   ]
  },
  {
   "cell_type": "markdown",
   "id": "70c0d594",
   "metadata": {},
   "source": [
    "上記コーディングで，`sum += i`という表記を用いているが，これは`sum = sum + i`と等価である．\n",
    "\n",
    "なお，`+=`を代入演算子という．\n",
    "\n",
    "ちなみに，出力結果を最後のものだけにしたいときは，print文をfor~end文の外へ出せばよい．"
   ]
  },
  {
   "cell_type": "code",
   "execution_count": null,
   "id": "77e0aa14",
   "metadata": {},
   "outputs": [],
   "source": [
    "sum = 0 # 初期値\n",
    "\n",
    "for i in 1:10\n",
    "    sum += i\n",
    "end\n",
    "\n",
    "println(sum)"
   ]
  },
  {
   "cell_type": "markdown",
   "id": "b886f037",
   "metadata": {},
   "source": [
    "実は，繰り返し処理を用いたQuestion1の解答が上記となる．\n",
    "\n",
    "これを応用して，\n",
    "\n",
    "Question2:1~100の和を計算するといくらになるか？\n",
    "\n",
    "も繰り返し処理を用いてコーディングしてみよう．"
   ]
  },
  {
   "cell_type": "code",
   "execution_count": null,
   "id": "9650c455",
   "metadata": {},
   "outputs": [],
   "source": [
    "## 解答欄\n",
    "\n"
   ]
  },
  {
   "cell_type": "markdown",
   "id": "35cc53be",
   "metadata": {},
   "source": [
    "　"
   ]
  },
  {
   "cell_type": "markdown",
   "id": "95e7056b",
   "metadata": {},
   "source": [
    "#### 3.1.2 whileループ（見張り方式）"
   ]
  },
  {
   "cell_type": "markdown",
   "id": "6669d2d2",
   "metadata": {},
   "source": [
    "次に，繰り返し処理構文のひとつである**while～end文**を紹介する．"
   ]
  },
  {
   "cell_type": "markdown",
   "id": "3246e7f9",
   "metadata": {},
   "source": [
    "[構文] **while～end文**\n",
    "\n",
    "```\n",
    "i = (初期値)\n",
    "while (iに関する条件式)\n",
    "    （実行内容）\n",
    "end\n",
    "```"
   ]
  },
  {
   "cell_type": "markdown",
   "id": "af7e7d0a",
   "metadata": {},
   "source": [
    "whileループはforループと違い，条件を満たし続けるかぎりループが回る処理である．\n",
    "すなわち，ループ脱出条件としては，条件式が偽となったときである．\n",
    "\n",
    "iの変化は実行内容により定まるので，それに合わせたiの初期値が必要となる．\n",
    "\n",
    "また，`(iに関する条件式)`の部分はiに関する等式もしくは不等式が入る．(論理式で記述することも可能)"
   ]
  },
  {
   "cell_type": "markdown",
   "id": "03dbb91e",
   "metadata": {},
   "source": [
    "例） *1~10までの自然数の表示*"
   ]
  },
  {
   "cell_type": "code",
   "execution_count": null,
   "id": "ac59a1c9",
   "metadata": {},
   "outputs": [],
   "source": [
    "i = 1\n",
    "while i <= 10\n",
    "    println(i)\n",
    "    i += 1\n",
    "end"
   ]
  },
  {
   "cell_type": "markdown",
   "id": "5521703e",
   "metadata": {},
   "source": [
    "#### <font color=\"Blue\">参考：ループの境界条件</font>"
   ]
  },
  {
   "cell_type": "markdown",
   "id": "18f21d91",
   "metadata": {},
   "source": [
    "「ループを何回繰り返したか？」という事実は，プログラムの動作上非常に重要なことである．ループの繰り返し回数はループのカウンタ変数および，その条件式によって決定される．**境界条件**とは，ループの繰り返し回数を制御する条件を指す．"
   ]
  },
  {
   "cell_type": "markdown",
   "id": "bd9d8b32",
   "metadata": {},
   "source": [
    "ここで，上記の1~10までの自然数の表示するプログラム例との比較対象として，次の例を挙げる．"
   ]
  },
  {
   "cell_type": "code",
   "execution_count": null,
   "id": "926fc3bc",
   "metadata": {},
   "outputs": [],
   "source": [
    "i = 1\n",
    "while i < 10\n",
    "    println(i)\n",
    "    i += 1\n",
    "end"
   ]
  },
  {
   "cell_type": "markdown",
   "id": "16a72401",
   "metadata": {},
   "source": [
    "条件式の関係演算子`<`と`<=`だけの違いで結果が異なっていることが分かる．\n",
    "\n",
    "これは，条件式の評価順序が`i < 10`を評価したのち，`i += 1`を実行しているかどうかの差が現れているわけである．\n",
    "\n",
    "例えば，初期値を0にし，`i += 1`と`print(i)`を交換すれば，`i < 10`であっても実は1~10まで自然数を表示することは可能になる．"
   ]
  },
  {
   "cell_type": "code",
   "execution_count": null,
   "id": "fddb278b",
   "metadata": {},
   "outputs": [],
   "source": [
    "i = 0\n",
    "while i < 10\n",
    "    i += 1\n",
    "    println(i)\n",
    "end"
   ]
  },
  {
   "cell_type": "markdown",
   "id": "a07b3c1e",
   "metadata": {},
   "source": [
    "このように，意図した回数だけループが実行されたかどうかは，コーディングミスの出やすい部分である．境界条件がどのように働いているかのチェックは必ず行うことを是非習慣化したい次第である．"
   ]
  },
  {
   "cell_type": "markdown",
   "id": "269fbaa7",
   "metadata": {},
   "source": [
    "さて，それでは\n",
    "\n",
    "Question2:1~100の和を計算するといくらになるか？\n",
    "\n",
    "を，今度はwhile~end文を用いてコーディングしてみよう．"
   ]
  },
  {
   "cell_type": "code",
   "execution_count": null,
   "id": "d82bbfa3",
   "metadata": {},
   "outputs": [],
   "source": [
    "## 解答欄\n",
    "\n"
   ]
  },
  {
   "cell_type": "markdown",
   "id": "8b4e96b9",
   "metadata": {},
   "source": [
    "[ヒント]\n",
    "\n",
    "whileループはforループと違い，カウンタ変数がループ条件に組み込まれていないので，実行内容にカウンタ処理も入れなければならない事に注意しよう．"
   ]
  },
  {
   "cell_type": "markdown",
   "id": "4b077745",
   "metadata": {},
   "source": [
    "　"
   ]
  },
  {
   "cell_type": "markdown",
   "id": "ee8ace1a",
   "metadata": {},
   "source": [
    "【応用例】　Fibonacci数列の表示プログラム\n",
    "\n",
    "Fibonacci数列は以下のように定義される漸化式である．\n",
    "\n",
    "\\begin{align*}\n",
    "F_0 &= 0, \\\\\n",
    "F_1 &= 1, \\\\\n",
    "F_{n + 2} &= F_n + F_{n + 1} \\quad (n ≧ 0).\n",
    "\\end{align*}"
   ]
  },
  {
   "cell_type": "code",
   "execution_count": null,
   "id": "87d7bcdd",
   "metadata": {},
   "outputs": [],
   "source": [
    "F₀, F₁ = 0, 1\n",
    "while F₁ < 30\n",
    "    println(F₁)\n",
    "    F₀, F₁ = F₁, F₀+F₁\n",
    "end"
   ]
  },
  {
   "cell_type": "markdown",
   "id": "e25518f8",
   "metadata": {},
   "source": [
    "上記プログラムでは，とりあえず$F_n$が30までのFibonacci数を表示している．\n",
    "\n",
    "なお，上記プログラムの`F₀, F₁ = 0, 1`や，`F₀, F₁ = F₁, F₀+F₁`の部分は，**多重代入**と呼ばれる操作であり，代入操作をタプルで取り扱っているわけである．"
   ]
  },
  {
   "cell_type": "markdown",
   "id": "12dbf33b",
   "metadata": {},
   "source": [
    "さて，上記のプログラムで毎度Fibonacci数を表示しても良いが，配列(リスト)に格納できるとさらに便利になるだろう．\n",
    "\n",
    "ということで，次のように改良する．"
   ]
  },
  {
   "cell_type": "code",
   "execution_count": null,
   "id": "88093f99",
   "metadata": {},
   "outputs": [],
   "source": [
    "F₀, F₁ = 0, 1\n",
    "fibonacci = [F₀] # 最初の要素のみが入る，'fibonacci'という配列を用意\n",
    "while F₁ < 1000\n",
    "    append!(fibonacci, F₁) # 'fibonacci'という配列にF₁の値を追加\n",
    "    F₀, F₁ = F₁, F₀+F₁\n",
    "end\n",
    "print(fibonacci)"
   ]
  },
  {
   "cell_type": "markdown",
   "id": "6c926ed7",
   "metadata": {},
   "source": [
    "さらに，この計算結果をグラフに表してみよう．\n",
    "\n",
    "まず，以下のように**Plots**の利用を宣言しよう．"
   ]
  },
  {
   "cell_type": "code",
   "execution_count": null,
   "id": "a29a6a53",
   "metadata": {},
   "outputs": [],
   "source": [
    "using Plots; gr()"
   ]
  },
  {
   "cell_type": "markdown",
   "id": "d16b19ab",
   "metadata": {},
   "source": [
    "それでは，以下のplot文を実行してみよう．"
   ]
  },
  {
   "cell_type": "code",
   "execution_count": null,
   "id": "15794164",
   "metadata": {},
   "outputs": [],
   "source": [
    "plot(fibonacci, marker=:circle, legend=:none)"
   ]
  },
  {
   "cell_type": "markdown",
   "id": "ecedc852",
   "metadata": {},
   "source": [
    "フィボナッチ数列が急激に値が増加するものであることが実感できる．\n",
    "\n",
    "値の小さいところを詳しく見るためには片対数グラフが適切だろう．"
   ]
  },
  {
   "cell_type": "code",
   "execution_count": null,
   "id": "dea4355e",
   "metadata": {},
   "outputs": [],
   "source": [
    "plot(fibonacci[2:16], marker=:circle, legend=:none, yscale=:log10)"
   ]
  },
  {
   "cell_type": "markdown",
   "id": "927a732b",
   "metadata": {},
   "source": [
    "これより，フィボナッチ数列の値は指数関数的に増加していることがわかる．"
   ]
  },
  {
   "cell_type": "markdown",
   "id": "983399e8",
   "metadata": {},
   "source": [
    "　"
   ]
  },
  {
   "cell_type": "markdown",
   "id": "e075ad57",
   "metadata": {},
   "source": [
    "　"
   ]
  },
  {
   "cell_type": "markdown",
   "id": "74c7bd09",
   "metadata": {},
   "source": [
    "### 3.2 条件分岐処理"
   ]
  },
  {
   "cell_type": "markdown",
   "id": "e25bd24b",
   "metadata": {},
   "source": [
    "**条件分岐処理**とは，ある条件に対し，それが真である場合に動作を実行する処理である．"
   ]
  },
  {
   "cell_type": "markdown",
   "id": "64d25993",
   "metadata": {},
   "source": [
    "#### Question2-1:\n",
    "\n",
    "**ゼロ除算を回避するにはどうすれば良いか？**\n",
    "\n",
    "まずは下のセルを実行してみよう．「数字を入力してください」と聞かれるので，好きな数字を入力してみよう．"
   ]
  },
  {
   "cell_type": "code",
   "execution_count": null,
   "id": "52014a82",
   "metadata": {},
   "outputs": [],
   "source": [
    "s = Base.prompt(\"数字を入力して下さい\")\n",
    "a = parse(Float64,s)\n",
    "\n",
    "print(\"10 ÷ \" * s * \" = \" , 10/a)"
   ]
  },
  {
   "cell_type": "markdown",
   "id": "5d028095",
   "metadata": {},
   "source": [
    "入力した数字に対して，10で割った結果が返ってくるはずである．\n",
    "ここで，**0**を入力してみよう．すると，`10 ÷ 0 = Inf`と返ってくるはずである．\n",
    "Juliaではゼロ除算はどうやら値の発散とみなされるようである．\n",
    "\n",
    "そこで，ゼロ除算を行ったときには，それを回避するプログラムを下のセルに書いてみよう．"
   ]
  },
  {
   "cell_type": "code",
   "execution_count": null,
   "id": "4325849c",
   "metadata": {},
   "outputs": [],
   "source": [
    "## 解答欄\n",
    "\n"
   ]
  },
  {
   "cell_type": "markdown",
   "id": "3cf67166",
   "metadata": {},
   "source": [
    "#### Question2-2: (FizzBuzz問題)\n",
    "\n",
    "**以下の条件に従って，1から任意の値までを数え上げて画面に表示せよ．**\n",
    "\n",
    "- その数が3で割り切れる場合には，その数の代わりに「Fizz」を出力する．\n",
    "- その数が5で割り切れる場合には，その数の代わりに「Buzz」を出力する．\n",
    "- その数が3でも5でも割り切れる場合には，その数の代わりに「FizzBuzz」を出力する．\n",
    "\n",
    "\n",
    "\n",
    "（下のセルにコードを書いてみて実行してみよう）"
   ]
  },
  {
   "cell_type": "code",
   "execution_count": null,
   "id": "ee0e7e48",
   "metadata": {},
   "outputs": [],
   "source": [
    "## 解答欄\n",
    "\n"
   ]
  },
  {
   "cell_type": "markdown",
   "id": "1fe8102d",
   "metadata": {},
   "source": [
    "(ヒント)　例えば，1から15の数え上げであれば，出力は\n",
    "\n",
    "`1 → 2 → Fizz → 4 → Buzz → Fizz → 7 → 8 → Fizz → Buzz → 11 → Fizz → 13 → 14 → FizzBuzz`\n",
    "\n",
    "のようになる．"
   ]
  },
  {
   "cell_type": "markdown",
   "id": "3378fa01",
   "metadata": {},
   "source": [
    "　"
   ]
  },
  {
   "cell_type": "markdown",
   "id": "e58fcd5d",
   "metadata": {},
   "source": [
    "さて，上記のQuestionはどちらもコーディングが難しかったと思われる．これはなぜだろうか？\n",
    "\n",
    "答えは，どちらのQuestionも**条件に合わせて実行内容が違うようなプログラム**を作成しなければならないからである．"
   ]
  },
  {
   "cell_type": "markdown",
   "id": "01f023f2",
   "metadata": {},
   "source": [
    "これを解決するために，条件分岐処理構文のひとつである**if文**を紹介する．"
   ]
  },
  {
   "cell_type": "markdown",
   "id": "b0ff7cb8",
   "metadata": {},
   "source": [
    "[構文] **if文**\n",
    "\n",
    "```\n",
    "if (条件文)\n",
    "    （実行内容）\n",
    "end\n",
    "```"
   ]
  },
  {
   "cell_type": "markdown",
   "id": "a81ee10e",
   "metadata": {},
   "source": [
    "条件文は以下の表のように，適当な等式あるいは不等式を書くことが多い．\n",
    "\n",
    "| Juliaでの書き方 |    意味    |\n",
    "|:-----------:|:--------------:|\n",
    "| `x == y` | $x=y$ (イコール)| \n",
    "| `x != y` | $x\\neq y$  (ノットイコール)| \n",
    "| `x < y` | $x<y$ (小なり)| \n",
    "| `x <= y` | $x\\leq y$ (小なりイコール)| \n",
    "| `x > y` | $x> y$ (大なり)| \n",
    "| `x >= y` | $x \\leq y$ (大なりイコール)| "
   ]
  },
  {
   "cell_type": "markdown",
   "id": "ba10229e",
   "metadata": {},
   "source": [
    "例） *ゼロ除算の回避*　（Question2-1の解答例）"
   ]
  },
  {
   "cell_type": "code",
   "execution_count": null,
   "id": "aaf09811",
   "metadata": {},
   "outputs": [],
   "source": [
    "s = Base.prompt(\"数字を入力して下さい\")\n",
    "a = parse(Float64,s)\n",
    "\n",
    "if a != 0\n",
    "    print(\"10 ÷ \" * s * \" = \" , 10/a)\n",
    "end"
   ]
  },
  {
   "cell_type": "markdown",
   "id": "dcb5c1d1",
   "metadata": {},
   "source": [
    "if文は条件が真のときのみ処理を実行し，条件が偽のときはそこでプログラムを終了してしまう．\n",
    "\n",
    "そこで，条件が偽のときには別の処理を実行するようなプログラムを組みたいときには，次の**else文**を使う．"
   ]
  },
  {
   "cell_type": "markdown",
   "id": "ff2fcf36",
   "metadata": {},
   "source": [
    "[構文] **else文**\n",
    "\n",
    "```\n",
    "if (条件文)\n",
    "    （条件が真のときに実行する内容）\n",
    "else\n",
    "    （条件が偽のときに実行する内容）\n",
    "end\n",
    "```"
   ]
  },
  {
   "cell_type": "markdown",
   "id": "eae21dc2",
   "metadata": {},
   "source": [
    "上のゼロ除算の回避の例題をもう少し丁寧なものにしよう．\n",
    "\n",
    "ゼロ除算を行った際はゼロ除算を行った旨を表示し，もう一度別の数字を入力するように促すプログラムにする．"
   ]
  },
  {
   "cell_type": "markdown",
   "id": "9b422ab8",
   "metadata": {},
   "source": [
    "例） *ゼロ除算の回避*（改）"
   ]
  },
  {
   "cell_type": "code",
   "execution_count": null,
   "id": "fff04ec5",
   "metadata": {},
   "outputs": [],
   "source": [
    "s = Base.prompt(\"数字を入力して下さい\")\n",
    "a = parse(Float64,s)\n",
    "\n",
    "if a != 0\n",
    "    print(\"10 ÷ \" * s * \" = \" , 10/a)\n",
    "else\n",
    "    println(\"Error: ゼロ除算です．\")\n",
    "    print(\"別の数字を入力してください．\")\n",
    "end"
   ]
  },
  {
   "cell_type": "markdown",
   "id": "482e2ec9",
   "metadata": {},
   "source": [
    "例） *数字の一致判定*"
   ]
  },
  {
   "cell_type": "code",
   "execution_count": null,
   "id": "2afcb7dc",
   "metadata": {},
   "outputs": [],
   "source": [
    "x, y = 3, 3.0\n",
    "\n",
    "if x != y\n",
    "    print(\"x ≠ y\")\n",
    "else\n",
    "    print(\"x = y\")\n",
    "end"
   ]
  },
  {
   "cell_type": "markdown",
   "id": "9d3c4696",
   "metadata": {},
   "source": [
    "例） *奇数・偶数を判定するプログラム*"
   ]
  },
  {
   "cell_type": "code",
   "execution_count": null,
   "id": "4451b918",
   "metadata": {},
   "outputs": [],
   "source": [
    "s = Base.prompt(\"数字を入力して下さい\")\n",
    "a = parse(Float64,s)\n",
    "\n",
    "if a % 2 == 0\n",
    "    print(s * \"は偶数です．\")\n",
    "else\n",
    "    print(s * \"は奇数です．\")\n",
    "end"
   ]
  },
  {
   "cell_type": "markdown",
   "id": "977f3588",
   "metadata": {},
   "source": [
    "なお，ここで用いている`%`は剰余演算子といい，剰余を計算する二項演算子である．\n",
    "\n",
    "例えば，上の`a % 2 == 0`の意味は\n",
    "\n",
    "$$\n",
    "a \\equiv 0 \\  (mod \\ 2) \\quad (\\forall a \\in \\mathbb{Z})\n",
    "$$\n",
    "\n",
    "に一致する．"
   ]
  },
  {
   "cell_type": "markdown",
   "id": "0be68cbd",
   "metadata": {},
   "source": [
    "　\n",
    " \n",
    "さて，else文までで十分な気もするが，３つ以上の場合分けをしたい場合もあるだろう．そういうときには，次の**elseif文**を用いる．"
   ]
  },
  {
   "cell_type": "markdown",
   "id": "57ba3ffc",
   "metadata": {},
   "source": [
    "[構文] **elseif文**\n",
    "\n",
    "```\n",
    "if (条件文1)\n",
    "    （条件1が真のときに実行する内容）\n",
    "\n",
    "elseif (条件文2)\n",
    "    （条件1が偽かつ，条件2が真のときに実行する内容）\n",
    "    \n",
    "else\n",
    "    （いずれの条件も偽のときに実行する内容）\n",
    "end\n",
    "```"
   ]
  },
  {
   "cell_type": "markdown",
   "id": "ace5cf08",
   "metadata": {},
   "source": [
    "なお，**elseif**文は3つ以上の条件に拡張することも可能である．"
   ]
  },
  {
   "cell_type": "markdown",
   "id": "91b94082",
   "metadata": {},
   "source": [
    "[構文] **elseif文**(改)\n",
    "\n",
    "```\n",
    "if (条件文1)\n",
    "    （条件1が真のときに実行する内容）\n",
    "\n",
    "elseif (条件文2)\n",
    "    （条件1が偽かつ，条件2が真のときに実行する内容）\n",
    "    \n",
    "elseif (条件文3)\n",
    "    （条件1と条件2が偽かつ，条件3が真のときに実行する内容）\n",
    "    \n",
    "    .\n",
    "    .\n",
    "    .\n",
    "    \n",
    "elseif (条件文n)\n",
    "    （条件1，条件2，条件3，..., 条件n-1 が偽かつ，条件n が真のときに実行する内容）  \n",
    "    \n",
    "else\n",
    "    （いずれの条件も偽のときに実行する内容）\n",
    "end\n",
    "```"
   ]
  },
  {
   "cell_type": "markdown",
   "id": "dcde5af6",
   "metadata": {},
   "source": [
    "例） *数字の比較*"
   ]
  },
  {
   "cell_type": "code",
   "execution_count": null,
   "id": "144333c4",
   "metadata": {},
   "outputs": [],
   "source": [
    "x, y = 3, 3\n",
    "\n",
    "if x > y\n",
    "    print(\"x > y\")\n",
    "elseif x < y\n",
    "    print(\"x < y\")\n",
    "else\n",
    "    print(\"x = y\")\n",
    "end"
   ]
  },
  {
   "cell_type": "markdown",
   "id": "0f1dd69c",
   "metadata": {},
   "source": [
    "例） *判別式による二次方程式の解の分類*"
   ]
  },
  {
   "cell_type": "code",
   "execution_count": null,
   "id": "38edfe26",
   "metadata": {},
   "outputs": [],
   "source": [
    "a,b,c = 1,2,3 # 二次方程式の各係数\n",
    "\n",
    "\n",
    "D = b^2 - 4*a*c # 二次方程式の判別式\n",
    "\n",
    "if b >= 0\n",
    "    B = \"+\"*string(b)\n",
    "else\n",
    "    B = string(b)\n",
    "end\n",
    "\n",
    "if c >= 0\n",
    "    C = \"+\"*string(c)\n",
    "else\n",
    "    C = string(c)\n",
    "end\n",
    "\n",
    "print(string(a)*\"x²\"*B*\"x\"*C*\" = 0 は\")\n",
    "\n",
    "if D > 0\n",
    "    print(\"2つの実数解を持つ．\")\n",
    "    \n",
    "elseif D == 0\n",
    "    print(\"1つの実数解(重解)を持つ．\")\n",
    "    \n",
    "else\n",
    "    print(\"2つの虚数解を持つ．\")\n",
    "end"
   ]
  },
  {
   "cell_type": "markdown",
   "id": "095644b6",
   "metadata": {},
   "source": [
    "　\n",
    "\n",
    "さて，それでは Question2-2: FizzBuzz問題 をelseif文などを用いてコーディングしてみよう．"
   ]
  },
  {
   "cell_type": "markdown",
   "id": "2334bc40",
   "metadata": {},
   "source": [
    "#### [再掲] Question2-2: (FizzBuzz問題)\n",
    "\n",
    "**以下の条件に従って，1から任意の値までを数え上げて画面に表示せよ．**\n",
    "\n",
    "- その数が3で割り切れる場合には，その数の代わりに「Fizz」を出力する．\n",
    "- その数が5で割り切れる場合には，その数の代わりに「Buzz」を出力する．\n",
    "- その数が3でも5でも割り切れる場合には，その数の代わりに「FizzBuzz」を出力する．\n",
    "\n",
    "　\n",
    "\n",
    "*例えば，1から15の数え上げであれば，出力は*\n",
    "\n",
    "`1 → 2 → Fizz → 4 → Buzz → Fizz → 7 → 8 → Fizz → Buzz → 11 → Fizz → 13 → 14 → FizzBuzz`\n",
    "\n",
    "*のようになる．*"
   ]
  },
  {
   "cell_type": "code",
   "execution_count": null,
   "id": "ec39d443",
   "metadata": {},
   "outputs": [],
   "source": [
    "## 解答欄\n",
    "\n"
   ]
  },
  {
   "cell_type": "markdown",
   "id": "37b7c73e",
   "metadata": {},
   "source": [
    "（ヒント）\n",
    "\n",
    "- まずは，その数が3で割り切れる場合には，その数の代わりに「Fizz」を出力するプログラムをコーディングしよう．\n",
    "- それが出来れば，次は「Buzz」と「FizzBuzz」の分もコーディングしてみよう．\n",
    "- 3つ揃ったなら，elseif文などを用いて，入力された数に対して「Fizz」，「Buzz」，「FizzBuzz」のいずれかを返すプログラムを考えてみよう．\n",
    "- 最後に繰り返し処理で1から任意の値まで画面に表示できればプログラム完成である．"
   ]
  }
 ],
 "metadata": {
  "kernelspec": {
   "display_name": "Julia 1.6.2",
   "language": "julia",
   "name": "julia-1.6"
  },
  "language_info": {
   "file_extension": ".jl",
   "mimetype": "application/julia",
   "name": "julia",
   "version": "1.6.2"
  }
 },
 "nbformat": 4,
 "nbformat_minor": 5
}
