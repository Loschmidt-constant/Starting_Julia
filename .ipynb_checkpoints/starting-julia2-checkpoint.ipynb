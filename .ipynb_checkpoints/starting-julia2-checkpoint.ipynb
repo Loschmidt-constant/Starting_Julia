{
 "cells": [
  {
   "cell_type": "markdown",
   "id": "ac11497b",
   "metadata": {},
   "source": [
    "# 数値解析ゼミ 〜Julia入門〜\n",
    "\n",
    "プログラミング言語の一つであるJuliaの基本的な使い方について述べていく．"
   ]
  },
  {
   "cell_type": "markdown",
   "id": "ee9e6319",
   "metadata": {},
   "source": [
    "## 2. 配列・文字列・描画の基本操作"
   ]
  },
  {
   "cell_type": "markdown",
   "id": "750e4717",
   "metadata": {},
   "source": [
    "### 2.1 配列の考え方\n",
    "\n",
    "Juliaには複数の数値を同時に扱うことのできる**配列**（リスト）という仕組みが用意されている．"
   ]
  },
  {
   "cell_type": "code",
   "execution_count": 23,
   "id": "c9091e79",
   "metadata": {},
   "outputs": [
    {
     "data": {
      "text/plain": [
       "5-element Vector{Int64}:\n",
       "  1\n",
       "  4\n",
       "  9\n",
       " 16\n",
       " 25"
      ]
     },
     "execution_count": 23,
     "metadata": {},
     "output_type": "execute_result"
    }
   ],
   "source": [
    "a = [1, 4, 9, 16, 25] "
   ]
  },
  {
   "cell_type": "markdown",
   "id": "b84f96d4",
   "metadata": {},
   "source": [
    "この場合の $a$ は $(1,4,9,16,25)$ というベクトルを表現している．\n",
    "これを特に**一次元配列**という．"
   ]
  },
  {
   "cell_type": "markdown",
   "id": "3cb3c386",
   "metadata": {},
   "source": [
    "Juliaでは一次元配列をベクトルとして扱う．事実，Juliaで一次元配列の**型**(*type*)を調べると`vector`と表示される．"
   ]
  },
  {
   "cell_type": "code",
   "execution_count": 25,
   "id": "5087e747",
   "metadata": {},
   "outputs": [
    {
     "data": {
      "text/plain": [
       "Vector{Int64} (alias for Array{Int64, 1})"
      ]
     },
     "execution_count": 25,
     "metadata": {},
     "output_type": "execute_result"
    }
   ],
   "source": [
    "typeof(a) # 変数の型(type)を調べるには typeof 関数を用いる．"
   ]
  },
  {
   "cell_type": "markdown",
   "id": "ea9d01bb",
   "metadata": {},
   "source": [
    "ここで，一次元配列の要素を参照したい場合は`a[i]` $(i = 1,2,3,4,5)$を入力すれば良い．"
   ]
  },
  {
   "cell_type": "code",
   "execution_count": 26,
   "id": "ecf9c494",
   "metadata": {
    "scrolled": true
   },
   "outputs": [
    {
     "data": {
      "text/plain": [
       "9"
      ]
     },
     "execution_count": 26,
     "metadata": {},
     "output_type": "execute_result"
    }
   ],
   "source": [
    "# 例: aの3番目の要素を知りたい場合\n",
    "a[3]"
   ]
  },
  {
   "cell_type": "markdown",
   "id": "259e7ce9",
   "metadata": {},
   "source": [
    "また，次のように $b=(2,3,4,5,6)$ を用意してみよう．"
   ]
  },
  {
   "cell_type": "code",
   "execution_count": 27,
   "id": "0167c19d",
   "metadata": {},
   "outputs": [
    {
     "data": {
      "text/plain": [
       "5-element Vector{Int64}:\n",
       " 2\n",
       " 3\n",
       " 4\n",
       " 5\n",
       " 6"
      ]
     },
     "execution_count": 27,
     "metadata": {},
     "output_type": "execute_result"
    }
   ],
   "source": [
    "b = [2,3,4,5,6]"
   ]
  },
  {
   "cell_type": "markdown",
   "id": "446995c5",
   "metadata": {},
   "source": [
    "一次元配列の和は各要素の和として計算される．"
   ]
  },
  {
   "cell_type": "code",
   "execution_count": 28,
   "id": "7d93848a",
   "metadata": {},
   "outputs": [
    {
     "data": {
      "text/plain": [
       "5-element Vector{Int64}:\n",
       "  3\n",
       "  7\n",
       " 13\n",
       " 21\n",
       " 31"
      ]
     },
     "execution_count": 28,
     "metadata": {},
     "output_type": "execute_result"
    }
   ],
   "source": [
    "a + b"
   ]
  },
  {
   "cell_type": "markdown",
   "id": "469d2015",
   "metadata": {},
   "source": [
    "配列の要素を取り替えることも可能である．例として，$b$の第4成分 \"**5**\" を \"**8**\"に取り替えてみよう．"
   ]
  },
  {
   "cell_type": "code",
   "execution_count": 29,
   "id": "5e8dc094",
   "metadata": {},
   "outputs": [
    {
     "data": {
      "text/plain": [
       "8"
      ]
     },
     "execution_count": 29,
     "metadata": {},
     "output_type": "execute_result"
    }
   ],
   "source": [
    "b[5] = 8"
   ]
  },
  {
   "cell_type": "code",
   "execution_count": 30,
   "id": "f57996a5",
   "metadata": {},
   "outputs": [
    {
     "data": {
      "text/plain": [
       "5-element Vector{Int64}:\n",
       " 2\n",
       " 3\n",
       " 4\n",
       " 5\n",
       " 8"
      ]
     },
     "execution_count": 30,
     "metadata": {},
     "output_type": "execute_result"
    }
   ],
   "source": [
    "b"
   ]
  },
  {
   "cell_type": "markdown",
   "id": "06fe498c",
   "metadata": {},
   "source": [
    "Juliaでは，連番や等差数列を一次元配列として出力することも可能である．"
   ]
  },
  {
   "cell_type": "code",
   "execution_count": 32,
   "id": "921c2161",
   "metadata": {},
   "outputs": [
    {
     "data": {
      "text/plain": [
       "5-element Vector{Int64}:\n",
       " 1\n",
       " 2\n",
       " 3\n",
       " 4\n",
       " 5"
      ]
     },
     "execution_count": 32,
     "metadata": {},
     "output_type": "execute_result"
    }
   ],
   "source": [
    "Vector(1:5) # 連番の表示"
   ]
  },
  {
   "cell_type": "code",
   "execution_count": 35,
   "id": "60f1bc82",
   "metadata": {},
   "outputs": [
    {
     "data": {
      "text/plain": [
       "5-element Vector{Int64}:\n",
       " 1\n",
       " 3\n",
       " 5\n",
       " 7\n",
       " 9"
      ]
     },
     "execution_count": 35,
     "metadata": {},
     "output_type": "execute_result"
    }
   ],
   "source": [
    "Vector(1:2:9) # 等差数列の表示"
   ]
  },
  {
   "cell_type": "markdown",
   "id": "3813911e",
   "metadata": {},
   "source": [
    "このように，`vector(初項:等差:末項)` という風に vector 関数で指定してあげれば，等差数列を表現することも可能である．"
   ]
  },
  {
   "cell_type": "markdown",
   "id": "7ff862f0",
   "metadata": {},
   "source": [
    "他にも**二次元配列**というものもあり，以下のように表現する．"
   ]
  },
  {
   "cell_type": "code",
   "execution_count": 49,
   "id": "4b3b862c",
   "metadata": {},
   "outputs": [
    {
     "data": {
      "text/plain": [
       "2×2 Matrix{Int64}:\n",
       " 1  2\n",
       " 3  4"
      ]
     },
     "execution_count": 49,
     "metadata": {},
     "output_type": "execute_result"
    }
   ],
   "source": [
    "A = [1 2 ; 3 4]"
   ]
  },
  {
   "cell_type": "markdown",
   "id": "921ab24e",
   "metadata": {},
   "source": [
    "各要素は空白で区切り，行を追加する際は`;`を使う。"
   ]
  },
  {
   "cell_type": "markdown",
   "id": "272617b7",
   "metadata": {},
   "source": [
    "また，Juliaでは二次元配列を行列として扱う．事実，Juliaで二次元配列の**型**(*type*)を調べると`Matrix`と表示される．"
   ]
  },
  {
   "cell_type": "code",
   "execution_count": 51,
   "id": "46ddd9cc",
   "metadata": {},
   "outputs": [
    {
     "data": {
      "text/plain": [
       "Matrix{Int64} (alias for Array{Int64, 2})"
      ]
     },
     "execution_count": 51,
     "metadata": {},
     "output_type": "execute_result"
    }
   ],
   "source": [
    "typeof(A)"
   ]
  },
  {
   "cell_type": "markdown",
   "id": "6794ab87",
   "metadata": {},
   "source": [
    "二次元配列の要素を参照したい場合は`a[i,j]` $(i = 1,2, \\quad j = 1,2)$を入力すれば良い．"
   ]
  },
  {
   "cell_type": "code",
   "execution_count": 56,
   "id": "65c4a378",
   "metadata": {
    "scrolled": true
   },
   "outputs": [
    {
     "data": {
      "text/plain": [
       "2"
      ]
     },
     "execution_count": 56,
     "metadata": {},
     "output_type": "execute_result"
    }
   ],
   "source": [
    "# 例: Aの1行2列目の要素を知りたい場合\n",
    "A[1,2]"
   ]
  },
  {
   "cell_type": "markdown",
   "id": "92fa4939",
   "metadata": {},
   "source": [
    "### 2.1文字列\n",
    "\n",
    "数値と同じように，Juliaは文字列も扱うことが可能である．\n",
    "文字列はダブルクォーテーション`\"...\"`で囲むことで表現できる．\n",
    "\n",
    "クォーテーションで囲わない場合，Juliaへの命令として扱われる（すなわち，変数名として認識される）ため区別が必要である．\n",
    "\n",
    "（詳しくは，https://mnru.github.io/julia-doc-ja-v1.0/manual/strings.html\n",
    "など参照．）"
   ]
  },
  {
   "cell_type": "code",
   "execution_count": null,
   "id": "0cbcca16",
   "metadata": {},
   "outputs": [],
   "source": []
  },
  {
   "cell_type": "code",
   "execution_count": 18,
   "id": "ee896a9e",
   "metadata": {},
   "outputs": [
    {
     "data": {
      "text/plain": [
       "\"julia\""
      ]
     },
     "execution_count": 18,
     "metadata": {},
     "output_type": "execute_result"
    }
   ],
   "source": [
    "\"julia\" # ダブルクォーテーションで囲む"
   ]
  },
  {
   "cell_type": "code",
   "execution_count": 20,
   "id": "4589934f",
   "metadata": {},
   "outputs": [
    {
     "data": {
      "text/plain": [
       "\"Hello World!\""
      ]
     },
     "execution_count": 20,
     "metadata": {},
     "output_type": "execute_result"
    }
   ],
   "source": [
    "\"Hello World!\" #2単語もひとつの文字列として認識する．"
   ]
  },
  {
   "cell_type": "markdown",
   "id": "a948faab",
   "metadata": {},
   "source": [
    "ちなみに，上の`Hello World!`は`Hello`と`World!`を特に2単語として認識しているわけではなく，`Hello_World!`(_はスペースの意)はスペース込みでひとつの文字列として認識しているだけである．"
   ]
  },
  {
   "cell_type": "markdown",
   "id": "be860d7c",
   "metadata": {},
   "source": [
    "その確認として，文字列"
   ]
  },
  {
   "cell_type": "code",
   "execution_count": 22,
   "id": "d1c56e92",
   "metadata": {},
   "outputs": [
    {
     "data": {
      "text/plain": [
       "\"a\""
      ]
     },
     "execution_count": 22,
     "metadata": {},
     "output_type": "execute_result"
    }
   ],
   "source": []
  },
  {
   "cell_type": "code",
   "execution_count": null,
   "id": "2f8e1a07",
   "metadata": {},
   "outputs": [],
   "source": []
  },
  {
   "cell_type": "code",
   "execution_count": null,
   "id": "b78cbabc",
   "metadata": {},
   "outputs": [],
   "source": []
  },
  {
   "cell_type": "code",
   "execution_count": 21,
   "id": "64e4d0ef",
   "metadata": {},
   "outputs": [
    {
     "data": {
      "text/plain": [
       "' ': ASCII/Unicode U+0020 (category Zs: Separator, space)"
      ]
     },
     "execution_count": 21,
     "metadata": {},
     "output_type": "execute_result"
    }
   ],
   "source": [
    "b[6]"
   ]
  },
  {
   "cell_type": "code",
   "execution_count": 4,
   "id": "51a2e983",
   "metadata": {},
   "outputs": [
    {
     "data": {
      "text/plain": [
       "String"
      ]
     },
     "execution_count": 4,
     "metadata": {},
     "output_type": "execute_result"
    }
   ],
   "source": [
    "typeof(\"spam eggs\")"
   ]
  },
  {
   "cell_type": "code",
   "execution_count": 15,
   "id": "10321510",
   "metadata": {},
   "outputs": [
    {
     "data": {
      "text/plain": [
       "\"Contains \\nquote \\ncharacters\\n\""
      ]
     },
     "execution_count": 15,
     "metadata": {},
     "output_type": "execute_result"
    }
   ],
   "source": [
    "a = \"\"\"\n",
    "Contains \n",
    "quote \n",
    "characters\n",
    "\"\"\""
   ]
  },
  {
   "cell_type": "code",
   "execution_count": 17,
   "id": "004e0bbc",
   "metadata": {},
   "outputs": [
    {
     "name": "stdout",
     "output_type": "stream",
     "text": [
      "Contains \n",
      "quote \n",
      "characters\n",
      "\n"
     ]
    }
   ],
   "source": [
    "println(a)"
   ]
  }
 ],
 "metadata": {
  "kernelspec": {
   "display_name": "Julia 1.6.2",
   "language": "julia",
   "name": "julia-1.6"
  },
  "language_info": {
   "file_extension": ".jl",
   "mimetype": "application/julia",
   "name": "julia",
   "version": "1.6.2"
  }
 },
 "nbformat": 4,
 "nbformat_minor": 5
}
