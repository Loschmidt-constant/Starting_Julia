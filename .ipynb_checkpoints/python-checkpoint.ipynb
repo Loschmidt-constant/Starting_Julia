{
 "cells": [
  {
   "cell_type": "markdown",
   "metadata": {
    "colab_type": "text",
    "id": "ZuHfOzCI92bM"
   },
   "source": [
    "### 数学関数の計算\n",
    "\n",
    "ここでは、`Numpy`の機能の1つである特殊関数の計算をしてみる。\n",
    "\n",
    "    "
   ]
  },
  {
   "cell_type": "code",
   "execution_count": 0,
   "metadata": {
    "colab": {
     "base_uri": "https://localhost:8080/",
     "height": 35
    },
    "colab_type": "code",
    "id": "NVkHQ1T892bN",
    "outputId": "3b4db2fc-1536-4870-82b9-e03714163046"
   },
   "outputs": [
    {
     "data": {
      "text/plain": [
       "0.8414709848078965"
      ]
     },
     "execution_count": 16,
     "metadata": {
      "tags": []
     },
     "output_type": "execute_result"
    }
   ],
   "source": [
    "# sin 関数\n",
    "np.sin(1)"
   ]
  },
  {
   "cell_type": "markdown",
   "metadata": {
    "colab_type": "text",
    "id": "jyFBuZy092bQ"
   },
   "source": [
    "このように、numpyの機能を用いる場合は、`np.`の後に関数名を書いて実行する。\n",
    "\n",
    "他に使える数学関数の一覧は\n",
    "\n",
    "http://docs.scipy.org/doc/numpy/reference/routines.math.html\n",
    "\n",
    "にリストされている。\n",
    "\n",
    "なお、Jupyter-notebook では、関数の括弧内にカーソルがあるときに `Shift + Tab` を押すことで、それら関数の説明を見ることができる。\n",
    "説明は英語であるが、わざわざマニュアルを検索しなくても簡単な情報は得られるようになっている。\n"
   ]
  },
  {
   "cell_type": "markdown",
   "metadata": {
    "colab_type": "text",
    "id": "IhVU33i992bQ"
   },
   "source": [
    "次に、この関数の形を視覚的に把握するためにグラフにプロットする。"
   ]
  },
  {
   "cell_type": "code",
   "execution_count": 0,
   "metadata": {
    "colab": {},
    "colab_type": "code",
    "id": "MI0KV05A92bR"
   },
   "outputs": [],
   "source": [
    "# まず、計算する範囲、個数を指定する。今回は、-5~5, 100 点で計算する。\n",
    "x = []\n",
    "y = []\n",
    "for i in range(100):\n",
    "    x.append(-5.0 + 10.0 / 100 * i)\n",
    "    y.append(np.sin(x[i]))"
   ]
  },
  {
   "cell_type": "code",
   "execution_count": 0,
   "metadata": {
    "colab": {},
    "colab_type": "code",
    "id": "3r2jSLNv92bU",
    "outputId": "33290695-0c43-43aa-e642-3a5d664fb665"
   },
   "outputs": [
    {
     "data": {
      "text/plain": [
       "[<matplotlib.lines.Line2D at 0x7fad9c0df828>]"
      ]
     },
     "execution_count": 20,
     "metadata": {
      "tags": []
     },
     "output_type": "execute_result"
    },
    {
     "data": {
      "image/png": "[encoded data removed]",
      "text/plain": [
       "<matplotlib.figure.Figure at 0x7fad9e1a0f60>"
      ]
     },
     "metadata": {
      "tags": []
     },
     "output_type": "display_data"
    }
   ],
   "source": [
    "plt.plot(x, y, '-o')"
   ]
  },
  {
   "cell_type": "markdown",
   "metadata": {
    "colab_type": "text",
    "id": "5L0rsMok92bX"
   },
   "source": [
    "### 課題\n",
    "以下の関数を（-3 ~ 3）の範囲でプロットせよ\n",
    "\n",
    "$$\n",
    "f(x) = \\frac{\\sin(2\\pi x)}{2\\pi x}\n",
    "$$\n",
    "\n",
    "なお、$f(0)=1$であることに注意する。"
   ]
  },
  {
   "cell_type": "code",
   "execution_count": 0,
   "metadata": {
    "colab": {},
    "colab_type": "code",
    "id": "uVOulon992bY"
   },
   "outputs": [],
   "source": [
    "# 解答をここに記入する"
   ]
  },
  {
   "cell_type": "code",
   "execution_count": 0,
   "metadata": {
    "colab": {
     "base_uri": "https://localhost:8080/",
     "height": 287
    },
    "colab_type": "code",
    "id": "dfUHlJUftnn5",
    "outputId": "2d57b24a-6613-4c81-a337-0d6b4eb59df3"
   },
   "outputs": [
    {
     "data": {
      "text/plain": [
       "[<matplotlib.lines.Line2D at 0x7f2a0a43c358>]"
      ]
     },
     "execution_count": 40,
     "metadata": {
      "tags": []
     },
     "output_type": "execute_result"
    },
    {
     "data": {
      "image/png": "[encoded data removed]",
      "text/plain": [
       "<Figure size 432x288 with 1 Axes>"
      ]
     },
     "metadata": {
      "tags": []
     },
     "output_type": "display_data"
    }
   ],
   "source": [
    "# 解答例\n",
    "import numpy as np\n",
    "%matplotlib inline\n",
    "import matplotlib.pyplot as plt\n",
    "x = []\n",
    "y = []\n",
    "dx = 0.001  #xの刻み幅Δx\n",
    "x_dis = int(6/dx) #x軸の幅 \n",
    "for i in range(x_max):\n",
    "    x.append(-3.0 + dx * i)\n",
    "    y.append(np.sin(2*np.pi*x[i])/2*np.pi*x[i])\n",
    "plt.plot(x, y, '-o')"
   ]
  },
  {
   "cell_type": "markdown",
   "metadata": {
    "colab_type": "text",
    "id": "mTWT_F8a5k_Z"
   },
   "source": [
    "-------------------------------------\n",
    "\n",
    "### 文字列\n",
    "\n",
    "数値と同じように、Pythonは文字列も扱うことができる。\n",
    "文字列はシングルコーテーション`'...'`もしくはダブルコーテーション`\"...\"`で囲むことで表現できる。\n",
    "\n",
    "コーテーションで囲わない場合は、Pythonへの命令として扱われるため区別が必要である。"
   ]
  },
  {
   "cell_type": "code",
   "execution_count": 0,
   "metadata": {
    "colab": {},
    "colab_type": "code",
    "id": "F-zEGegB5k_a",
    "outputId": "86f3e2c4-4fe0-43dd-fdfa-d102fba6f2d0"
   },
   "outputs": [
    {
     "data": {
      "text/plain": [
       "'spam eggs'"
      ]
     },
     "execution_count": 11,
     "metadata": {
      "tags": []
     },
     "output_type": "execute_result"
    }
   ],
   "source": [
    "'spam eggs' # シングルコーテーションを使う"
   ]
  },
  {
   "cell_type": "code",
   "execution_count": 0,
   "metadata": {
    "colab": {},
    "colab_type": "code",
    "id": "KdLhkgnU5k_f",
    "outputId": "414081ab-e5f3-41d9-e823-a6699e3cebb1"
   },
   "outputs": [
    {
     "data": {
      "text/plain": [
       "\"doesn't\""
      ]
     },
     "execution_count": 12,
     "metadata": {
      "tags": []
     },
     "output_type": "execute_result"
    }
   ],
   "source": [
    "'doesn\\'t'\n",
    "# コーテーション自体を扱いたい場合は \\' というように「\\（バックスラッシュ）」が必要である。\n",
    "# なお、Windowsではバックスラッシュは半角の円マーク（￥）と表示されることがある。"
   ]
  },
  {
   "cell_type": "markdown",
   "metadata": {
    "colab_type": "text",
    "id": "6o0-UMqa5k_i"
   },
   "source": [
    "文字列は、`+`記号で繋ぐことができる。"
   ]
  },
  {
   "cell_type": "code",
   "execution_count": 0,
   "metadata": {
    "colab": {},
    "colab_type": "code",
    "id": "R-YGUckC5k_j",
    "outputId": "9414c5db-3c04-4b9e-da12-6c1ca8171993"
   },
   "outputs": [
    {
     "data": {
      "text/plain": [
       "'Python'"
      ]
     },
     "execution_count": 13,
     "metadata": {
      "tags": []
     },
     "output_type": "execute_result"
    }
   ],
   "source": [
    "'Py' + 'thon'"
   ]
  },
  {
   "cell_type": "markdown",
   "metadata": {
    "colab_type": "text",
    "id": "mD0Axrl25k_m"
   },
   "source": [
    "また、文字列中の各文字には`[]`記号を用いてアクセスすることができる。\n",
    "\n",
    "なお、Pythonでは1番最初の要素にアクセスするためには0を与える（0から数える）。"
   ]
  },
  {
   "cell_type": "code",
   "execution_count": 0,
   "metadata": {
    "colab": {},
    "colab_type": "code",
    "id": "nBzYlWet5k_n",
    "outputId": "41b793b5-7b30-49e5-9dba-609281e4fcf0"
   },
   "outputs": [
    {
     "data": {
      "text/plain": [
       "'P'"
      ]
     },
     "execution_count": 14,
     "metadata": {
      "tags": []
     },
     "output_type": "execute_result"
    }
   ],
   "source": [
    "word = 'Python'\n",
    "word[0] # 0番目の文字"
   ]
  },
  {
   "cell_type": "code",
   "execution_count": 0,
   "metadata": {
    "colab": {},
    "colab_type": "code",
    "id": "7ajflQN-5k_p",
    "outputId": "231eb5a4-f7d7-4904-c1e8-831b98d81340"
   },
   "outputs": [
    {
     "data": {
      "text/plain": [
       "'n'"
      ]
     },
     "execution_count": 15,
     "metadata": {
      "tags": []
     },
     "output_type": "execute_result"
    }
   ],
   "source": [
    "word[5] # （0から数えて）5番目の文字"
   ]
  },
  {
   "cell_type": "markdown",
   "metadata": {
    "colab_type": "text",
    "id": "1rIoyfSq5k_t"
   },
   "source": [
    "また、インデックス（`[]`内の数字）には、負の数を入れることができる。"
   ]
  },
  {
   "cell_type": "code",
   "execution_count": 0,
   "metadata": {
    "colab": {},
    "colab_type": "code",
    "id": "jSGMV_0J5k_v",
    "outputId": "526ad56b-5a9d-4bf2-8088-ae2285442676"
   },
   "outputs": [
    {
     "data": {
      "text/plain": [
       "'n'"
      ]
     },
     "execution_count": 16,
     "metadata": {
      "tags": []
     },
     "output_type": "execute_result"
    }
   ],
   "source": [
    "word[-1] # 最後の文字"
   ]
  },
  {
   "cell_type": "code",
   "execution_count": 0,
   "metadata": {
    "colab": {},
    "colab_type": "code",
    "id": "PHyCz5BA5k_2",
    "outputId": "584787a8-b65e-4e9a-df7e-e24abe698705"
   },
   "outputs": [
    {
     "data": {
      "text/plain": [
       "'o'"
      ]
     },
     "execution_count": 17,
     "metadata": {
      "tags": []
     },
     "output_type": "execute_result"
    }
   ],
   "source": [
    "word[-2] # 最後から二番目の文字"
   ]
  },
  {
   "cell_type": "code",
   "execution_count": 0,
   "metadata": {
    "colab": {},
    "colab_type": "code",
    "id": "TwhtmHBE5k_8",
    "outputId": "b6f2daff-d546-4e5a-b61b-eca8abf4fb89"
   },
   "outputs": [
    {
     "data": {
      "text/plain": [
       "'P'"
      ]
     },
     "execution_count": 18,
     "metadata": {
      "tags": []
     },
     "output_type": "execute_result"
    }
   ],
   "source": [
    "word[-6]"
   ]
  },
  {
   "cell_type": "markdown",
   "metadata": {
    "colab_type": "text",
    "id": "QaowIFFy5lAA"
   },
   "source": [
    "このように特定の一つの文字にアクセスすることを「indexing(インデクシング)」と言う。\n",
    "\n",
    "また、Pythonは特定の一部分にアクセスする「slicing(スライシング)」にも対応している。"
   ]
  },
  {
   "cell_type": "code",
   "execution_count": 0,
   "metadata": {
    "colab": {},
    "colab_type": "code",
    "id": "x8G8Dnzp5lAB",
    "outputId": "85c4f44e-b6fd-421d-886e-95af73e7efca"
   },
   "outputs": [
    {
     "data": {
      "text/plain": [
       "'Py'"
      ]
     },
     "execution_count": 19,
     "metadata": {
      "tags": []
     },
     "output_type": "execute_result"
    }
   ],
   "source": [
    "word[0:2] # 0番目から2番目にわたる部分（なお、2番目は含まれない）"
   ]
  },
  {
   "cell_type": "code",
   "execution_count": 0,
   "metadata": {
    "colab": {},
    "colab_type": "code",
    "id": "eWNAQu5u5lAI",
    "outputId": "32522e04-bd83-48c4-ec3a-30cc29c3551c"
   },
   "outputs": [
    {
     "data": {
      "text/plain": [
       "'tho'"
      ]
     },
     "execution_count": 20,
     "metadata": {
      "tags": []
     },
     "output_type": "execute_result"
    }
   ],
   "source": [
    "word[2:5] # 2〜5番目の部分"
   ]
  },
  {
   "cell_type": "markdown",
   "metadata": {
    "colab_type": "text",
    "id": "lmOkZ6lR5lAL"
   },
   "source": [
    "また、`:`の片側を記入しない場合は、残り全てという意味になる。"
   ]
  },
  {
   "cell_type": "code",
   "execution_count": 0,
   "metadata": {
    "colab": {},
    "colab_type": "code",
    "id": "QQMXM4hK5lAN",
    "outputId": "952b111c-42fe-4578-9d88-0287d95bb4dd"
   },
   "outputs": [
    {
     "data": {
      "text/plain": [
       "'Pytho'"
      ]
     },
     "execution_count": 21,
     "metadata": {
      "tags": []
     },
     "output_type": "execute_result"
    }
   ],
   "source": [
    "word[:5]"
   ]
  },
  {
   "cell_type": "code",
   "execution_count": 0,
   "metadata": {
    "colab": {},
    "colab_type": "code",
    "id": "3-87SerW5lAR",
    "outputId": "5af979bf-0956-489a-dd72-3c34545c86ce"
   },
   "outputs": [
    {
     "data": {
      "text/plain": [
       "'Py'"
      ]
     },
     "execution_count": 22,
     "metadata": {
      "tags": []
     },
     "output_type": "execute_result"
    }
   ],
   "source": [
    "word[:2]"
   ]
  },
  {
   "cell_type": "code",
   "execution_count": 0,
   "metadata": {
    "colab": {},
    "colab_type": "code",
    "id": "4nQjIidG5lAT",
    "outputId": "354714b1-fe30-4812-fb85-014d5c00dd6f"
   },
   "outputs": [
    {
     "data": {
      "text/plain": [
       "'Pyth'"
      ]
     },
     "execution_count": 23,
     "metadata": {
      "tags": []
     },
     "output_type": "execute_result"
    }
   ],
   "source": [
    "word[:-2]"
   ]
  },
  {
   "cell_type": "markdown",
   "metadata": {
    "colab_type": "text",
    "id": "Dv11zhsp5lAW"
   },
   "source": [
    "ただし、含まれる文字数以上の部分にアクセスしようとするとエラーになる。"
   ]
  },
  {
   "cell_type": "code",
   "execution_count": 0,
   "metadata": {
    "colab": {},
    "colab_type": "code",
    "id": "HFgaSTn25lAX",
    "outputId": "5e1a11f1-ce6c-4fdb-e0cc-0d6a9e7bcd93"
   },
   "outputs": [
    {
     "ename": "IndexError",
     "evalue": "string index out of range",
     "output_type": "error",
     "traceback": [
      "\u001b[0;31m---------------------------------------------------------------------------\u001b[0m",
      "\u001b[0;31mIndexError\u001b[0m                                Traceback (most recent call last)",
      "\u001b[0;32m<ipython-input-24-4d0f20275732>\u001b[0m in \u001b[0;36m<module>\u001b[0;34m()\u001b[0m\n\u001b[0;32m----> 1\u001b[0;31m \u001b[0mword\u001b[0m\u001b[0;34m[\u001b[0m\u001b[0;36m42\u001b[0m\u001b[0;34m]\u001b[0m\u001b[0;34m\u001b[0m\u001b[0m\n\u001b[0m",
      "\u001b[0;31mIndexError\u001b[0m: string index out of range"
     ]
    }
   ],
   "source": [
    "word[42]"
   ]
  },
  {
   "cell_type": "code",
   "execution_count": 0,
   "metadata": {
    "colab": {},
    "colab_type": "code",
    "id": "Gi5y7M2V5lAb",
    "outputId": "a385c727-90f5-4dbc-dfdd-8c0a44607770"
   },
   "outputs": [
    {
     "ename": "IndexError",
     "evalue": "string index out of range",
     "output_type": "error",
     "traceback": [
      "\u001b[0;31m---------------------------------------------------------------------------\u001b[0m",
      "\u001b[0;31mIndexError\u001b[0m                                Traceback (most recent call last)",
      "\u001b[0;32m<ipython-input-25-3a39584f106f>\u001b[0m in \u001b[0;36m<module>\u001b[0;34m()\u001b[0m\n\u001b[0;32m----> 1\u001b[0;31m \u001b[0mword\u001b[0m\u001b[0;34m[\u001b[0m\u001b[0;34m-\u001b[0m\u001b[0;36m10\u001b[0m\u001b[0;34m]\u001b[0m\u001b[0;34m\u001b[0m\u001b[0m\n\u001b[0m",
      "\u001b[0;31mIndexError\u001b[0m: string index out of range"
     ]
    }
   ],
   "source": [
    "word[-10]"
   ]
  },
  {
   "cell_type": "markdown",
   "metadata": {
    "colab_type": "text",
    "id": "ySTtR3w-5lBG"
   },
   "source": [
    "リストの要素は、数値だけでなく、文字列、さらには別のリストとすることも可能である。"
   ]
  },
  {
   "cell_type": "code",
   "execution_count": 0,
   "metadata": {
    "colab": {},
    "colab_type": "code",
    "id": "SH-ADnj95lBH",
    "outputId": "2a9eaf04-2722-4a6c-826f-d51deec4a25f"
   },
   "outputs": [
    {
     "data": {
      "text/plain": [
       "[['a', 'b', 'c'], [1, 2, 3]]"
      ]
     },
     "execution_count": 35,
     "metadata": {
      "tags": []
     },
     "output_type": "execute_result"
    }
   ],
   "source": [
    "a = ['a', 'b', 'c']\n",
    "n = [1,2,3]\n",
    "x = [a,n]\n",
    "\n",
    "x"
   ]
  },
  {
   "cell_type": "markdown",
   "metadata": {
    "colab_type": "text",
    "id": "UVqdfDDJ5lBK"
   },
   "source": [
    "インデックスを用いて要素を読みだす。"
   ]
  },
  {
   "cell_type": "code",
   "execution_count": 0,
   "metadata": {
    "colab": {},
    "colab_type": "code",
    "id": "niTmcPDw5lBL",
    "outputId": "884bd197-b8da-4e02-a5ca-defc1b54fe99"
   },
   "outputs": [
    {
     "data": {
      "text/plain": [
       "['a', 'b', 'c']"
      ]
     },
     "execution_count": 36,
     "metadata": {
      "tags": []
     },
     "output_type": "execute_result"
    }
   ],
   "source": [
    "x[0]"
   ]
  },
  {
   "cell_type": "code",
   "execution_count": 0,
   "metadata": {
    "colab": {},
    "colab_type": "code",
    "id": "DDbLRjKp5lBT",
    "outputId": "da2cf11b-5d16-4125-a7be-e472cbdc18c5"
   },
   "outputs": [
    {
     "data": {
      "text/plain": [
       "'b'"
      ]
     },
     "execution_count": 37,
     "metadata": {
      "tags": []
     },
     "output_type": "execute_result"
    }
   ],
   "source": [
    "x[0][1]"
   ]
  },
  {
   "cell_type": "markdown",
   "metadata": {
    "colab_type": "text",
    "id": "2kkTQNBuBNIy"
   },
   "source": [
    "\n",
    "\n",
    "\n",
    "# Pythonの現実的応用 〜運動方程式を数値的に解く〜"
   ]
  },
  {
   "cell_type": "markdown",
   "metadata": {
    "colab_type": "text",
    "id": "mjtI0uckBNI3"
   },
   "source": [
    "## 物体の自由落下のシミュレーション\n",
    "\n",
    "ここでは, 以下のような質点の自由落下をシミュレートする.\n",
    "\n",
    "![自由落下](http://livedoor.blogimg.jp/yng2513/imgs/1/5/1549ce35.png)\n",
    "\n",
    "自由落下運動の模式図. 時刻 $t = 0$ に $x(0)=h$ で鉛直方向に速度 $u_0$ で\n",
    "運動している物体（図の青丸）の軌道をシミュレートする.\n",
    "位置 $x$ および速度 $v$ の模式図は上図のようになる."
   ]
  },
  {
   "cell_type": "markdown",
   "metadata": {
    "colab_type": "text",
    "id": "bC18dOGdBNI6"
   },
   "source": [
    "質点の質量を $m$ 、重力加速度を $g$ 、初期位置を $h$ 、初速を $u_0$ とする。\n",
    "鉛直座標として $x$ をとると, 運動方程式は\n",
    "\n",
    "$$\n",
    "ma=-mg, \\ \\ \\ x(t=0)=h, \\ \\ \\ v(t=0)=u_0\n",
    "$$\n",
    "\n",
    "で与えられる.\n",
    "その解は\n",
    "\n",
    "$$\n",
    "x(t)=h+u_0t-\\frac{1}{2}gt^2.\n",
    "$$\n",
    "\n",
    "である。\n",
    "\n",
    "取り敢えず、この $t$ における $x$ の関数を実際にプロットしてグラフにしてみよう。（これを解析的に解くという。）"
   ]
  },
  {
   "cell_type": "code",
   "execution_count": 0,
   "metadata": {
    "colab": {
     "base_uri": "https://localhost:8080/",
     "height": 269
    },
    "colab_type": "code",
    "id": "f2TxFoVZEp8F",
    "outputId": "ba29df20-d09e-4022-ad61-5232201928f1"
   },
   "outputs": [
    {
     "data": {
      "image/png": "[encoded data removed]",
      "text/plain": [
       "<Figure size 432x288 with 1 Axes>"
      ]
     },
     "metadata": {
      "tags": []
     },
     "output_type": "display_data"
    }
   ],
   "source": [
    "from matplotlib import pyplot as plt\n",
    "import math\n",
    "u = 30.\n",
    "h = 50\n",
    "\n",
    "x= [] # python list \n",
    "y= []\n",
    "tend=7.5\n",
    "dt=0.1\n",
    "t =0\n",
    "g =9.8\n",
    "\n",
    "while t<tend:\n",
    "   x.append( t )\n",
    "   y.append( h + u*t - 0.5*g*t**2)\n",
    "   t=t+dt\n",
    "  \n",
    "plt.plot(x,y, marker='o')\n",
    "plt.show()\n"
   ]
  },
  {
   "cell_type": "markdown",
   "metadata": {
    "colab_type": "text",
    "id": "iAY7U-zTDdrH"
   },
   "source": [
    "今度はこれをコンピュータを用いて近似的に求めてみよう.\n",
    "\n",
    "上式を以下のように変形することで数値解析用の運動方程式が得られる.\n",
    "(これは速度と変位の定義式を変形しただけのものでもある)\n",
    "\n",
    "$$\n",
    "x_{n+1} = x_{n} + v_n  \\Delta t \\\\[3pt]\n",
    "u_{n+1} = u_n - a_n  \\Delta t\n",
    "$$\n",
    "\n",
    "プログラムの例を以下に示す.\n",
    "計算した $x, u$ の時間変化をグラフにし,　厳密解と比較してみよ."
   ]
  },
  {
   "cell_type": "code",
   "execution_count": 0,
   "metadata": {
    "colab": {},
    "colab_type": "code",
    "id": "WWNIxRFFBNI_"
   },
   "outputs": [],
   "source": [
    "import numpy as np\n",
    "%matplotlib inline\n",
    "import matplotlib.pyplot as plt\n",
    "\n",
    "def next_x(x, u, dt):\n",
    "    \"\"\"\n",
    "    現在の x, u の値から、dt 後のxを求める関数。\n",
    "    args:\n",
    "    + x: 時刻 t での空間座標\n",
    "    + u: 時刻 t での速度\n",
    "    + dt: 線形近似する時間幅\n",
    "    return:\n",
    "     時刻t+dtでのxの値\n",
    "    \"\"\"\n",
    "    return x + u * dt\n",
    "\n",
    "def next_u_vacuum(u, dt, g):\n",
    "    \"\"\"\n",
    "    現在の u の値から、dt 後のxを求める関数。空気抵抗は考慮しない。\n",
    "    args:\n",
    "    + x: 時刻 t での空間座標\n",
    "    + u: 時刻 t での速度\n",
    "    + dt: 線形近似する時間幅\n",
    "    + g: 重力加速度の値\n",
    "    return:\n",
    "     時刻t+dt での u の値\n",
    "    \"\"\"\n",
    "    return u - g * dt\n",
    "\n",
    "def solve_freefall_vacuum(x0, u0, dt, tmax):\n",
    "    \"\"\"\n",
    "    t=0 に位置h、速度u0の物体の自由落下をシミュレートする関数。\n",
    "    args:\n",
    "    + x0: t=0での座標 [m]\n",
    "    + u0: t=0での速度 [m/s]\n",
    "    + dt: オイラー法を用いるための時間軸の刻み幅 [s]\n",
    "    + tmax: 追跡を行う最大時間 [s]\n",
    "    \"\"\"\n",
    "    # 計算結果を代入するリスト\n",
    "    x_list = []\n",
    "    u_list = []\n",
    "    t_list = []\n",
    "    \n",
    "    g = 9.81 # 重力加速度 [m/s^2]\n",
    "    \n",
    "    # 初期値の代入\n",
    "    x = x0\n",
    "    u = u0\n",
    "    t = 0.0\n",
    "    \n",
    "    while(t < tmax):\n",
    "        x_list.append(x)\n",
    "        u_list.append(u)\n",
    "        t_list.append(t)\n",
    "        \n",
    "        # x, u, tの値の更新\n",
    "        x = next_x(x,u,dt)\n",
    "        u = next_u_vacuum(u,dt,g)\n",
    "        t = t + dt\n",
    "    return x_list, u_list, t_list"
   ]
  },
  {
   "cell_type": "code",
   "execution_count": 0,
   "metadata": {
    "colab": {},
    "colab_type": "code",
    "id": "E-BQUAMSBNJL",
    "outputId": "6945c61e-a5ae-4548-a287-9c0664acba93"
   },
   "outputs": [
    {
     "data": {
      "image/png": "[encoded data removed]",
      "text/plain": [
       "<matplotlib.figure.Figure at 0x7f3ef404bac8>"
      ]
     },
     "metadata": {
      "tags": []
     },
     "output_type": "display_data"
    }
   ],
   "source": [
    "# 数値解\n",
    "x_list, u_list, t_list = solve_freefall_vacuum(1.0, 0.0, 0.001, 1.3)\n",
    "\n",
    "plt.figure(figsize=(8,3))\n",
    "# t vs x のグラフ\n",
    "plt.subplot(1,2,1)\n",
    "plt.plot(t_list, x_list)\n",
    "plt.xlabel('t (s)')\n",
    "plt.ylabel('x (m)')\n",
    "# t vs u のグラフ\n",
    "plt.subplot(1,2,2)\n",
    "plt.plot(t_list, u_list)\n",
    "plt.xlabel('t (s)')\n",
    "plt.ylabel('u (m/s)')\n",
    "# 2つのグラフを綺麗に配置する。\n",
    "plt.tight_layout()"
   ]
  },
  {
   "cell_type": "markdown",
   "metadata": {
    "colab_type": "text",
    "id": "YYVeYLut1MAY"
   },
   "source": [
    "### 課題\n",
    "\n",
    "角度 θ で斜方投射した場合の運動を数値計算するプログラムを作成せよ。"
   ]
  },
  {
   "cell_type": "code",
   "execution_count": 0,
   "metadata": {
    "colab": {},
    "colab_type": "code",
    "id": "XJhNwsQA1MAi"
   },
   "outputs": [],
   "source": [
    "# 解答をここに記入する"
   ]
  },
  {
   "cell_type": "markdown",
   "metadata": {
    "colab_type": "text",
    "id": "7vxGcuJFC08H"
   },
   "source": [
    "（ヒント）\n",
    "\n",
    "質点の質量を $m$ 、重力加速度を $g$ 、初期位置は 0 m 、斜方初速を $v_0 = 14.1 $ m とする。\n",
    "水平座標として $x$ , 鉛直座標として $y$ をとると、運動方程式は水平分と鉛直分の２つ\n",
    "\n",
    "$$\n",
    "ma_x=0, \\ \\ \\ x(t=0)=0, \\ \\ \\ v_x(t=0)=u_0cos(theta) \n",
    "$$\n",
    "\n",
    "$$\n",
    "ma_y=-mg, \\ \\ \\ y(t=0)=0, \\ \\ \\ v_y(t=0)=u_0 sin(theta) \n",
    "$$\n",
    "\n",
    "で与えられる。\n",
    "\n",
    "（斜方投射を鉛直成分と水平成分に分解すると、鉛直成分は投げ上げ運動，水平成分は等速直線運動をする事から、このような運動方程式が書ける）\n",
    "\n",
    "\n",
    "これらの情報をもとに数値解析プログラムをコーディングしてみよう！"
   ]
  },
  {
   "cell_type": "code",
   "execution_count": 11,
   "metadata": {
    "colab": {
     "base_uri": "https://localhost:8080/",
     "height": 282
    },
    "colab_type": "code",
    "id": "efW_uMIL1MAo",
    "outputId": "a5b1d5e3-eb30-45c8-ef1f-2da70c373a27"
   },
   "outputs": [
    {
     "data": {
      "image/png": "[encoded data removed]",
      "text/plain": [
       "<Figure size 432x288 with 1 Axes>"
      ]
     },
     "metadata": {
      "tags": []
     },
     "output_type": "display_data"
    }
   ],
   "source": [
    "#解答例\n",
    "\n",
    "from matplotlib import pyplot as plt \n",
    "import numpy as np\n",
    "#import math \n",
    "  \n",
    "g = 9.8 #重力加速度  \n",
    "  \n",
    "#初期条件 \n",
    "dt = 0.05 \n",
    "t = 0.0 \n",
    "x = 0.0\n",
    "y = 0.0\n",
    "v0 = 14.1\n",
    "theta = 60\n",
    "vx = v0*np.cos(np.radians(theta))\n",
    "vy = v0*np.sin(np.radians(theta))\n",
    "  \n",
    "t_list = [] \n",
    "x_list = [] \n",
    "y_list = []\n",
    "\n",
    "while y >= 0: \n",
    "  t += dt \n",
    "  ax = 0\n",
    "  ay = -g\n",
    "  x += vx*dt\n",
    "  y += vy*dt\n",
    "  vx += ax*dt\n",
    "  vy += ay*dt\n",
    "              \n",
    "  x_list.append(x)\n",
    "  y_list.append(y) \n",
    "\n",
    "plt.plot(x_list, y_list) \n",
    "plt.xlabel('x [m]') \n",
    "plt.ylabel('y [m]')          \n",
    "plt.show() "
   ]
  }
 ],
 "metadata": {
  "anaconda-cloud": {},
  "colab": {
   "collapsed_sections": [],
   "name": "物理シミュレーションから始めるPython入門",
   "provenance": [],
   "version": "0.3.2"
  },
  "kernelspec": {
   "display_name": "Julia 1.6.2",
   "language": "julia",
   "name": "julia-1.6"
  },
  "language_info": {
   "file_extension": ".jl",
   "mimetype": "application/julia",
   "name": "julia",
   "version": "1.6.2"
  },
  "latex_envs": {
   "bibliofile": "biblio.bib",
   "cite_by": "apalike",
   "current_citInitial": 1,
   "eqLabelWithNumbers": true,
   "eqNumInitial": 0
  },
  "toc": {
   "toc_cell": false,
   "toc_number_sections": true,
   "toc_threshold": 6,
   "toc_window_display": false
  }
 },
 "nbformat": 4,
 "nbformat_minor": 1
}
