{
 "cells": [
  {
   "cell_type": "markdown",
   "metadata": {},
   "source": [
    "# 数値解析ゼミ 〜Julia入門〜\n",
    "\n",
    "プログラミング言語の一つであるJuliaの基本的な使い方について述べていく．"
   ]
  },
  {
   "cell_type": "markdown",
   "metadata": {},
   "source": [
    "## 4. 関数の考え方\n",
    "\n",
    "3章にてJuliaの制御構造（繰り返し処理と条件分岐処理）を考えた．\n",
    "しかしここで，同じような処理を何度も行うプログラムを考えたとき，その何度も行う操作を操作の数だけコードを書くことは非効率である．\n",
    "\n",
    "そこで，同一の操作に対し，フレームワークを先に作っておくことを考えたくなる．プログラミングにおいて，同一の操作を汎用的に行うことができる仕組みを**関数**と呼ぶ．"
   ]
  },
  {
   "cell_type": "markdown",
   "metadata": {},
   "source": [
    "### 4.1 関数の定義\n",
    "\n",
    "関数は，**引数**で与えられた入力に対して，何か計算した結果を**返り値**として返すものである．\n",
    "\n",
    "関数は以下のように定義する．\n",
    "\n",
    "\n",
    "[構文] **function文**\n",
    "\n",
    "```\n",
    "function [関数の名前]（引数1, 引数2, ...）\n",
    "    return (返り値)\n",
    "end\n",
    "```\n"
   ]
  },
  {
   "cell_type": "markdown",
   "metadata": {},
   "source": [
    "ここでは例として，2つの一次元配列を引数にとり，その内積を計算する関数を作ってみる．"
   ]
  },
  {
   "cell_type": "code",
   "execution_count": 1,
   "metadata": {},
   "outputs": [
    {
     "data": {
      "text/plain": [
       "inner_product (generic function with 1 method)"
      ]
     },
     "execution_count": 1,
     "metadata": {},
     "output_type": "execute_result"
    }
   ],
   "source": [
    "function inner_product(X, Y)\n",
    "    \n",
    "    dot = 0       # 初期値の設定 \n",
    "    \n",
    "    for i in 1:length(X)    # lengthで配列要素数の取得\n",
    "        dot += X[i] * Y[i]  # i.e.  dot(新) = dot(旧) + (X[i] * Y[i])\n",
    "    end\n",
    "    \n",
    "    return dot    # return で計算した値を返す\n",
    "    \n",
    "end"
   ]
  },
  {
   "cell_type": "markdown",
   "metadata": {},
   "source": [
    "この関数が実行されると，\n",
    "\n",
    "- まず，``dot``という変数が内部で定義され，初期値として値 $0$ が代入される．\n",
    "- 次に，`for` ループにより内積の値(`X[i]*Y[i]`)が`dot`に代入される．\n",
    "- 最後に，計算された`dot`の値がこの関数の出力として返される．\n",
    "\n",
    "という処理が，与える引数に対して行われる．"
   ]
  },
  {
   "cell_type": "code",
   "execution_count": 2,
   "metadata": {},
   "outputs": [
    {
     "name": "stdout",
     "output_type": "stream",
     "text": [
      "4.0"
     ]
    }
   ],
   "source": [
    "## 例1\n",
    "a = [1.0, 2.0]\n",
    "b = [2.0, 1.0]\n",
    "print(inner_product(a,b))"
   ]
  },
  {
   "cell_type": "code",
   "execution_count": 3,
   "metadata": {},
   "outputs": [
    {
     "name": "stdout",
     "output_type": "stream",
     "text": [
      "56"
     ]
    }
   ],
   "source": [
    "## 例2\n",
    "x = [3, 5]\n",
    "y = [12, 4]\n",
    "print(inner_product(x,y))"
   ]
  },
  {
   "cell_type": "markdown",
   "metadata": {},
   "source": [
    "このように，一度関数を定義してしまえば，繰り返し用いることができる．\n",
    "\n",
    "また，上の例1，例2のセルではそれぞれ違う文字の変数を代入しているが，問題なく`inner_product`関数で計算出来ている．\n",
    "すなわち，`inner_product`関数を定義する際に使用した変数`X`，`Y`はあくまで関数の構造を決定するための“仮引数”であることがわかる．この“仮引数”のことを**ローカル変数**（局所変数）という（詳細は後述）．"
   ]
  },
  {
   "cell_type": "markdown",
   "metadata": {},
   "source": [
    "　\n",
    "\n",
    "実は，関数の作成は「§1.3 シンボリック計算」の節で行っていた(!!!)． §1.3では準備として関数 $f(t) = t^2 + 3t + 2$ を用意するのに，"
   ]
  },
  {
   "cell_type": "code",
   "execution_count": null,
   "metadata": {},
   "outputs": [],
   "source": [
    "f(t) = t^2 + 3t + 2"
   ]
  },
  {
   "cell_type": "markdown",
   "metadata": {},
   "source": [
    "として（数学と同様の記法で）自然に書いていたが，この記法はJuliaでは（プログラミングにおける）“関数”と同様の処理がなされている．\n",
    "\n",
    "実際，先ほど挙げた関数の構文に従って，$f(t) = t^2 + 3t + 2$ を書き直すと以下のようになる："
   ]
  },
  {
   "cell_type": "code",
   "execution_count": null,
   "metadata": {},
   "outputs": [],
   "source": [
    "function f(t)\n",
    "    t^2 + 3t + 2 \n",
    "end"
   ]
  },
  {
   "cell_type": "markdown",
   "metadata": {},
   "source": [
    "このことから，この2つの関数の定義は等価である．"
   ]
  },
  {
   "cell_type": "markdown",
   "metadata": {},
   "source": [
    "補足：\n",
    "\n",
    "上のセルで関数を定義する際にreturn文を挿入していないが，これはJuliaの仕様として関数の最後の文の値が返り値となるというルールを採用しているだけである．\n",
    "途中の文（あるいは変数）を返り値にしたい場合以外は，return文を挿入しなくても処理として問題ない．"
   ]
  },
  {
   "cell_type": "markdown",
   "metadata": {},
   "source": [
    "　"
   ]
  },
  {
   "cell_type": "markdown",
   "metadata": {},
   "source": [
    "#### *4.1.1 無名関数\n",
    "\n",
    "いままで，関数に名前をつけてきた（たとえば，`inner_product`や，`f`など）．これに対し，名前を持たない関数（**無名関数**）を定義することも可能である．\n",
    "\n",
    "すぐに使う目的の関数がない場合，無名関数で一時的に関数オブジェクトを作成しておくと便利である．\n",
    "\n",
    "（いちいち，名前付き関数を定義せずともテストできるということ．）"
   ]
  },
  {
   "cell_type": "markdown",
   "metadata": {},
   "source": [
    "無名関数のコーディング記法としては以下の例に挙げる2通りがある："
   ]
  },
  {
   "cell_type": "code",
   "execution_count": 4,
   "metadata": {},
   "outputs": [
    {
     "data": {
      "text/plain": [
       "#1 (generic function with 1 method)"
      ]
     },
     "execution_count": 4,
     "metadata": {},
     "output_type": "execute_result"
    }
   ],
   "source": [
    "x -> x^2 + 2x - 1"
   ]
  },
  {
   "cell_type": "code",
   "execution_count": 5,
   "metadata": {},
   "outputs": [
    {
     "data": {
      "text/plain": [
       "#3 (generic function with 1 method)"
      ]
     },
     "execution_count": 5,
     "metadata": {},
     "output_type": "execute_result"
    }
   ],
   "source": [
    "function (x)\n",
    "    x^2 + 2x - 1\n",
    "end"
   ]
  },
  {
   "cell_type": "markdown",
   "metadata": {},
   "source": [
    "無名関数を使う場合には上の記法を使う方が便利な場合が多い．しかも，`(入力) → (出力)`という直感的にも理解しやすい記法となっている．\n",
    "\n",
    "以下の例のように，特に`map`関数と一緒に用いると便利な場合が多い．"
   ]
  },
  {
   "cell_type": "code",
   "execution_count": 29,
   "metadata": {},
   "outputs": [
    {
     "data": {
      "text/plain": [
       "10-element Vector{Int64}:\n",
       "   2\n",
       "   7\n",
       "  14\n",
       "  23\n",
       "  34\n",
       "  47\n",
       "  62\n",
       "  79\n",
       "  98\n",
       " 119"
      ]
     },
     "execution_count": 29,
     "metadata": {},
     "output_type": "execute_result"
    }
   ],
   "source": [
    "map(x -> x^2 + 2x - 1, (1:10))"
   ]
  },
  {
   "cell_type": "markdown",
   "metadata": {},
   "source": [
    "※ map関数は第1引数に関数を指定し，第2引数に変数の定義域を指定する．出力結果として，関数の出力結果に対する値域を返す．"
   ]
  },
  {
   "cell_type": "code",
   "execution_count": 7,
   "metadata": {},
   "outputs": [
    {
     "data": {
      "text/plain": [
       "Plots.GRBackend()"
      ]
     },
     "execution_count": 7,
     "metadata": {},
     "output_type": "execute_result"
    }
   ],
   "source": [
    "using Plots; gr()"
   ]
  },
  {
   "cell_type": "code",
   "execution_count": 10,
   "metadata": {},
   "outputs": [
    {
     "data": {
      "image/svg+xml": [
       "<?xml version=\"1.0\" encoding=\"utf-8\"?>\n",
       "<svg xmlns=\"http://www.w3.org/2000/svg\" xmlns:xlink=\"http://www.w3.org/1999/xlink\" width=\"600\" height=\"400\" viewBox=\"0 0 2400 1600\">\n",
       "<defs>\n",
       "  <clipPath id=\"clip710\">\n",
       "    <rect x=\"0\" y=\"0\" width=\"2400\" height=\"1600\"/>\n",
       "  </clipPath>\n",
       "</defs>\n",
       "<path clip-path=\"url(#clip710)\" d=\"\n",
       "M0 1600 L2400 1600 L2400 0 L0 0  Z\n",
       "  \" fill=\"#ffffff\" fill-rule=\"evenodd\" fill-opacity=\"1\"/>\n",
       "<defs>\n",
       "  <clipPath id=\"clip711\">\n",
       "    <rect x=\"480\" y=\"0\" width=\"1681\" height=\"1600\"/>\n",
       "  </clipPath>\n",
       "</defs>\n",
       "<path clip-path=\"url(#clip710)\" d=\"\n",
       "M193.936 1486.45 L2352.76 1486.45 L2352.76 47.2441 L193.936 47.2441  Z\n",
       "  \" fill=\"#ffffff\" fill-rule=\"evenodd\" fill-opacity=\"1\"/>\n",
       "<defs>\n",
       "  <clipPath id=\"clip712\">\n",
       "    <rect x=\"193\" y=\"47\" width=\"2160\" height=\"1440\"/>\n",
       "  </clipPath>\n",
       "</defs>\n",
       "<polyline clip-path=\"url(#clip712)\" style=\"stroke:#000000; stroke-linecap:butt; stroke-linejoin:round; stroke-width:2; stroke-opacity:0.1; fill:none\" points=\"\n",
       "  458.697,1486.45 458.697,47.2441 \n",
       "  \"/>\n",
       "<polyline clip-path=\"url(#clip712)\" style=\"stroke:#000000; stroke-linecap:butt; stroke-linejoin:round; stroke-width:2; stroke-opacity:0.1; fill:none\" points=\"\n",
       "  866.021,1486.45 866.021,47.2441 \n",
       "  \"/>\n",
       "<polyline clip-path=\"url(#clip712)\" style=\"stroke:#000000; stroke-linecap:butt; stroke-linejoin:round; stroke-width:2; stroke-opacity:0.1; fill:none\" points=\"\n",
       "  1273.35,1486.45 1273.35,47.2441 \n",
       "  \"/>\n",
       "<polyline clip-path=\"url(#clip712)\" style=\"stroke:#000000; stroke-linecap:butt; stroke-linejoin:round; stroke-width:2; stroke-opacity:0.1; fill:none\" points=\"\n",
       "  1680.67,1486.45 1680.67,47.2441 \n",
       "  \"/>\n",
       "<polyline clip-path=\"url(#clip712)\" style=\"stroke:#000000; stroke-linecap:butt; stroke-linejoin:round; stroke-width:2; stroke-opacity:0.1; fill:none\" points=\"\n",
       "  2087.99,1486.45 2087.99,47.2441 \n",
       "  \"/>\n",
       "<polyline clip-path=\"url(#clip710)\" style=\"stroke:#000000; stroke-linecap:butt; stroke-linejoin:round; stroke-width:4; stroke-opacity:1; fill:none\" points=\"\n",
       "  193.936,1486.45 2352.76,1486.45 \n",
       "  \"/>\n",
       "<polyline clip-path=\"url(#clip710)\" style=\"stroke:#000000; stroke-linecap:butt; stroke-linejoin:round; stroke-width:4; stroke-opacity:1; fill:none\" points=\"\n",
       "  458.697,1486.45 458.697,1467.55 \n",
       "  \"/>\n",
       "<polyline clip-path=\"url(#clip710)\" style=\"stroke:#000000; stroke-linecap:butt; stroke-linejoin:round; stroke-width:4; stroke-opacity:1; fill:none\" points=\"\n",
       "  866.021,1486.45 866.021,1467.55 \n",
       "  \"/>\n",
       "<polyline clip-path=\"url(#clip710)\" style=\"stroke:#000000; stroke-linecap:butt; stroke-linejoin:round; stroke-width:4; stroke-opacity:1; fill:none\" points=\"\n",
       "  1273.35,1486.45 1273.35,1467.55 \n",
       "  \"/>\n",
       "<polyline clip-path=\"url(#clip710)\" style=\"stroke:#000000; stroke-linecap:butt; stroke-linejoin:round; stroke-width:4; stroke-opacity:1; fill:none\" points=\"\n",
       "  1680.67,1486.45 1680.67,1467.55 \n",
       "  \"/>\n",
       "<polyline clip-path=\"url(#clip710)\" style=\"stroke:#000000; stroke-linecap:butt; stroke-linejoin:round; stroke-width:4; stroke-opacity:1; fill:none\" points=\"\n",
       "  2087.99,1486.45 2087.99,1467.55 \n",
       "  \"/>\n",
       "<path clip-path=\"url(#clip710)\" d=\"M427.598 1530.29 L457.273 1530.29 L457.273 1534.23 L427.598 1534.23 L427.598 1530.29 Z\" fill=\"#000000\" fill-rule=\"evenodd\" fill-opacity=\"1\" /><path clip-path=\"url(#clip710)\" d=\"M480.213 1516.63 L468.408 1535.08 L480.213 1535.08 L480.213 1516.63 M478.986 1512.56 L484.866 1512.56 L484.866 1535.08 L489.796 1535.08 L489.796 1538.97 L484.866 1538.97 L484.866 1547.12 L480.213 1547.12 L480.213 1538.97 L464.611 1538.97 L464.611 1534.46 L478.986 1512.56 Z\" fill=\"#000000\" fill-rule=\"evenodd\" fill-opacity=\"1\" /><path clip-path=\"url(#clip710)\" d=\"M835.964 1530.29 L865.639 1530.29 L865.639 1534.23 L835.964 1534.23 L835.964 1530.29 Z\" fill=\"#000000\" fill-rule=\"evenodd\" fill-opacity=\"1\" /><path clip-path=\"url(#clip710)\" d=\"M879.76 1543.18 L896.079 1543.18 L896.079 1547.12 L874.135 1547.12 L874.135 1543.18 Q876.797 1540.43 881.38 1535.8 Q885.987 1531.15 887.167 1529.81 Q889.413 1527.28 890.292 1525.55 Q891.195 1523.79 891.195 1522.1 Q891.195 1519.34 889.25 1517.61 Q887.329 1515.87 884.227 1515.87 Q882.028 1515.87 879.575 1516.63 Q877.144 1517.4 874.366 1518.95 L874.366 1514.23 Q877.19 1513.09 879.644 1512.51 Q882.098 1511.93 884.135 1511.93 Q889.505 1511.93 892.7 1514.62 Q895.894 1517.31 895.894 1521.8 Q895.894 1523.93 895.084 1525.85 Q894.297 1527.74 892.19 1530.34 Q891.612 1531.01 888.51 1534.23 Q885.408 1537.42 879.76 1543.18 Z\" fill=\"#000000\" fill-rule=\"evenodd\" fill-opacity=\"1\" /><path clip-path=\"url(#clip710)\" d=\"M1273.35 1515.64 Q1269.73 1515.64 1267.91 1519.2 Q1266.1 1522.75 1266.1 1529.87 Q1266.1 1536.98 1267.91 1540.55 Q1269.73 1544.09 1273.35 1544.09 Q1276.98 1544.09 1278.79 1540.55 Q1280.61 1536.98 1280.61 1529.87 Q1280.61 1522.75 1278.79 1519.2 Q1276.98 1515.64 1273.35 1515.64 M1273.35 1511.93 Q1279.16 1511.93 1282.21 1516.54 Q1285.29 1521.12 1285.29 1529.87 Q1285.29 1538.6 1282.21 1543.21 Q1279.16 1547.79 1273.35 1547.79 Q1267.54 1547.79 1264.46 1543.21 Q1261.4 1538.6 1261.4 1529.87 Q1261.4 1521.12 1264.46 1516.54 Q1267.54 1511.93 1273.35 1511.93 Z\" fill=\"#000000\" fill-rule=\"evenodd\" fill-opacity=\"1\" /><path clip-path=\"url(#clip710)\" d=\"M1675.32 1543.18 L1691.64 1543.18 L1691.64 1547.12 L1669.7 1547.12 L1669.7 1543.18 Q1672.36 1540.43 1676.94 1535.8 Q1681.55 1531.15 1682.73 1529.81 Q1684.98 1527.28 1685.86 1525.55 Q1686.76 1523.79 1686.76 1522.1 Q1686.76 1519.34 1684.81 1517.61 Q1682.89 1515.87 1679.79 1515.87 Q1677.59 1515.87 1675.14 1516.63 Q1672.71 1517.4 1669.93 1518.95 L1669.93 1514.23 Q1672.75 1513.09 1675.21 1512.51 Q1677.66 1511.93 1679.7 1511.93 Q1685.07 1511.93 1688.26 1514.62 Q1691.46 1517.31 1691.46 1521.8 Q1691.46 1523.93 1690.65 1525.85 Q1689.86 1527.74 1687.75 1530.34 Q1687.18 1531.01 1684.07 1534.23 Q1680.97 1537.42 1675.32 1543.18 Z\" fill=\"#000000\" fill-rule=\"evenodd\" fill-opacity=\"1\" /><path clip-path=\"url(#clip710)\" d=\"M2091 1516.63 L2079.2 1535.08 L2091 1535.08 L2091 1516.63 M2089.78 1512.56 L2095.66 1512.56 L2095.66 1535.08 L2100.59 1535.08 L2100.59 1538.97 L2095.66 1538.97 L2095.66 1547.12 L2091 1547.12 L2091 1538.97 L2075.4 1538.97 L2075.4 1534.46 L2089.78 1512.56 Z\" fill=\"#000000\" fill-rule=\"evenodd\" fill-opacity=\"1\" /><polyline clip-path=\"url(#clip712)\" style=\"stroke:#000000; stroke-linecap:butt; stroke-linejoin:round; stroke-width:2; stroke-opacity:0.1; fill:none\" points=\"\n",
       "  193.936,1445.9 2352.76,1445.9 \n",
       "  \"/>\n",
       "<polyline clip-path=\"url(#clip712)\" style=\"stroke:#000000; stroke-linecap:butt; stroke-linejoin:round; stroke-width:2; stroke-opacity:0.1; fill:none\" points=\"\n",
       "  193.936,1106.31 2352.76,1106.31 \n",
       "  \"/>\n",
       "<polyline clip-path=\"url(#clip712)\" style=\"stroke:#000000; stroke-linecap:butt; stroke-linejoin:round; stroke-width:2; stroke-opacity:0.1; fill:none\" points=\"\n",
       "  193.936,766.721 2352.76,766.721 \n",
       "  \"/>\n",
       "<polyline clip-path=\"url(#clip712)\" style=\"stroke:#000000; stroke-linecap:butt; stroke-linejoin:round; stroke-width:2; stroke-opacity:0.1; fill:none\" points=\"\n",
       "  193.936,427.131 2352.76,427.131 \n",
       "  \"/>\n",
       "<polyline clip-path=\"url(#clip712)\" style=\"stroke:#000000; stroke-linecap:butt; stroke-linejoin:round; stroke-width:2; stroke-opacity:0.1; fill:none\" points=\"\n",
       "  193.936,87.5412 2352.76,87.5412 \n",
       "  \"/>\n",
       "<polyline clip-path=\"url(#clip710)\" style=\"stroke:#000000; stroke-linecap:butt; stroke-linejoin:round; stroke-width:4; stroke-opacity:1; fill:none\" points=\"\n",
       "  193.936,1486.45 193.936,47.2441 \n",
       "  \"/>\n",
       "<polyline clip-path=\"url(#clip710)\" style=\"stroke:#000000; stroke-linecap:butt; stroke-linejoin:round; stroke-width:4; stroke-opacity:1; fill:none\" points=\"\n",
       "  193.936,1445.9 212.834,1445.9 \n",
       "  \"/>\n",
       "<polyline clip-path=\"url(#clip710)\" style=\"stroke:#000000; stroke-linecap:butt; stroke-linejoin:round; stroke-width:4; stroke-opacity:1; fill:none\" points=\"\n",
       "  193.936,1106.31 212.834,1106.31 \n",
       "  \"/>\n",
       "<polyline clip-path=\"url(#clip710)\" style=\"stroke:#000000; stroke-linecap:butt; stroke-linejoin:round; stroke-width:4; stroke-opacity:1; fill:none\" points=\"\n",
       "  193.936,766.721 212.834,766.721 \n",
       "  \"/>\n",
       "<polyline clip-path=\"url(#clip710)\" style=\"stroke:#000000; stroke-linecap:butt; stroke-linejoin:round; stroke-width:4; stroke-opacity:1; fill:none\" points=\"\n",
       "  193.936,427.131 212.834,427.131 \n",
       "  \"/>\n",
       "<polyline clip-path=\"url(#clip710)\" style=\"stroke:#000000; stroke-linecap:butt; stroke-linejoin:round; stroke-width:4; stroke-opacity:1; fill:none\" points=\"\n",
       "  193.936,87.5412 212.834,87.5412 \n",
       "  \"/>\n",
       "<path clip-path=\"url(#clip710)\" d=\"M50.9921 1446.35 L80.6679 1446.35 L80.6679 1450.29 L50.9921 1450.29 L50.9921 1446.35 Z\" fill=\"#000000\" fill-rule=\"evenodd\" fill-opacity=\"1\" /><path clip-path=\"url(#clip710)\" d=\"M91.5706 1459.25 L99.2095 1459.25 L99.2095 1432.88 L90.8993 1434.55 L90.8993 1430.29 L99.1632 1428.62 L103.839 1428.62 L103.839 1459.25 L111.478 1459.25 L111.478 1463.18 L91.5706 1463.18 L91.5706 1459.25 Z\" fill=\"#000000\" fill-rule=\"evenodd\" fill-opacity=\"1\" /><path clip-path=\"url(#clip710)\" d=\"M120.922 1457.3 L125.807 1457.3 L125.807 1463.18 L120.922 1463.18 L120.922 1457.3 Z\" fill=\"#000000\" fill-rule=\"evenodd\" fill-opacity=\"1\" /><path clip-path=\"url(#clip710)\" d=\"M145.992 1431.7 Q142.381 1431.7 140.552 1435.27 Q138.746 1438.81 138.746 1445.94 Q138.746 1453.04 140.552 1456.61 Q142.381 1460.15 145.992 1460.15 Q149.626 1460.15 151.431 1456.61 Q153.26 1453.04 153.26 1445.94 Q153.26 1438.81 151.431 1435.27 Q149.626 1431.7 145.992 1431.7 M145.992 1428 Q151.802 1428 154.857 1432.6 Q157.936 1437.19 157.936 1445.94 Q157.936 1454.66 154.857 1459.27 Q151.802 1463.85 145.992 1463.85 Q140.181 1463.85 137.103 1459.27 Q134.047 1454.66 134.047 1445.94 Q134.047 1437.19 137.103 1432.6 Q140.181 1428 145.992 1428 Z\" fill=\"#000000\" fill-rule=\"evenodd\" fill-opacity=\"1\" /><path clip-path=\"url(#clip710)\" d=\"M51.9875 1106.76 L81.6633 1106.76 L81.6633 1110.7 L51.9875 1110.7 L51.9875 1106.76 Z\" fill=\"#000000\" fill-rule=\"evenodd\" fill-opacity=\"1\" /><path clip-path=\"url(#clip710)\" d=\"M101.756 1092.11 Q98.1447 1092.11 96.316 1095.68 Q94.5104 1099.22 94.5104 1106.35 Q94.5104 1113.45 96.316 1117.02 Q98.1447 1120.56 101.756 1120.56 Q105.39 1120.56 107.196 1117.02 Q109.024 1113.45 109.024 1106.35 Q109.024 1099.22 107.196 1095.68 Q105.39 1092.11 101.756 1092.11 M101.756 1088.41 Q107.566 1088.41 110.621 1093.01 Q113.7 1097.6 113.7 1106.35 Q113.7 1115.07 110.621 1119.68 Q107.566 1124.26 101.756 1124.26 Q95.9456 1124.26 92.8669 1119.68 Q89.8114 1115.07 89.8114 1106.35 Q89.8114 1097.6 92.8669 1093.01 Q95.9456 1088.41 101.756 1088.41 Z\" fill=\"#000000\" fill-rule=\"evenodd\" fill-opacity=\"1\" /><path clip-path=\"url(#clip710)\" d=\"M121.918 1117.71 L126.802 1117.71 L126.802 1123.59 L121.918 1123.59 L121.918 1117.71 Z\" fill=\"#000000\" fill-rule=\"evenodd\" fill-opacity=\"1\" /><path clip-path=\"url(#clip710)\" d=\"M137.033 1089.03 L155.39 1089.03 L155.39 1092.97 L141.316 1092.97 L141.316 1101.44 Q142.334 1101.09 143.353 1100.93 Q144.371 1100.74 145.39 1100.74 Q151.177 1100.74 154.556 1103.92 Q157.936 1107.09 157.936 1112.5 Q157.936 1118.08 154.464 1121.18 Q150.992 1124.26 144.672 1124.26 Q142.496 1124.26 140.228 1123.89 Q137.982 1123.52 135.575 1122.78 L135.575 1118.08 Q137.658 1119.22 139.881 1119.77 Q142.103 1120.33 144.58 1120.33 Q148.584 1120.33 150.922 1118.22 Q153.26 1116.11 153.26 1112.5 Q153.26 1108.89 150.922 1106.79 Q148.584 1104.68 144.58 1104.68 Q142.705 1104.68 140.83 1105.1 Q138.978 1105.51 137.033 1106.39 L137.033 1089.03 Z\" fill=\"#000000\" fill-rule=\"evenodd\" fill-opacity=\"1\" /><path clip-path=\"url(#clip710)\" d=\"M100.76 752.52 Q97.1493 752.52 95.3206 756.085 Q93.515 759.627 93.515 766.756 Q93.515 773.863 95.3206 777.427 Q97.1493 780.969 100.76 780.969 Q104.395 780.969 106.2 777.427 Q108.029 773.863 108.029 766.756 Q108.029 759.627 106.2 756.085 Q104.395 752.52 100.76 752.52 M100.76 748.816 Q106.571 748.816 109.626 753.423 Q112.705 758.006 112.705 766.756 Q112.705 775.483 109.626 780.089 Q106.571 784.673 100.76 784.673 Q94.9502 784.673 91.8715 780.089 Q88.816 775.483 88.816 766.756 Q88.816 758.006 91.8715 753.423 Q94.9502 748.816 100.76 748.816 Z\" fill=\"#000000\" fill-rule=\"evenodd\" fill-opacity=\"1\" /><path clip-path=\"url(#clip710)\" d=\"M120.922 778.122 L125.807 778.122 L125.807 784.001 L120.922 784.001 L120.922 778.122 Z\" fill=\"#000000\" fill-rule=\"evenodd\" fill-opacity=\"1\" /><path clip-path=\"url(#clip710)\" d=\"M145.992 752.52 Q142.381 752.52 140.552 756.085 Q138.746 759.627 138.746 766.756 Q138.746 773.863 140.552 777.427 Q142.381 780.969 145.992 780.969 Q149.626 780.969 151.431 777.427 Q153.26 773.863 153.26 766.756 Q153.26 759.627 151.431 756.085 Q149.626 752.52 145.992 752.52 M145.992 748.816 Q151.802 748.816 154.857 753.423 Q157.936 758.006 157.936 766.756 Q157.936 775.483 154.857 780.089 Q151.802 784.673 145.992 784.673 Q140.181 784.673 137.103 780.089 Q134.047 775.483 134.047 766.756 Q134.047 758.006 137.103 753.423 Q140.181 748.816 145.992 748.816 Z\" fill=\"#000000\" fill-rule=\"evenodd\" fill-opacity=\"1\" /><path clip-path=\"url(#clip710)\" d=\"M101.756 412.93 Q98.1447 412.93 96.316 416.495 Q94.5104 420.036 94.5104 427.166 Q94.5104 434.273 96.316 437.837 Q98.1447 441.379 101.756 441.379 Q105.39 441.379 107.196 437.837 Q109.024 434.273 109.024 427.166 Q109.024 420.036 107.196 416.495 Q105.39 412.93 101.756 412.93 M101.756 409.226 Q107.566 409.226 110.621 413.833 Q113.7 418.416 113.7 427.166 Q113.7 435.893 110.621 440.499 Q107.566 445.083 101.756 445.083 Q95.9456 445.083 92.8669 440.499 Q89.8114 435.893 89.8114 427.166 Q89.8114 418.416 92.8669 413.833 Q95.9456 409.226 101.756 409.226 Z\" fill=\"#000000\" fill-rule=\"evenodd\" fill-opacity=\"1\" /><path clip-path=\"url(#clip710)\" d=\"M121.918 438.532 L126.802 438.532 L126.802 444.411 L121.918 444.411 L121.918 438.532 Z\" fill=\"#000000\" fill-rule=\"evenodd\" fill-opacity=\"1\" /><path clip-path=\"url(#clip710)\" d=\"M137.033 409.851 L155.39 409.851 L155.39 413.787 L141.316 413.787 L141.316 422.259 Q142.334 421.911 143.353 421.749 Q144.371 421.564 145.39 421.564 Q151.177 421.564 154.556 424.736 Q157.936 427.907 157.936 433.323 Q157.936 438.902 154.464 442.004 Q150.992 445.083 144.672 445.083 Q142.496 445.083 140.228 444.712 Q137.982 444.342 135.575 443.601 L135.575 438.902 Q137.658 440.036 139.881 440.592 Q142.103 441.147 144.58 441.147 Q148.584 441.147 150.922 439.041 Q153.26 436.935 153.26 433.323 Q153.26 429.712 150.922 427.606 Q148.584 425.499 144.58 425.499 Q142.705 425.499 140.83 425.916 Q138.978 426.333 137.033 427.212 L137.033 409.851 Z\" fill=\"#000000\" fill-rule=\"evenodd\" fill-opacity=\"1\" /><path clip-path=\"url(#clip710)\" d=\"M91.5706 100.886 L99.2095 100.886 L99.2095 74.5205 L90.8993 76.1871 L90.8993 71.9279 L99.1632 70.2612 L103.839 70.2612 L103.839 100.886 L111.478 100.886 L111.478 104.821 L91.5706 104.821 L91.5706 100.886 Z\" fill=\"#000000\" fill-rule=\"evenodd\" fill-opacity=\"1\" /><path clip-path=\"url(#clip710)\" d=\"M120.922 98.9416 L125.807 98.9416 L125.807 104.821 L120.922 104.821 L120.922 98.9416 Z\" fill=\"#000000\" fill-rule=\"evenodd\" fill-opacity=\"1\" /><path clip-path=\"url(#clip710)\" d=\"M145.992 73.3399 Q142.381 73.3399 140.552 76.9047 Q138.746 80.4463 138.746 87.5759 Q138.746 94.6824 140.552 98.2472 Q142.381 101.789 145.992 101.789 Q149.626 101.789 151.431 98.2472 Q153.26 94.6824 153.26 87.5759 Q153.26 80.4463 151.431 76.9047 Q149.626 73.3399 145.992 73.3399 M145.992 69.6362 Q151.802 69.6362 154.857 74.2427 Q157.936 78.826 157.936 87.5759 Q157.936 96.3027 154.857 100.909 Q151.802 105.493 145.992 105.493 Q140.181 105.493 137.103 100.909 Q134.047 96.3027 134.047 87.5759 Q134.047 78.826 137.103 74.2427 Q140.181 69.6362 145.992 69.6362 Z\" fill=\"#000000\" fill-rule=\"evenodd\" fill-opacity=\"1\" /><polyline clip-path=\"url(#clip712)\" style=\"stroke:#009af9; stroke-linecap:butt; stroke-linejoin:round; stroke-width:4; stroke-opacity:1; fill:none\" points=\"\n",
       "  255.035,115.439 260.007,110.93 264.979,106.812 269.952,103.087 274.924,99.7575 297.912,89.5578 320.9,87.9763 343.888,95.0332 366.877,110.639 389.865,134.594 \n",
       "  412.853,166.595 435.841,206.233 458.829,253.004 486.459,317.813 514.089,390.87 541.719,470.835 569.348,556.237 616.07,708.592 662.791,863.993 713.544,1026.77 \n",
       "  764.296,1173.47 787.691,1233.14 811.085,1286.65 834.48,1333.31 857.875,1372.5 882.956,1405.64 908.038,1429.1 933.119,1442.53 958.201,1445.72 987.26,1436.56 \n",
       "  1016.32,1413.78 1045.38,1377.86 1074.44,1329.51 1100.26,1276.91 1126.09,1216.12 1151.91,1148.11 1177.74,1073.98 1223.03,932.82 1268.32,783.48 1317.7,619.973 \n",
       "  1367.08,465.052 1391.92,393.268 1416.75,327.032 1441.59,267.326 1466.43,215.038 1493.89,166.794 1521.35,129.439 1548.81,103.653 1576.27,89.903 1602.4,88.2248 \n",
       "  1628.52,97.6981 1654.65,118.167 1680.78,149.296 1707.95,192.414 1735.11,245.737 1762.28,308.315 1789.45,379.038 1835.18,512.959 1880.92,659.625 1936.76,845.218 \n",
       "  1992.6,1024.95 2018.85,1103.53 2045.09,1176.53 2071.34,1242.74 2097.58,1301.05 2118.61,1341.41 2139.63,1375.65 2160.65,1403.41 2181.68,1424.38 2202.7,1438.36 \n",
       "  2223.73,1445.19 2244.75,1444.79 2265.77,1437.17 2272.24,1433.38 2278.72,1428.92 2285.19,1423.8 2291.66,1418 \n",
       "  \"/>\n",
       "<path clip-path=\"url(#clip710)\" d=\"\n",
       "M1988.5 198.898 L2280.8 198.898 L2280.8 95.2176 L1988.5 95.2176  Z\n",
       "  \" fill=\"#ffffff\" fill-rule=\"evenodd\" fill-opacity=\"1\"/>\n",
       "<polyline clip-path=\"url(#clip710)\" style=\"stroke:#000000; stroke-linecap:butt; stroke-linejoin:round; stroke-width:4; stroke-opacity:1; fill:none\" points=\"\n",
       "  1988.5,198.898 2280.8,198.898 2280.8,95.2176 1988.5,95.2176 1988.5,198.898 \n",
       "  \"/>\n",
       "<polyline clip-path=\"url(#clip710)\" style=\"stroke:#009af9; stroke-linecap:butt; stroke-linejoin:round; stroke-width:4; stroke-opacity:1; fill:none\" points=\"\n",
       "  2012.48,147.058 2156.4,147.058 \n",
       "  \"/>\n",
       "<path clip-path=\"url(#clip710)\" d=\"M2194.23 166.745 Q2192.43 171.375 2190.72 172.787 Q2189 174.199 2186.13 174.199 L2182.73 174.199 L2182.73 170.634 L2185.23 170.634 Q2186.99 170.634 2187.96 169.8 Q2188.93 168.967 2190.11 165.865 L2190.88 163.921 L2180.39 138.412 L2184.91 138.412 L2193.01 158.689 L2201.11 138.412 L2205.62 138.412 L2194.23 166.745 Z\" fill=\"#000000\" fill-rule=\"evenodd\" fill-opacity=\"1\" /><path clip-path=\"url(#clip710)\" d=\"M2212.91 160.402 L2220.55 160.402 L2220.55 134.037 L2212.24 135.703 L2212.24 131.444 L2220.51 129.778 L2225.18 129.778 L2225.18 160.402 L2232.82 160.402 L2232.82 164.338 L2212.91 164.338 L2212.91 160.402 Z\" fill=\"#000000\" fill-rule=\"evenodd\" fill-opacity=\"1\" /></svg>\n"
      ]
     },
     "execution_count": 10,
     "metadata": {},
     "output_type": "execute_result"
    }
   ],
   "source": [
    "plot(x -> sin(x))"
   ]
  },
  {
   "cell_type": "markdown",
   "metadata": {},
   "source": [
    "もちろん，引数が複数の場合にも対応している．"
   ]
  },
  {
   "cell_type": "code",
   "execution_count": null,
   "metadata": {},
   "outputs": [],
   "source": [
    "(a,b) -> a+b"
   ]
  },
  {
   "cell_type": "markdown",
   "metadata": {},
   "source": [
    "　"
   ]
  },
  {
   "cell_type": "markdown",
   "metadata": {},
   "source": [
    "#### 4.1.2 複数の返り値を持つ関数\n",
    "\n",
    "例えば，変数（もちろん何個あっても構わないが）に何かを演算を施し，結果を多変数で返したいときを考えたいとしよう（数学的にいう *ベクトル関数* というものである）．\n",
    "\n",
    "その場合のプログラミングは以下のようになる．下のセルでは，例として2変数`x`，`y`に対し，`x+y`，`x-y`を同時に返すプログラムである："
   ]
  },
  {
   "cell_type": "code",
   "execution_count": 13,
   "metadata": {},
   "outputs": [
    {
     "data": {
      "text/plain": [
       "hoge (generic function with 1 method)"
      ]
     },
     "execution_count": 13,
     "metadata": {},
     "output_type": "execute_result"
    }
   ],
   "source": [
    "function hoge(a, b)\n",
    "    a+b, a-b\n",
    "end"
   ]
  },
  {
   "cell_type": "code",
   "execution_count": 14,
   "metadata": {},
   "outputs": [
    {
     "data": {
      "text/plain": [
       "(11, -1)"
      ]
     },
     "execution_count": 14,
     "metadata": {},
     "output_type": "execute_result"
    }
   ],
   "source": [
    "hoge(5,6)"
   ]
  },
  {
   "cell_type": "markdown",
   "metadata": {},
   "source": [
    "このように，結果をタプルで返してくれる．また，代入先もタプルで指定しておくと，タプルの値を簡単に成分ごとに分解してくれる．"
   ]
  },
  {
   "cell_type": "code",
   "execution_count": 15,
   "metadata": {},
   "outputs": [
    {
     "name": "stdout",
     "output_type": "stream",
     "text": [
      "11\n",
      "-1\n"
     ]
    }
   ],
   "source": [
    "x,y = hoge(5,6)\n",
    "\n",
    "println(x)\n",
    "println(y)"
   ]
  },
  {
   "cell_type": "markdown",
   "metadata": {},
   "source": [
    "　"
   ]
  },
  {
   "cell_type": "markdown",
   "metadata": {},
   "source": [
    "#### 4.1.3 関数を使用したプログラミング例\n",
    "\n",
    "ここでは，以前紹介したプログラム例を発展させた内容を紹介する．\n",
    "\n",
    "§3.2 条件分岐処理 の中の例で，「判別式による二次方程式の解の分類」という例を紹介した．"
   ]
  },
  {
   "cell_type": "markdown",
   "metadata": {},
   "source": [
    "【再掲】*判別式による二次方程式の解の分類*"
   ]
  },
  {
   "cell_type": "code",
   "execution_count": 18,
   "metadata": {},
   "outputs": [
    {
     "name": "stdout",
     "output_type": "stream",
     "text": [
      "1x²+2x+3 = 0 は2つの虚数解を持つ．"
     ]
    }
   ],
   "source": [
    "a,b,c = 1,2,3 # 二次方程式の各係数\n",
    "\n",
    "\n",
    "D = b^2 - 4*a*c # 二次方程式の判別式\n",
    "\n",
    "if b >= 0\n",
    "    B = \"+\"*string(b)\n",
    "else\n",
    "    B = string(b)\n",
    "end\n",
    "\n",
    "if c >= 0\n",
    "    C = \"+\"*string(c)\n",
    "else\n",
    "    C = string(c)\n",
    "end\n",
    "\n",
    "print(string(a)*\"x²\"*B*\"x\"*C*\" = 0 は\")\n",
    "\n",
    "if D > 0\n",
    "    print(\"2つの実数解を持つ．\")\n",
    "    \n",
    "elseif D == 0\n",
    "    print(\"1つの実数解(重解)を持つ．\")\n",
    "    \n",
    "else\n",
    "    print(\"2つの虚数解を持つ．\")\n",
    "end"
   ]
  },
  {
   "cell_type": "markdown",
   "metadata": {},
   "source": [
    "今回はこのコードをさらに発展させ，二次方程式の判別式を計算し，それが\n",
    "- 正の時は実数解\n",
    "- 零の時は重解\n",
    "- 負の時は虚数解\n",
    "\n",
    "を計算するプログラムに改造してみよう．\n",
    "\n",
    "まずは，「判別式による二次方程式の解の分類」のコードを関数として表現してみよう．"
   ]
  },
  {
   "cell_type": "code",
   "execution_count": 19,
   "metadata": {},
   "outputs": [
    {
     "data": {
      "text/plain": [
       "discriminant (generic function with 1 method)"
      ]
     },
     "execution_count": 19,
     "metadata": {},
     "output_type": "execute_result"
    }
   ],
   "source": [
    "function discriminant(a, b, c)\n",
    "    \"\"\"\n",
    "    a x**2 + b x + c = 0 の解が存在するか調べるプログラム．\n",
    "    ２つの実根が存在する場合は `2つの実数解を持つ．` ，重根が存在する場合は `1つの実数解(重解)を持つ．`を，\n",
    "    ２つの虚根が存在する場合は `2つの虚数解を持つ．` と表示する．\n",
    "    \"\"\"\n",
    "    D = b^2 - 4*a*c # 二次方程式の判別式\n",
    "    \n",
    "    if D > 0\n",
    "        println(\"2つの実数解を持つ．\")\n",
    "    \n",
    "    elseif D == 0\n",
    "        println(\"1つの実数解(重解)を持つ．\")\n",
    "    \n",
    "    else\n",
    "        println(\"2つの虚数解を持つ．\")\n",
    "    end\n",
    "    \n",
    "    return D\n",
    "end"
   ]
  },
  {
   "cell_type": "code",
   "execution_count": 22,
   "metadata": {},
   "outputs": [
    {
     "name": "stdout",
     "output_type": "stream",
     "text": [
      "2つの実数解を持つ．\n"
     ]
    },
    {
     "data": {
      "text/plain": [
       "364"
      ]
     },
     "execution_count": 22,
     "metadata": {},
     "output_type": "execute_result"
    }
   ],
   "source": [
    "discriminant(1,2,3)"
   ]
  },
  {
   "cell_type": "markdown",
   "metadata": {},
   "source": [
    "確かに上手く動いていることがわかる．また，出力結果は判別式の値である．\n",
    "\n",
    "これをもとに，残りの部分を関数として組み込んでいくと，下のセルのようになる．"
   ]
  },
  {
   "cell_type": "code",
   "execution_count": 23,
   "metadata": {},
   "outputs": [
    {
     "data": {
      "text/plain": [
       "solve (generic function with 1 method)"
      ]
     },
     "execution_count": 23,
     "metadata": {},
     "output_type": "execute_result"
    }
   ],
   "source": [
    "function solve(a, b, c)\n",
    "    \n",
    "    if b >= 0\n",
    "        B = \"+\"*string(b)\n",
    "    else\n",
    "        B = string(b)\n",
    "    end\n",
    "\n",
    "    if c >= 0\n",
    "        C = \"+\"*string(c)\n",
    "    else\n",
    "        C = string(c)\n",
    "    end\n",
    "\n",
    "    print(string(a)*\"x²\"*B*\"x\"*C*\" = 0 は\")\n",
    "    \n",
    "    D = discriminant(a, b, c)\n",
    "    \n",
    "    √D = sqrt(Complex(D))   # Complex()で複素数を対応させる．\n",
    "    \n",
    "    x1 = (-b + √D)/ (2*a)\n",
    "    x2 = (-b - √D)/ (2*a)\n",
    "    \n",
    "    println(\"また，その解は \\nx = \"*string(x1)*\", \"*string(x2)*\"\\nである．\" )\n",
    "    \n",
    "    return x1, x2\n",
    "    \n",
    "end"
   ]
  },
  {
   "cell_type": "code",
   "execution_count": 24,
   "metadata": {},
   "outputs": [
    {
     "name": "stdout",
     "output_type": "stream",
     "text": [
      "1x²+2x+3 = 0 は2つの虚数解を持つ．\n",
      "また，その解は \n",
      "x = -1.0 + 1.4142135623730951im, -1.0 - 1.4142135623730951im\n",
      "である．\n"
     ]
    },
    {
     "data": {
      "text/plain": [
       "(-1.0 + 1.4142135623730951im, -1.0 - 1.4142135623730951im)"
      ]
     },
     "execution_count": 24,
     "metadata": {},
     "output_type": "execute_result"
    }
   ],
   "source": [
    "solve(1, 2, 3) "
   ]
  },
  {
   "cell_type": "markdown",
   "metadata": {},
   "source": [
    "この関数の返り値を`x1, x2`（二次方程式の解）としておくことで，この値を使いまわすことが可能である．"
   ]
  },
  {
   "cell_type": "code",
   "execution_count": null,
   "metadata": {},
   "outputs": [],
   "source": [
    "x, y = solve(1, 2, 3) "
   ]
  },
  {
   "cell_type": "code",
   "execution_count": null,
   "metadata": {},
   "outputs": [],
   "source": [
    "println(x)\n",
    "println(y)"
   ]
  },
  {
   "cell_type": "markdown",
   "metadata": {},
   "source": [
    "この通り，`x, y`という変数に「二次方程式の解」という出力結果を代入出来ている．"
   ]
  },
  {
   "cell_type": "markdown",
   "metadata": {},
   "source": [
    "　"
   ]
  },
  {
   "cell_type": "markdown",
   "metadata": {},
   "source": [
    "　"
   ]
  },
  {
   "cell_type": "markdown",
   "metadata": {},
   "source": [
    "### *4.2 変数のスコープ\n",
    "\n",
    "プログラミングする際，変数が入れ子の中にあるか外にあるかで，同じ名前の変数であってもその挙動を異にすることが往々にしてある．変数がいまどの範囲までを参照しているかという概念を**変数スコープ**と呼ぶ．\n",
    "\n",
    "特定のJuliaの構文は <u>スコープブロック(scope block)</u> を作る．スコープブロックは何らかの変数の集合に対するスコープとして使われるコード領域のことである．\n",
    "\n",
    "また，参照するスコープの階層のことを<u>スコープレベル(scope level)</u>という．これは構文が何個入れ子になってる箇所で変数が生きているかを指す概念である．\n",
    "\n",
    "一例として，下のセルを実行し，Juliaにおける変数スコープを確認してみよう．"
   ]
  },
  {
   "cell_type": "code",
   "execution_count": 28,
   "metadata": {},
   "outputs": [
    {
     "name": "stdout",
     "output_type": "stream",
     "text": [
      " inner scope: 30, 500\n",
      " outer scope: 30, 500\n",
      "global scope: 1, 2\n"
     ]
    }
   ],
   "source": [
    "a, b = 1, 2;\n",
    "let a=30, b=40\n",
    "    let \n",
    "        b=500\n",
    "        println(\" inner scope: $a, $b\")\n",
    "    end\n",
    "    println(\" outer scope: $a, $b\")\n",
    "end\n",
    "println(\"global scope: $a, $b\")"
   ]
  },
  {
   "cell_type": "markdown",
   "metadata": {},
   "source": [
    "上のセルで用いているlet～end文は，let～end文の中だけで使える変数を作り出す文だと思ってもらえれば良い．\n",
    "\n",
    "このように，<u>あるブロック</u>（構文の開始から`end`までのひと塊のこと．例えば，function～end文や，for～end文，if～end文など．）<u>内でのみ使える変数</u>のことを**ローカル変数**(または局所変数)という．\n",
    "\n",
    "例えば，上のセルではlet～end文で作られるスコープレベルによって，変数の指す値が変わっていることがわかる．\n",
    "\n",
    "さらに，一番最初に定義してある`a=1, b=2`はlet～end文の一番外ではその値を保持している．このようにどのブロックにも属さない箇所での変数を**グローバル変数**(または大域変数)といい，ブロック内で変更を受けても，ブロック外では変更を受けないような変数となる．\n",
    "\n",
    "ローカル変数に関しては，グローバル変数の値を引き継ぐものとそうでないものが存在する．このあたりの議論は本資料での議論の範疇を大きく超えるため割愛する．\n",
    "\n",
    "（詳しくは，https://docs.julialang.org/en/v1/manual/variables-and-scoping/ を参照のこと．）"
   ]
  }
 ],
 "metadata": {
  "kernelspec": {
   "display_name": "Julia 1.6.2",
   "language": "julia",
   "name": "julia-1.6"
  },
  "language_info": {
   "file_extension": ".jl",
   "mimetype": "application/julia",
   "name": "julia",
   "version": "1.6.2"
  }
 },
 "nbformat": 4,
 "nbformat_minor": 5
}
