{
 "cells": [
  {
   "cell_type": "markdown",
   "metadata": {},
   "source": [
    "# 数値解析ゼミ 〜Julia入門〜\n",
    "\n",
    "プログラミング言語の一つであるJuliaの基本的な使い方について述べていく．"
   ]
  },
  {
   "cell_type": "markdown",
   "metadata": {},
   "source": [
    "## 4. 関数の考え方\n",
    "\n",
    "3章にてJuliaの制御構造（繰り返し処理と条件分岐処理）を考えた．\n",
    "しかしここで，同じような処理を何度も行うプログラムを考えたとき，その何度も行う操作を操作の数だけコードを書くことは非効率である．\n",
    "\n",
    "そこで，同一の操作に対し，フレームワークを先に作っておくことを考えたくなる．プログラミングにおいて，同一の操作を汎用的に行うことができる仕組みを**関数**と呼ぶ．"
   ]
  },
  {
   "cell_type": "markdown",
   "metadata": {},
   "source": [
    "### 4.1 関数の定義\n",
    "\n",
    "関数は，**引数**で与えられた入力に対して，何か計算した結果を**返り値**として返すものである．\n",
    "\n",
    "関数は以下のように定義する．\n",
    "\n",
    "\n",
    "[構文] **function文**\n",
    "\n",
    "```\n",
    "function [関数の名前]（引数1, 引数2, ...）\n",
    "    return (返り値)\n",
    "end\n",
    "```\n"
   ]
  },
  {
   "cell_type": "markdown",
   "metadata": {},
   "source": [
    "ここでは例として，2つの一次元配列を引数にとり，その内積を計算する関数を作ってみる．"
   ]
  },
  {
   "cell_type": "code",
   "execution_count": null,
   "metadata": {},
   "outputs": [],
   "source": [
    "function inner_product(X, Y)\n",
    "    \n",
    "    dot = 0       # 初期値の設定 \n",
    "    \n",
    "    for i in 1:length(X)    # lengthで配列要素数の取得\n",
    "        dot += X[i] * Y[i]  # i.e.  dot(新) = dot(旧) + (X[i] * Y[i])\n",
    "    end\n",
    "    \n",
    "    return dot    # return で計算した値を返す\n",
    "    \n",
    "end"
   ]
  },
  {
   "cell_type": "markdown",
   "metadata": {},
   "source": [
    "この関数が実行されると，\n",
    "\n",
    "- まず，``dot``という変数が内部で定義され，初期値として値 $0$ が代入される．\n",
    "- 次に，`for` ループにより内積の値(`X[i]*Y[i]`)が`dot`に代入される．\n",
    "- 最後に，計算された`dot`の値がこの関数の出力として返される．\n",
    "\n",
    "という処理が，与える引数に対して行われる．"
   ]
  },
  {
   "cell_type": "code",
   "execution_count": null,
   "metadata": {},
   "outputs": [],
   "source": [
    "## 例1\n",
    "a = [1.0, 2.0]\n",
    "b = [2.0, 1.0]\n",
    "print(inner_product(a,b))"
   ]
  },
  {
   "cell_type": "code",
   "execution_count": null,
   "metadata": {},
   "outputs": [],
   "source": [
    "## 例2\n",
    "x = [3, 5]\n",
    "y = [12, 4]\n",
    "print(inner_product(x,y))"
   ]
  },
  {
   "cell_type": "markdown",
   "metadata": {},
   "source": [
    "このように，一度関数を定義してしまえば，繰り返し用いることができる．\n",
    "\n",
    "また，上の例1，例2のセルではそれぞれ違う文字の変数を代入しているが，問題なく`inner_product`関数で計算出来ている．\n",
    "すなわち，`inner_product`関数を定義する際に使用した変数`X`，`Y`はあくまで関数の構造を決定するための“仮引数”であることがわかる．この“仮引数”のことを**ローカル変数**（局所変数）という（詳細は後述）．"
   ]
  },
  {
   "cell_type": "markdown",
   "metadata": {},
   "source": [
    "　\n",
    "\n",
    "実は，関数の作成は「§1.3 シンボリック計算」の節で行っていた(!!!)． §1.3では準備として関数 $f(t) = t^2 + 3t + 2$ を用意するのに，"
   ]
  },
  {
   "cell_type": "code",
   "execution_count": null,
   "metadata": {},
   "outputs": [],
   "source": [
    "f(t) = t^2 + 3t + 2"
   ]
  },
  {
   "cell_type": "markdown",
   "metadata": {},
   "source": [
    "として（数学と同様の記法で）自然に書いていたが，この記法はJuliaでは（プログラミングにおける）“関数”と同様の処理がなされている．\n",
    "\n",
    "実際，先ほど挙げた関数の構文に従って，$f(t) = t^2 + 3t + 2$ を書き直すと以下のようになる："
   ]
  },
  {
   "cell_type": "code",
   "execution_count": null,
   "metadata": {},
   "outputs": [],
   "source": [
    "function f(t)\n",
    "    t^2 + 3t + 2 \n",
    "end"
   ]
  },
  {
   "cell_type": "markdown",
   "metadata": {},
   "source": [
    "このことから，この2つの関数の定義は等価である．"
   ]
  },
  {
   "cell_type": "markdown",
   "metadata": {},
   "source": [
    "補足：\n",
    "\n",
    "上のセルで関数を定義する際にreturn文を挿入していないが，これはJuliaの仕様として関数の最後の文の値が返り値となるというルールを採用しているだけである．\n",
    "途中の文（あるいは変数）を返り値にしたい場合以外は，return文を挿入しなくても処理として問題ない．"
   ]
  },
  {
   "cell_type": "markdown",
   "metadata": {},
   "source": [
    "　"
   ]
  },
  {
   "cell_type": "markdown",
   "metadata": {},
   "source": [
    "#### *4.1.1 無名関数\n",
    "\n",
    "いままで，関数に名前をつけてきた（たとえば，`inner_product`や，`f`など）．これに対し，名前を持たない関数（**無名関数**）を定義することも可能である．\n",
    "\n",
    "すぐに使う目的の関数がない場合，無名関数で一時的に関数オブジェクトを作成しておくと便利である．\n",
    "\n",
    "（いちいち，名前付き関数を定義せずともテストできるということ．）"
   ]
  },
  {
   "cell_type": "markdown",
   "metadata": {},
   "source": [
    "無名関数のコーディング記法としては以下の例に挙げる2通りがある："
   ]
  },
  {
   "cell_type": "code",
   "execution_count": null,
   "metadata": {},
   "outputs": [],
   "source": [
    "x -> x^2 + 2x - 1"
   ]
  },
  {
   "cell_type": "code",
   "execution_count": null,
   "metadata": {},
   "outputs": [],
   "source": [
    "function (x)\n",
    "    x^2 + 2x - 1\n",
    "end"
   ]
  },
  {
   "cell_type": "markdown",
   "metadata": {},
   "source": [
    "無名関数を使う場合には上の記法を使う方が便利な場合が多い．しかも，`(入力) → (出力)`という直感的にも理解しやすい記法となっている．\n",
    "\n",
    "以下の例のように，特に`map`関数と一緒に用いると便利な場合が多い．"
   ]
  },
  {
   "cell_type": "code",
   "execution_count": null,
   "metadata": {},
   "outputs": [],
   "source": [
    "map(x -> x^2 + 2x - 1, [1, 3 ,-1])"
   ]
  },
  {
   "cell_type": "markdown",
   "metadata": {},
   "source": [
    "※ map関数は第1引数に関数を指定し，第2引数に変数の定義域を指定する．出力結果として，関数の出力結果に対する値域を返す．"
   ]
  },
  {
   "cell_type": "markdown",
   "metadata": {},
   "source": [
    "もちろん，引数が複数の場合にも対応している．"
   ]
  },
  {
   "cell_type": "code",
   "execution_count": null,
   "metadata": {},
   "outputs": [],
   "source": [
    "(a,b) -> a+b"
   ]
  },
  {
   "cell_type": "markdown",
   "metadata": {},
   "source": [
    "　"
   ]
  },
  {
   "cell_type": "markdown",
   "metadata": {},
   "source": [
    "#### 4.1.2 複数の返り値を持つ関数\n",
    "\n",
    "例えば，変数（もちろん何個あっても構わないが）に何かを演算を施し，結果を多変数で返したいときを考えたいとしよう（数学的にいう *ベクトル関数* というものである）．\n",
    "\n",
    "その場合のプログラミングは以下のようになる．下のセルでは，例として2変数`x`，`y`に対し，`x+y`，`x-y`を同時に返すプログラムである："
   ]
  },
  {
   "cell_type": "code",
   "execution_count": null,
   "metadata": {},
   "outputs": [],
   "source": [
    "function hoge(a, b)\n",
    "    a+b, a-b\n",
    "end"
   ]
  },
  {
   "cell_type": "code",
   "execution_count": null,
   "metadata": {},
   "outputs": [],
   "source": [
    "hoge(5,6)"
   ]
  },
  {
   "cell_type": "markdown",
   "metadata": {},
   "source": [
    "このように，結果をタプルで返してくれる．また，代入先もタプルで指定しておくと，タプルの値を簡単に成分ごとに分解してくれる．"
   ]
  },
  {
   "cell_type": "code",
   "execution_count": null,
   "metadata": {},
   "outputs": [],
   "source": [
    "x,y = hoge(5,6)\n",
    "\n",
    "println(x)\n",
    "println(y)"
   ]
  },
  {
   "cell_type": "markdown",
   "metadata": {},
   "source": [
    "　"
   ]
  },
  {
   "cell_type": "markdown",
   "metadata": {},
   "source": [
    "#### 4.1.3 関数を使用したプログラミング例\n",
    "\n",
    "ここでは，以前紹介したプログラム例を発展させた内容を紹介する．\n",
    "\n",
    "§3.2 条件分岐処理 の中の例で，「判別式による二次方程式の解の分類」という例を紹介した．"
   ]
  },
  {
   "cell_type": "markdown",
   "metadata": {},
   "source": [
    "【再掲】*判別式による二次方程式の解の分類*"
   ]
  },
  {
   "cell_type": "code",
   "execution_count": null,
   "metadata": {},
   "outputs": [],
   "source": [
    "a,b,c = 1,2,3 # 二次方程式の各係数\n",
    "\n",
    "\n",
    "D = b^2 - 4*a*c # 二次方程式の判別式\n",
    "\n",
    "if b >= 0\n",
    "    B = \"+\"*string(b)\n",
    "else\n",
    "    B = string(b)\n",
    "end\n",
    "\n",
    "if c >= 0\n",
    "    C = \"+\"*string(c)\n",
    "else\n",
    "    C = string(c)\n",
    "end\n",
    "\n",
    "print(string(a)*\"x²\"*B*\"x\"*C*\" = 0 は\")\n",
    "\n",
    "if D > 0\n",
    "    print(\"2つの実数解を持つ．\")\n",
    "    \n",
    "elseif D == 0\n",
    "    print(\"1つの実数解(重解)を持つ．\")\n",
    "    \n",
    "else\n",
    "    print(\"2つの虚数解を持つ．\")\n",
    "end"
   ]
  },
  {
   "cell_type": "markdown",
   "metadata": {},
   "source": [
    "今回はこのコードをさらに発展させ，二次方程式の判別式を計算し，それが\n",
    "- 正の時は実数解\n",
    "- 零の時は重解\n",
    "- 負の時は虚数解\n",
    "\n",
    "を計算するプログラムに改造してみよう．\n",
    "\n",
    "まずは，「判別式による二次方程式の解の分類」のコードを関数として表現してみよう．"
   ]
  },
  {
   "cell_type": "code",
   "execution_count": null,
   "metadata": {},
   "outputs": [],
   "source": [
    "function discriminant(a, b, c)\n",
    "    \"\"\"\n",
    "    a x**2 + b x + c = 0 の解が存在するか調べるプログラム．\n",
    "    ２つの実根が存在する場合は `2つの実数解を持つ．` ，重根が存在する場合は `1つの実数解(重解)を持つ．`を，\n",
    "    ２つの虚根が存在する場合は `2つの虚数解を持つ．` と表示する．\n",
    "    \"\"\"\n",
    "    D = b^2 - 4*a*c # 二次方程式の判別式\n",
    "    \n",
    "    if D > 0\n",
    "        println(\"2つの実数解を持つ．\")\n",
    "    \n",
    "    elseif D == 0\n",
    "        println(\"1つの実数解(重解)を持つ．\")\n",
    "    \n",
    "    else\n",
    "        println(\"2つの虚数解を持つ．\")\n",
    "    end\n",
    "    \n",
    "    return D\n",
    "end"
   ]
  },
  {
   "cell_type": "code",
   "execution_count": null,
   "metadata": {},
   "outputs": [],
   "source": [
    "discriminant(1, 2, 3)"
   ]
  },
  {
   "cell_type": "markdown",
   "metadata": {},
   "source": [
    "確かに上手く動いていることがわかる．また，出力結果は判別式の値である．\n",
    "\n",
    "これをもとに，残りの部分を関数として組み込んでいくと，下のセルのようになる．"
   ]
  },
  {
   "cell_type": "code",
   "execution_count": null,
   "metadata": {},
   "outputs": [],
   "source": [
    "function solve(a, b, c)\n",
    "    \n",
    "    if b >= 0\n",
    "        B = \"+\"*string(b)\n",
    "    else\n",
    "        B = string(b)\n",
    "    end\n",
    "\n",
    "    if c >= 0\n",
    "        C = \"+\"*string(c)\n",
    "    else\n",
    "        C = string(c)\n",
    "    end\n",
    "\n",
    "    print(string(a)*\"x²\"*B*\"x\"*C*\" = 0 は\")\n",
    "    \n",
    "    D = discriminant(a, b, c)\n",
    "    \n",
    "    √D = sqrt(Complex(D))\n",
    "    \n",
    "    x1 = (-b + √D)/ (2*a)\n",
    "    x2 = (-b - √D)/ (2*a)\n",
    "    \n",
    "    println(\"また，その解は \\nx = \"*string(x1)*\", \"*string(x2)*\"\\nである．\" )\n",
    "    \n",
    "    return x1, x2\n",
    "    \n",
    "end"
   ]
  },
  {
   "cell_type": "code",
   "execution_count": null,
   "metadata": {},
   "outputs": [],
   "source": [
    "solve(1, 2, 3) "
   ]
  },
  {
   "cell_type": "markdown",
   "metadata": {},
   "source": [
    "この関数の返り値を`x1, x2`（二次方程式の解）としておくことで，この値を使いまわすことが可能である．"
   ]
  },
  {
   "cell_type": "code",
   "execution_count": null,
   "metadata": {},
   "outputs": [],
   "source": [
    "x, y = solve(1, 2, 3) "
   ]
  },
  {
   "cell_type": "code",
   "execution_count": null,
   "metadata": {},
   "outputs": [],
   "source": [
    "println(x)\n",
    "println(y)"
   ]
  },
  {
   "cell_type": "markdown",
   "metadata": {},
   "source": [
    "この通り，`x, y`という変数に「二次方程式の解」という出力結果を代入出来ている．"
   ]
  },
  {
   "cell_type": "markdown",
   "metadata": {},
   "source": [
    "　"
   ]
  },
  {
   "cell_type": "markdown",
   "metadata": {},
   "source": [
    "　"
   ]
  },
  {
   "cell_type": "markdown",
   "metadata": {},
   "source": [
    "### *4.2 変数のスコープ\n",
    "\n",
    "プログラミングする際，変数が入れ子の中にあるか外にあるかで，同じ名前の変数であってもその挙動を異にすることが往々にしてある．変数がいまどの範囲までを参照しているかという概念を**変数スコープ**と呼ぶ．\n",
    "\n",
    "特定のJuliaの構文は <u>スコープブロック(scope block)</u> を作る．スコープブロックは何らかの変数の集合に対するスコープとして使われるコード領域のことである．\n",
    "\n",
    "また，参照するスコープの階層のことを<u>スコープレベル(scope level)</u>という．これは構文が何個入れ子になってる箇所で変数が生きているかを指す概念である．\n",
    "\n",
    "一例として，下のセルを実行し，Juliaにおける変数スコープを確認してみよう．"
   ]
  },
  {
   "cell_type": "code",
   "execution_count": null,
   "metadata": {},
   "outputs": [],
   "source": [
    "a, b = 1, 2;\n",
    "let a=30, b=40\n",
    "    let b=500\n",
    "        println(\" inner scope: $a, $b\")\n",
    "    end\n",
    "    println(\" outer scope: $a, $b\")\n",
    "end\n",
    "println(\"global scope: $a, $b\")"
   ]
  },
  {
   "cell_type": "markdown",
   "metadata": {},
   "source": [
    "上のセルで用いているlet～end文は，let～end文の中だけで使える変数を作り出す文だと思ってもらえれば良い．\n",
    "\n",
    "このように，<u>あるブロック</u>（構文の開始から`end`までのひと塊のこと．例えば，function～end文や，for～end文，if～end文など．）<u>内でのみ使える変数</u>のことを**ローカル変数**(または局所変数)という．\n",
    "\n",
    "例えば，上のセルではlet～end文で作られるスコープレベルによって，変数の指す値が変わっていることがわかる．\n",
    "\n",
    "さらに，一番最初に定義してある`a=1, b=2`はlet～end文の一番外ではその値を保持している．このようにどのブロックにも属さない箇所での変数を**グローバル変数**(または大域変数)といい，ブロック内で変更を受けても，ブロック外では変更を受けないような変数となる．\n",
    "\n",
    "ローカル変数に関しては，グローバル変数の値を引き継ぐものとそうでないものが存在する．このあたりの議論は本資料での議論の範疇を大きく超えるため割愛する．\n",
    "\n",
    "（詳しくは，https://docs.julialang.org/en/v1/manual/variables-and-scoping/ を参照のこと．）"
   ]
  }
 ],
 "metadata": {
  "kernelspec": {
   "display_name": "Julia 1.6.2",
   "language": "julia",
   "name": "julia-1.6"
  },
  "language_info": {
   "file_extension": ".jl",
   "mimetype": "application/julia",
   "name": "julia",
   "version": "1.6.2"
  }
 },
 "nbformat": 4,
 "nbformat_minor": 5
}
