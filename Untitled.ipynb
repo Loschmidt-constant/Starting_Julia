{
 "cells": [
  {
   "cell_type": "markdown",
   "id": "c9d2c80d",
   "metadata": {},
   "source": [
    "## 前のバージョン"
   ]
  },
  {
   "cell_type": "code",
   "execution_count": null,
   "id": "00f2730d",
   "metadata": {},
   "outputs": [],
   "source": [
    "function Plot()\n",
    "\n",
    "    for i in 1:1000\n",
    "        \n",
    "        plot!(spacetime(), 0:1:T_max, xlabel=L\"x(t)\", ylabel=L\"t\", \n",
    "            legend=:none, color=:grey31, linewidth=1.0, \n",
    "            linestyle=:solid, grid=:none)\n",
    "    \n",
    "    end\n",
    "    \n",
    "    savefig(\"spacetame_127and128_nonalt_\" *string(M)* \",L1=\" *string(L1)* \",\n",
    "        L2=\" *string(L2)* \",N=\" *string(N)* \",T_max=\" *string(T_max)* \".pdf\")\n",
    "\n",
    "end"
   ]
  },
  {
   "cell_type": "markdown",
   "id": "1adf5150",
   "metadata": {},
   "source": [
    "　"
   ]
  },
  {
   "cell_type": "markdown",
   "id": "e98ca40b",
   "metadata": {},
   "source": [
    "　"
   ]
  },
  {
   "cell_type": "markdown",
   "id": "a4338d34",
   "metadata": {},
   "source": [
    "## 直したバージョン"
   ]
  },
  {
   "cell_type": "code",
   "execution_count": null,
   "id": "a0838754",
   "metadata": {},
   "outputs": [],
   "source": [
    "function Plot()\n",
    "    \n",
    "    plot(spacetime(), 0:1:T_max, xlabel=L\"x(t)\", ylabel=L\"t\", legend=:none, \n",
    "        color=:grey31, linewidth=1.0, linestyle=:solid, grid=:none)\n",
    "    \n",
    "    for i in 1:M-1\n",
    "    \n",
    "        plot!(spacetime(), 0:1:T_max, xlabel=L\"x(t)\", ylabel=L\"t\", \n",
    "            legend=:none, color=:grey31, linewidth=1.0, \n",
    "            linestyle=:solid, grid=:none)\n",
    "    \n",
    "    end\n",
    "    \n",
    "    savefig(\"spacetame_127and128_nonalt_\" *string(M)* \",L1=\" *string(L1)* \",\n",
    "        L2=\" *string(L2)* \",N=\" *string(N)* \",T_max=\" *string(T_max)* \".pdf\")\n",
    "\n",
    "end"
   ]
  }
 ],
 "metadata": {
  "kernelspec": {
   "display_name": "Julia 1.6.2",
   "language": "julia",
   "name": "julia-1.6"
  },
  "language_info": {
   "file_extension": ".jl",
   "mimetype": "application/julia",
   "name": "julia",
   "version": "1.6.2"
  }
 },
 "nbformat": 4,
 "nbformat_minor": 5
}
